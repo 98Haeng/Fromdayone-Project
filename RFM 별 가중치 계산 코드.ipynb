{
 "cells": [
  {
   "cell_type": "code",
   "execution_count": 28,
   "metadata": {},
   "outputs": [],
   "source": [
    "#라이브러리 불러오기\n",
    "import numpy as np\n",
    "import pandas as pd\n",
    "from tqdm import tqdm"
   ]
  },
  {
   "cell_type": "code",
   "execution_count": 29,
   "metadata": {},
   "outputs": [],
   "source": [
    "# R, F, M 데이터 불러오기\n",
    "R = pd.read_csv(\"C:/Users/alsrn/파이썬/프롬데이원 1분기 20% 최근 구매일 점수 .csv\")\n",
    "F = pd.read_csv(\"C:/Users/alsrn/파이썬/프롬데이원 1분기 20% 주문수 점수 .csv\")\n",
    "M = pd.read_csv(\"C:/Users/alsrn/파이썬/프롬데이원 1분기 20% 구매액 점수 .csv\")"
   ]
  },
  {
   "cell_type": "code",
   "execution_count": 30,
   "metadata": {},
   "outputs": [
    {
     "name": "stdout",
     "output_type": "stream",
     "text": [
      "                     주문자ID번호  R점수\n",
      "0              010-4424-2132    5\n",
      "1                정다인ekdl****    5\n",
      "2       sts1126010-2333-9158    5\n",
      "3  1608705113@k010-3501-0244    5\n",
      "4              010-9244-6315    5\n",
      "(4774, 2)\n"
     ]
    }
   ],
   "source": [
    "print(R.head())\n",
    "print(R.shape)"
   ]
  },
  {
   "cell_type": "code",
   "execution_count": 31,
   "metadata": {},
   "outputs": [
    {
     "name": "stdout",
     "output_type": "stream",
     "text": [
      "                  주문자ID번호  F점수\n",
      "0  amber0504010-0000-0000    5\n",
      "1  amanda123010-4786-6885    5\n",
      "2       wood010-9599-9787    5\n",
      "3     vminis010-8006-1617    5\n",
      "4    sjin829010-3422-7118    5\n",
      "(4774, 2)\n"
     ]
    }
   ],
   "source": [
    "print(F.head())\n",
    "print(F.shape)"
   ]
  },
  {
   "cell_type": "code",
   "execution_count": 32,
   "metadata": {},
   "outputs": [
    {
     "name": "stdout",
     "output_type": "stream",
     "text": [
      "                      주문자ID번호  M점수         총구매액\n",
      "0      amber0504010-0000-0000    5  198499193.3\n",
      "1           wood010-9599-9787    5   51883949.0\n",
      "2      amanda123010-4786-6885    5   42114915.0\n",
      "3  sandychan0210010-6315-2572    5   23343850.0\n",
      "4       mslove77010-9401-2384    5   20017500.0\n",
      "(4774, 3)\n"
     ]
    }
   ],
   "source": [
    "print(M.head())\n",
    "print(M.shape)"
   ]
  },
  {
   "cell_type": "code",
   "execution_count": 33,
   "metadata": {},
   "outputs": [],
   "source": [
    "# R, F, M 데이터 합치기\n",
    "RF = pd.merge(R, F, on=\"주문자ID번호\")\n",
    "RFM = pd.merge(RF,M, on=\"주문자ID번호\")"
   ]
  },
  {
   "cell_type": "code",
   "execution_count": 34,
   "metadata": {},
   "outputs": [
    {
     "data": {
      "text/plain": [
       "(4774, 5)"
      ]
     },
     "execution_count": 34,
     "metadata": {},
     "output_type": "execute_result"
    }
   ],
   "source": [
    "RFM.shape"
   ]
  },
  {
   "cell_type": "code",
   "execution_count": 35,
   "metadata": {},
   "outputs": [
    {
     "data": {
      "text/html": [
       "<div>\n",
       "<style scoped>\n",
       "    .dataframe tbody tr th:only-of-type {\n",
       "        vertical-align: middle;\n",
       "    }\n",
       "\n",
       "    .dataframe tbody tr th {\n",
       "        vertical-align: top;\n",
       "    }\n",
       "\n",
       "    .dataframe thead th {\n",
       "        text-align: right;\n",
       "    }\n",
       "</style>\n",
       "<table border=\"1\" class=\"dataframe\">\n",
       "  <thead>\n",
       "    <tr style=\"text-align: right;\">\n",
       "      <th></th>\n",
       "      <th>주문자ID번호</th>\n",
       "      <th>R점수</th>\n",
       "      <th>F점수</th>\n",
       "      <th>M점수</th>\n",
       "      <th>총구매액</th>\n",
       "    </tr>\n",
       "  </thead>\n",
       "  <tbody>\n",
       "    <tr>\n",
       "      <th>0</th>\n",
       "      <td>010-4424-2132</td>\n",
       "      <td>5</td>\n",
       "      <td>5</td>\n",
       "      <td>5</td>\n",
       "      <td>581521.0</td>\n",
       "    </tr>\n",
       "    <tr>\n",
       "      <th>1</th>\n",
       "      <td>정다인ekdl****</td>\n",
       "      <td>5</td>\n",
       "      <td>2</td>\n",
       "      <td>2</td>\n",
       "      <td>48500.0</td>\n",
       "    </tr>\n",
       "    <tr>\n",
       "      <th>2</th>\n",
       "      <td>sts1126010-2333-9158</td>\n",
       "      <td>5</td>\n",
       "      <td>3</td>\n",
       "      <td>4</td>\n",
       "      <td>285200.0</td>\n",
       "    </tr>\n",
       "    <tr>\n",
       "      <th>3</th>\n",
       "      <td>1608705113@k010-3501-0244</td>\n",
       "      <td>5</td>\n",
       "      <td>4</td>\n",
       "      <td>3</td>\n",
       "      <td>164200.0</td>\n",
       "    </tr>\n",
       "    <tr>\n",
       "      <th>4</th>\n",
       "      <td>010-9244-6315</td>\n",
       "      <td>5</td>\n",
       "      <td>1</td>\n",
       "      <td>1</td>\n",
       "      <td>40500.0</td>\n",
       "    </tr>\n",
       "    <tr>\n",
       "      <th>...</th>\n",
       "      <td>...</td>\n",
       "      <td>...</td>\n",
       "      <td>...</td>\n",
       "      <td>...</td>\n",
       "      <td>...</td>\n",
       "    </tr>\n",
       "    <tr>\n",
       "      <th>4769</th>\n",
       "      <td>cocoa232010-6207-9785</td>\n",
       "      <td>1</td>\n",
       "      <td>2</td>\n",
       "      <td>1</td>\n",
       "      <td>10000.0</td>\n",
       "    </tr>\n",
       "    <tr>\n",
       "      <th>4770</th>\n",
       "      <td>aodrmaqls010-9074-8598</td>\n",
       "      <td>1</td>\n",
       "      <td>3</td>\n",
       "      <td>4</td>\n",
       "      <td>286200.0</td>\n",
       "    </tr>\n",
       "    <tr>\n",
       "      <th>4771</th>\n",
       "      <td>chickenkk010-8020-3315</td>\n",
       "      <td>1</td>\n",
       "      <td>2</td>\n",
       "      <td>2</td>\n",
       "      <td>79000.0</td>\n",
       "    </tr>\n",
       "    <tr>\n",
       "      <th>4772</th>\n",
       "      <td>010-9979-8331</td>\n",
       "      <td>1</td>\n",
       "      <td>1</td>\n",
       "      <td>2</td>\n",
       "      <td>51000.0</td>\n",
       "    </tr>\n",
       "    <tr>\n",
       "      <th>4773</th>\n",
       "      <td>010-9696-1839</td>\n",
       "      <td>1</td>\n",
       "      <td>1</td>\n",
       "      <td>1</td>\n",
       "      <td>36554.0</td>\n",
       "    </tr>\n",
       "  </tbody>\n",
       "</table>\n",
       "<p>4774 rows × 5 columns</p>\n",
       "</div>"
      ],
      "text/plain": [
       "                        주문자ID번호  R점수  F점수  M점수      총구매액\n",
       "0                 010-4424-2132    5    5    5  581521.0\n",
       "1                   정다인ekdl****    5    2    2   48500.0\n",
       "2          sts1126010-2333-9158    5    3    4  285200.0\n",
       "3     1608705113@k010-3501-0244    5    4    3  164200.0\n",
       "4                 010-9244-6315    5    1    1   40500.0\n",
       "...                         ...  ...  ...  ...       ...\n",
       "4769      cocoa232010-6207-9785    1    2    1   10000.0\n",
       "4770     aodrmaqls010-9074-8598    1    3    4  286200.0\n",
       "4771     chickenkk010-8020-3315    1    2    2   79000.0\n",
       "4772              010-9979-8331    1    1    2   51000.0\n",
       "4773              010-9696-1839    1    1    1   36554.0\n",
       "\n",
       "[4774 rows x 5 columns]"
      ]
     },
     "execution_count": 35,
     "metadata": {},
     "output_type": "execute_result"
    }
   ],
   "source": [
    "# 합친 데이터 확인\n",
    "RFM"
   ]
  },
  {
   "cell_type": "code",
   "execution_count": 36,
   "metadata": {},
   "outputs": [],
   "source": [
    "# RFM점수 칼럼 추가\n",
    "RFM[\"RFM점수\"] = RFM[\"M점수\"]+RFM[\"F점수\"]+RFM[\"R점수\"]"
   ]
  },
  {
   "cell_type": "code",
   "execution_count": 37,
   "metadata": {},
   "outputs": [],
   "source": [
    "rfm_score = RFM"
   ]
  },
  {
   "cell_type": "code",
   "execution_count": 38,
   "metadata": {},
   "outputs": [
    {
     "data": {
      "text/html": [
       "<div>\n",
       "<style scoped>\n",
       "    .dataframe tbody tr th:only-of-type {\n",
       "        vertical-align: middle;\n",
       "    }\n",
       "\n",
       "    .dataframe tbody tr th {\n",
       "        vertical-align: top;\n",
       "    }\n",
       "\n",
       "    .dataframe thead th {\n",
       "        text-align: right;\n",
       "    }\n",
       "</style>\n",
       "<table border=\"1\" class=\"dataframe\">\n",
       "  <thead>\n",
       "    <tr style=\"text-align: right;\">\n",
       "      <th></th>\n",
       "      <th>주문자ID번호</th>\n",
       "      <th>R점수</th>\n",
       "      <th>F점수</th>\n",
       "      <th>M점수</th>\n",
       "      <th>총구매액</th>\n",
       "      <th>RFM점수</th>\n",
       "    </tr>\n",
       "  </thead>\n",
       "  <tbody>\n",
       "    <tr>\n",
       "      <th>0</th>\n",
       "      <td>010-4424-2132</td>\n",
       "      <td>5</td>\n",
       "      <td>5</td>\n",
       "      <td>5</td>\n",
       "      <td>581521.0</td>\n",
       "      <td>15</td>\n",
       "    </tr>\n",
       "    <tr>\n",
       "      <th>1</th>\n",
       "      <td>정다인ekdl****</td>\n",
       "      <td>5</td>\n",
       "      <td>2</td>\n",
       "      <td>2</td>\n",
       "      <td>48500.0</td>\n",
       "      <td>9</td>\n",
       "    </tr>\n",
       "    <tr>\n",
       "      <th>2</th>\n",
       "      <td>sts1126010-2333-9158</td>\n",
       "      <td>5</td>\n",
       "      <td>3</td>\n",
       "      <td>4</td>\n",
       "      <td>285200.0</td>\n",
       "      <td>12</td>\n",
       "    </tr>\n",
       "    <tr>\n",
       "      <th>3</th>\n",
       "      <td>1608705113@k010-3501-0244</td>\n",
       "      <td>5</td>\n",
       "      <td>4</td>\n",
       "      <td>3</td>\n",
       "      <td>164200.0</td>\n",
       "      <td>12</td>\n",
       "    </tr>\n",
       "    <tr>\n",
       "      <th>4</th>\n",
       "      <td>010-9244-6315</td>\n",
       "      <td>5</td>\n",
       "      <td>1</td>\n",
       "      <td>1</td>\n",
       "      <td>40500.0</td>\n",
       "      <td>7</td>\n",
       "    </tr>\n",
       "    <tr>\n",
       "      <th>...</th>\n",
       "      <td>...</td>\n",
       "      <td>...</td>\n",
       "      <td>...</td>\n",
       "      <td>...</td>\n",
       "      <td>...</td>\n",
       "      <td>...</td>\n",
       "    </tr>\n",
       "    <tr>\n",
       "      <th>4769</th>\n",
       "      <td>cocoa232010-6207-9785</td>\n",
       "      <td>1</td>\n",
       "      <td>2</td>\n",
       "      <td>1</td>\n",
       "      <td>10000.0</td>\n",
       "      <td>4</td>\n",
       "    </tr>\n",
       "    <tr>\n",
       "      <th>4770</th>\n",
       "      <td>aodrmaqls010-9074-8598</td>\n",
       "      <td>1</td>\n",
       "      <td>3</td>\n",
       "      <td>4</td>\n",
       "      <td>286200.0</td>\n",
       "      <td>8</td>\n",
       "    </tr>\n",
       "    <tr>\n",
       "      <th>4771</th>\n",
       "      <td>chickenkk010-8020-3315</td>\n",
       "      <td>1</td>\n",
       "      <td>2</td>\n",
       "      <td>2</td>\n",
       "      <td>79000.0</td>\n",
       "      <td>5</td>\n",
       "    </tr>\n",
       "    <tr>\n",
       "      <th>4772</th>\n",
       "      <td>010-9979-8331</td>\n",
       "      <td>1</td>\n",
       "      <td>1</td>\n",
       "      <td>2</td>\n",
       "      <td>51000.0</td>\n",
       "      <td>4</td>\n",
       "    </tr>\n",
       "    <tr>\n",
       "      <th>4773</th>\n",
       "      <td>010-9696-1839</td>\n",
       "      <td>1</td>\n",
       "      <td>1</td>\n",
       "      <td>1</td>\n",
       "      <td>36554.0</td>\n",
       "      <td>3</td>\n",
       "    </tr>\n",
       "  </tbody>\n",
       "</table>\n",
       "<p>4774 rows × 6 columns</p>\n",
       "</div>"
      ],
      "text/plain": [
       "                        주문자ID번호  R점수  F점수  M점수      총구매액  RFM점수\n",
       "0                 010-4424-2132    5    5    5  581521.0     15\n",
       "1                   정다인ekdl****    5    2    2   48500.0      9\n",
       "2          sts1126010-2333-9158    5    3    4  285200.0     12\n",
       "3     1608705113@k010-3501-0244    5    4    3  164200.0     12\n",
       "4                 010-9244-6315    5    1    1   40500.0      7\n",
       "...                         ...  ...  ...  ...       ...    ...\n",
       "4769      cocoa232010-6207-9785    1    2    1   10000.0      4\n",
       "4770     aodrmaqls010-9074-8598    1    3    4  286200.0      8\n",
       "4771     chickenkk010-8020-3315    1    2    2   79000.0      5\n",
       "4772              010-9979-8331    1    1    2   51000.0      4\n",
       "4773              010-9696-1839    1    1    1   36554.0      3\n",
       "\n",
       "[4774 rows x 6 columns]"
      ]
     },
     "execution_count": 38,
     "metadata": {},
     "output_type": "execute_result"
    }
   ],
   "source": [
    "rfm_score"
   ]
  },
  {
   "cell_type": "code",
   "execution_count": 39,
   "metadata": {},
   "outputs": [],
   "source": [
    "def get_score(level, data, reverse = False):\n",
    "    '''\n",
    "    Description :\n",
    "    level안에 있는 원소를 기준으로\n",
    "    1 ~ len(level)+ 1 까지 점수를 부여하는 함수\n",
    "    \n",
    "    Parameters :\n",
    "    level = 튜플 또는 리스트 타입의 숫자형 데이터이며 반드시 오름차순으로 정렬되어 있어야함.\n",
    "    예 - [1,2,3,4,5] O, [5,4,3,2,1] X, [1,3,2,10,4] X \n",
    "    data = 점수를 부여할 데이터. 순회가능한(iterable) 데이터 형식\n",
    "    reverse = 점수가 높을 때 그에 해당하는 값을 낮게 설정하고 싶을 때 True\n",
    "    return :\n",
    "    점수를 담고 있는 리스트 반환\n",
    "    '''\n",
    "    score = [] \n",
    "    for j in range(len(data)): \n",
    "        for i in range(len(level)): \n",
    "            if data[j] <= level[i]: \n",
    "                score.append(i+1) \n",
    "                break \n",
    "            elif data[j] > max(level): \n",
    "                score.append(len(level)+1) \n",
    "                break \n",
    "            else: \n",
    "                continue\n",
    "    if reverse:\n",
    "        return [len(level)+2-x for x in score]\n",
    "    else:\n",
    "        return score \n",
    " \n",
    "grid_number = 100 ## 눈금 개수, 너무 크게 잡으면 메모리 문제가 발생할 수 있음.\n",
    "                #grid_number을 100보다 크게 잡으면 컴퓨터가 멈출 수 있어서 100으로 설정\n",
    "weights = []\n",
    "for j in range(grid_number+1): \n",
    "    weights += [(i/grid_number,j/grid_number,(grid_number-i-j)/grid_number)\n",
    "                  for i in range(grid_number+1-j)]\n",
    "num_class = 5 ## 클래스 개수\n",
    "class_level = np.linspace(1,5,num_class+1)[1:-1] ## 클래스를 나누는 지점을 정한다, 등급의 기준점을 구함\n",
    "total_amount_of_sales = rfm_score['총구매액'].sum() ## 구매금액 총합 = 총 매\n"
   ]
  },
  {
   "cell_type": "code",
   "execution_count": null,
   "metadata": {},
   "outputs": [
    {
     "name": "stderr",
     "output_type": "stream",
     "text": [
      "[Finding Optimal weights]:   3%|█▋                                                  | 171/5151 [01:11<37:50,  2.19it/s]"
     ]
    }
   ],
   "source": [
    "max_std = 0 ## 표준편차 값 초기값(표준편차 값 초기화)\n",
    "for w in tqdm(weights,position=0,desc = '[Finding Optimal weights]'):\n",
    "    ## 주어진 가중치에 따른 고객별 점수 계산\n",
    "    score = w[0]*rfm_score['R점수'] + \\\n",
    "                        w[1]*rfm_score['F점수'] + \\\n",
    "                        w[2]*rfm_score['M점수']  # 가중치와 RFM 점수를 이용하여 고객별 총 점수를 구함\n",
    "    rfm_score['Class'] = get_score(class_level,score,True) ## 구한 점수를 이용하여 고객별 등급 부여\n",
    "    ## 등급별로 구매금액을 집계한다.\n",
    "    grouped_rfm_score = rfm_score.groupby('Class')['총구매액'].sum().reset_index()\n",
    "        \n",
    "    ## 클래스별 구매금액을 총구매금액으로 나누어 클래스별 매출 기여도 계산\n",
    "    grouped_rfm_score['총구매액'] = grouped_rfm_score['총구매액'].map(lambda x : x/total_amount_of_sales)\n",
    "    std_sales = grouped_rfm_score['총구매액'].std() ## 매출 기여도의 표준편차 계산\n",
    "    #현재 표준편차 값과 최대 표준편차 값을 비교하여 더 큰 값을 최대 표준편차 값으로 업데이트\n",
    "    if max_std <= std_sales:\n",
    "        max_std = std_sales ## 표준편차 최대값 업데이트\n",
    "        optimal_weights = w  ## 가중치 업데이트"
   ]
  },
  {
   "cell_type": "code",
   "execution_count": null,
   "metadata": {},
   "outputs": [],
   "source": [
    "print(optimal_weights) # 구해진 가중치 확인"
   ]
  }
 ],
 "metadata": {
  "kernelspec": {
   "display_name": "Python 3",
   "language": "python",
   "name": "python3"
  },
  "language_info": {
   "codemirror_mode": {
    "name": "ipython",
    "version": 3
   },
   "file_extension": ".py",
   "mimetype": "text/x-python",
   "name": "python",
   "nbconvert_exporter": "python",
   "pygments_lexer": "ipython3",
   "version": "3.8.5"
  }
 },
 "nbformat": 4,
 "nbformat_minor": 5
}
