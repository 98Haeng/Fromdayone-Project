{
 "cells": [
  {
   "cell_type": "markdown",
   "metadata": {},
   "source": [
    "# 카페24, 지그재그 데이터를 합쳐서 분기별로 DBSCAN\n",
    "\n",
    "### 1. 데이터 전처리 및 합치기\n",
    "- 지그재그 데이터에서 상품명, 구매자명ID추출\n",
    "- 카페24 데이터에서 주문상품명(상품명으로 변환), 주문자명, 주문자ID합친 데이터 남겨놓음\n",
    "- 그중에서 최우수최우수 파일을 통해 최우수최우수인 유저들만 추출해서 합침\n",
    "\n",
    "### 2. DBSCAN 시행\n",
    "- 합친 데이터를 바탕으로 DBSCAN시행해서 결과를 봄\n",
    "\n",
    "### 3. 카테고리, 자사유무항목 추가한 다음 DBSCAN 시행"
   ]
  },
  {
   "cell_type": "code",
   "execution_count": 153,
   "metadata": {},
   "outputs": [],
   "source": [
    "#라이브러리 불러오기\n",
    "import pandas as pd\n",
    "import numpy as np\n",
    "import matplotlib.pyplot as plt\n",
    "from sklearn.cluster import DBSCAN\n",
    "import seaborn as sns"
   ]
  },
  {
   "cell_type": "code",
   "execution_count": 154,
   "metadata": {},
   "outputs": [
    {
     "data": {
      "text/html": [
       "<div>\n",
       "<style scoped>\n",
       "    .dataframe tbody tr th:only-of-type {\n",
       "        vertical-align: middle;\n",
       "    }\n",
       "\n",
       "    .dataframe tbody tr th {\n",
       "        vertical-align: top;\n",
       "    }\n",
       "\n",
       "    .dataframe thead th {\n",
       "        text-align: right;\n",
       "    }\n",
       "</style>\n",
       "<table border=\"1\" class=\"dataframe\">\n",
       "  <thead>\n",
       "    <tr style=\"text-align: right;\">\n",
       "      <th></th>\n",
       "      <th>주문일시</th>\n",
       "      <th>상품명</th>\n",
       "      <th>구매자명ID</th>\n",
       "      <th>유입경로</th>\n",
       "    </tr>\n",
       "  </thead>\n",
       "  <tbody>\n",
       "    <tr>\n",
       "      <th>0</th>\n",
       "      <td>2020-07-28 00:01:25</td>\n",
       "      <td>[La belle rose]마린 브이 여름니트</td>\n",
       "      <td>김지애wldo****</td>\n",
       "      <td>지그재그앱</td>\n",
       "    </tr>\n",
       "    <tr>\n",
       "      <th>1</th>\n",
       "      <td>2020-07-28 00:01:25</td>\n",
       "      <td>[La belle rose]마린 브이 여름니트</td>\n",
       "      <td>김지애wldo****</td>\n",
       "      <td>지그재그앱</td>\n",
       "    </tr>\n",
       "    <tr>\n",
       "      <th>2</th>\n",
       "      <td>2020-07-28 00:03:14</td>\n",
       "      <td>[La belle rose]프롬 퍼프원피스</td>\n",
       "      <td>최혜리hyer****</td>\n",
       "      <td>지그재그앱</td>\n",
       "    </tr>\n",
       "    <tr>\n",
       "      <th>3</th>\n",
       "      <td>2020-07-28 00:03:14</td>\n",
       "      <td>[La belle rose]프롬 퍼프원피스</td>\n",
       "      <td>최혜리hyer****</td>\n",
       "      <td>지그재그앱</td>\n",
       "    </tr>\n",
       "    <tr>\n",
       "      <th>4</th>\n",
       "      <td>2020-07-28 00:12:32</td>\n",
       "      <td>구미 버튼린넨티</td>\n",
       "      <td>박효진gywl****</td>\n",
       "      <td>지그재그앱</td>\n",
       "    </tr>\n",
       "  </tbody>\n",
       "</table>\n",
       "</div>"
      ],
      "text/plain": [
       "                 주문일시                        상품명       구매자명ID   유입경로\n",
       "0 2020-07-28 00:01:25  [La belle rose]마린 브이 여름니트  김지애wldo****  지그재그앱\n",
       "1 2020-07-28 00:01:25  [La belle rose]마린 브이 여름니트  김지애wldo****  지그재그앱\n",
       "2 2020-07-28 00:03:14    [La belle rose]프롬 퍼프원피스  최혜리hyer****  지그재그앱\n",
       "3 2020-07-28 00:03:14    [La belle rose]프롬 퍼프원피스  최혜리hyer****  지그재그앱\n",
       "4 2020-07-28 00:12:32                   구미 버튼린넨티  박효진gywl****  지그재그앱"
      ]
     },
     "execution_count": 154,
     "metadata": {},
     "output_type": "execute_result"
    }
   ],
   "source": [
    "#지그재그 1분기 데이터 불러오기\n",
    "zigzag1=pd.read_excel('지그재그 데이터 분할.xlsx',sheet_name='Sheet1')\n",
    "zigzag1.head()"
   ]
  },
  {
   "cell_type": "code",
   "execution_count": 155,
   "metadata": {},
   "outputs": [
    {
     "data": {
      "text/html": [
       "<div>\n",
       "<style scoped>\n",
       "    .dataframe tbody tr th:only-of-type {\n",
       "        vertical-align: middle;\n",
       "    }\n",
       "\n",
       "    .dataframe tbody tr th {\n",
       "        vertical-align: top;\n",
       "    }\n",
       "\n",
       "    .dataframe thead th {\n",
       "        text-align: right;\n",
       "    }\n",
       "</style>\n",
       "<table border=\"1\" class=\"dataframe\">\n",
       "  <thead>\n",
       "    <tr style=\"text-align: right;\">\n",
       "      <th></th>\n",
       "      <th>상품명</th>\n",
       "      <th>구매자명ID</th>\n",
       "    </tr>\n",
       "  </thead>\n",
       "  <tbody>\n",
       "    <tr>\n",
       "      <th>0</th>\n",
       "      <td>[La belle rose]마린 브이 여름니트</td>\n",
       "      <td>김지애wldo****</td>\n",
       "    </tr>\n",
       "    <tr>\n",
       "      <th>1</th>\n",
       "      <td>[La belle rose]마린 브이 여름니트</td>\n",
       "      <td>김지애wldo****</td>\n",
       "    </tr>\n",
       "    <tr>\n",
       "      <th>2</th>\n",
       "      <td>[La belle rose]프롬 퍼프원피스</td>\n",
       "      <td>최혜리hyer****</td>\n",
       "    </tr>\n",
       "    <tr>\n",
       "      <th>3</th>\n",
       "      <td>[La belle rose]프롬 퍼프원피스</td>\n",
       "      <td>최혜리hyer****</td>\n",
       "    </tr>\n",
       "    <tr>\n",
       "      <th>4</th>\n",
       "      <td>구미 버튼린넨티</td>\n",
       "      <td>박효진gywl****</td>\n",
       "    </tr>\n",
       "  </tbody>\n",
       "</table>\n",
       "</div>"
      ],
      "text/plain": [
       "                         상품명       구매자명ID\n",
       "0  [La belle rose]마린 브이 여름니트  김지애wldo****\n",
       "1  [La belle rose]마린 브이 여름니트  김지애wldo****\n",
       "2    [La belle rose]프롬 퍼프원피스  최혜리hyer****\n",
       "3    [La belle rose]프롬 퍼프원피스  최혜리hyer****\n",
       "4                   구미 버튼린넨티  박효진gywl****"
      ]
     },
     "execution_count": 155,
     "metadata": {},
     "output_type": "execute_result"
    }
   ],
   "source": [
    "# 상품명, 구매자명iD만 가져오기\n",
    "zigzag1=zigzag1[['상품명','구매자명ID']]\n",
    "zigzag1.head()"
   ]
  },
  {
   "cell_type": "code",
   "execution_count": 156,
   "metadata": {},
   "outputs": [
    {
     "name": "stdout",
     "output_type": "stream",
     "text": [
      "<class 'pandas.core.frame.DataFrame'>\n",
      "RangeIndex: 69366 entries, 0 to 69365\n",
      "Data columns (total 2 columns):\n",
      " #   Column  Non-Null Count  Dtype \n",
      "---  ------  --------------  ----- \n",
      " 0   상품명     69366 non-null  object\n",
      " 1   구매자명ID  69366 non-null  object\n",
      "dtypes: object(2)\n",
      "memory usage: 1.1+ MB\n"
     ]
    }
   ],
   "source": [
    "zigzag1.info()"
   ]
  },
  {
   "cell_type": "code",
   "execution_count": 157,
   "metadata": {},
   "outputs": [
    {
     "data": {
      "text/html": [
       "<div>\n",
       "<style scoped>\n",
       "    .dataframe tbody tr th:only-of-type {\n",
       "        vertical-align: middle;\n",
       "    }\n",
       "\n",
       "    .dataframe tbody tr th {\n",
       "        vertical-align: top;\n",
       "    }\n",
       "\n",
       "    .dataframe thead th {\n",
       "        text-align: right;\n",
       "    }\n",
       "</style>\n",
       "<table border=\"1\" class=\"dataframe\">\n",
       "  <thead>\n",
       "    <tr style=\"text-align: right;\">\n",
       "      <th></th>\n",
       "      <th>주문일시</th>\n",
       "      <th>상품명</th>\n",
       "      <th>구매자명ID</th>\n",
       "      <th>유입경로</th>\n",
       "    </tr>\n",
       "  </thead>\n",
       "  <tbody>\n",
       "    <tr>\n",
       "      <th>0</th>\n",
       "      <td>2021-01-29 00:03:18</td>\n",
       "      <td>[La belle rose]하이어 베이직 유넥티</td>\n",
       "      <td>심예지yeji****</td>\n",
       "      <td>지그재그앱</td>\n",
       "    </tr>\n",
       "    <tr>\n",
       "      <th>1</th>\n",
       "      <td>2021-01-29 00:03:18</td>\n",
       "      <td>이태리 와이드 핀턱슬랙스</td>\n",
       "      <td>심예지yeji****</td>\n",
       "      <td>지그재그앱</td>\n",
       "    </tr>\n",
       "    <tr>\n",
       "      <th>2</th>\n",
       "      <td>2021-01-29 00:03:18</td>\n",
       "      <td>캠빗 세미 부츠컷팬츠</td>\n",
       "      <td>심예지yeji****</td>\n",
       "      <td>지그재그앱</td>\n",
       "    </tr>\n",
       "    <tr>\n",
       "      <th>3</th>\n",
       "      <td>2021-01-29 00:03:18</td>\n",
       "      <td>[La belle rose]하이어 베이직 유넥티</td>\n",
       "      <td>심예지yeji****</td>\n",
       "      <td>지그재그앱</td>\n",
       "    </tr>\n",
       "    <tr>\n",
       "      <th>4</th>\n",
       "      <td>2021-01-29 00:03:18</td>\n",
       "      <td>이태리 와이드 핀턱슬랙스</td>\n",
       "      <td>심예지yeji****</td>\n",
       "      <td>지그재그앱</td>\n",
       "    </tr>\n",
       "  </tbody>\n",
       "</table>\n",
       "</div>"
      ],
      "text/plain": [
       "                 주문일시                         상품명       구매자명ID   유입경로\n",
       "0 2021-01-29 00:03:18  [La belle rose]하이어 베이직 유넥티  심예지yeji****  지그재그앱\n",
       "1 2021-01-29 00:03:18               이태리 와이드 핀턱슬랙스  심예지yeji****  지그재그앱\n",
       "2 2021-01-29 00:03:18                 캠빗 세미 부츠컷팬츠  심예지yeji****  지그재그앱\n",
       "3 2021-01-29 00:03:18  [La belle rose]하이어 베이직 유넥티  심예지yeji****  지그재그앱\n",
       "4 2021-01-29 00:03:18               이태리 와이드 핀턱슬랙스  심예지yeji****  지그재그앱"
      ]
     },
     "execution_count": 157,
     "metadata": {},
     "output_type": "execute_result"
    }
   ],
   "source": [
    "# 지그재그 2분기 데이터 출력\n",
    "zigzag2=pd.read_excel('지그재그 데이터 분할.xlsx',sheet_name='Sheet2')\n",
    "zigzag2.head()"
   ]
  },
  {
   "cell_type": "code",
   "execution_count": 158,
   "metadata": {},
   "outputs": [
    {
     "data": {
      "text/html": [
       "<div>\n",
       "<style scoped>\n",
       "    .dataframe tbody tr th:only-of-type {\n",
       "        vertical-align: middle;\n",
       "    }\n",
       "\n",
       "    .dataframe tbody tr th {\n",
       "        vertical-align: top;\n",
       "    }\n",
       "\n",
       "    .dataframe thead th {\n",
       "        text-align: right;\n",
       "    }\n",
       "</style>\n",
       "<table border=\"1\" class=\"dataframe\">\n",
       "  <thead>\n",
       "    <tr style=\"text-align: right;\">\n",
       "      <th></th>\n",
       "      <th>상품명</th>\n",
       "      <th>구매자명ID</th>\n",
       "    </tr>\n",
       "  </thead>\n",
       "  <tbody>\n",
       "    <tr>\n",
       "      <th>0</th>\n",
       "      <td>[La belle rose]하이어 베이직 유넥티</td>\n",
       "      <td>심예지yeji****</td>\n",
       "    </tr>\n",
       "    <tr>\n",
       "      <th>1</th>\n",
       "      <td>이태리 와이드 핀턱슬랙스</td>\n",
       "      <td>심예지yeji****</td>\n",
       "    </tr>\n",
       "    <tr>\n",
       "      <th>2</th>\n",
       "      <td>캠빗 세미 부츠컷팬츠</td>\n",
       "      <td>심예지yeji****</td>\n",
       "    </tr>\n",
       "    <tr>\n",
       "      <th>3</th>\n",
       "      <td>[La belle rose]하이어 베이직 유넥티</td>\n",
       "      <td>심예지yeji****</td>\n",
       "    </tr>\n",
       "    <tr>\n",
       "      <th>4</th>\n",
       "      <td>이태리 와이드 핀턱슬랙스</td>\n",
       "      <td>심예지yeji****</td>\n",
       "    </tr>\n",
       "  </tbody>\n",
       "</table>\n",
       "</div>"
      ],
      "text/plain": [
       "                          상품명       구매자명ID\n",
       "0  [La belle rose]하이어 베이직 유넥티  심예지yeji****\n",
       "1               이태리 와이드 핀턱슬랙스  심예지yeji****\n",
       "2                 캠빗 세미 부츠컷팬츠  심예지yeji****\n",
       "3  [La belle rose]하이어 베이직 유넥티  심예지yeji****\n",
       "4               이태리 와이드 핀턱슬랙스  심예지yeji****"
      ]
     },
     "execution_count": 158,
     "metadata": {},
     "output_type": "execute_result"
    }
   ],
   "source": [
    "# 상품명, 구매자명iD만 가져오기\n",
    "zigzag2=zigzag2[['상품명','구매자명ID']]\n",
    "zigzag2.head()"
   ]
  },
  {
   "cell_type": "code",
   "execution_count": 159,
   "metadata": {},
   "outputs": [
    {
     "name": "stdout",
     "output_type": "stream",
     "text": [
      "<class 'pandas.core.frame.DataFrame'>\n",
      "RangeIndex: 110218 entries, 0 to 110217\n",
      "Data columns (total 2 columns):\n",
      " #   Column  Non-Null Count   Dtype \n",
      "---  ------  --------------   ----- \n",
      " 0   상품명     110218 non-null  object\n",
      " 1   구매자명ID  110218 non-null  object\n",
      "dtypes: object(2)\n",
      "memory usage: 1.7+ MB\n"
     ]
    }
   ],
   "source": [
    "zigzag2.info()"
   ]
  },
  {
   "cell_type": "code",
   "execution_count": 160,
   "metadata": {},
   "outputs": [
    {
     "data": {
      "text/html": [
       "<div>\n",
       "<style scoped>\n",
       "    .dataframe tbody tr th:only-of-type {\n",
       "        vertical-align: middle;\n",
       "    }\n",
       "\n",
       "    .dataframe tbody tr th {\n",
       "        vertical-align: top;\n",
       "    }\n",
       "\n",
       "    .dataframe thead th {\n",
       "        text-align: right;\n",
       "    }\n",
       "</style>\n",
       "<table border=\"1\" class=\"dataframe\">\n",
       "  <thead>\n",
       "    <tr style=\"text-align: right;\">\n",
       "      <th></th>\n",
       "      <th>매출경로</th>\n",
       "      <th>메인카테고리 이름</th>\n",
       "      <th>상품옵션</th>\n",
       "      <th>주문상품명</th>\n",
       "      <th>주문일시</th>\n",
       "      <th>주문자 휴대전화</th>\n",
       "      <th>주문자ID</th>\n",
       "      <th>주문자명</th>\n",
       "      <th>총 결제금액</th>\n",
       "      <th>구매자명ID</th>\n",
       "    </tr>\n",
       "  </thead>\n",
       "  <tbody>\n",
       "    <tr>\n",
       "      <th>0</th>\n",
       "      <td>네이버 페이</td>\n",
       "      <td>메인화면</td>\n",
       "      <td>color=크림</td>\n",
       "      <td>본트 롱원피스(스트랩set)</td>\n",
       "      <td>2020-07-28 0:01</td>\n",
       "      <td>010-9250-7901</td>\n",
       "      <td>NaN</td>\n",
       "      <td>이지혜</td>\n",
       "      <td>30000</td>\n",
       "      <td>이지혜</td>\n",
       "    </tr>\n",
       "    <tr>\n",
       "      <th>1</th>\n",
       "      <td>모바일웹</td>\n",
       "      <td>TOP</td>\n",
       "      <td>color=핑크</td>\n",
       "      <td>젤르 린넨 라운드가디건</td>\n",
       "      <td>2020-07-28 0:03</td>\n",
       "      <td>NaN</td>\n",
       "      <td>1430615835@k</td>\n",
       "      <td>NaN</td>\n",
       "      <td>71400</td>\n",
       "      <td>1430615835@k</td>\n",
       "    </tr>\n",
       "    <tr>\n",
       "      <th>2</th>\n",
       "      <td>모바일웹</td>\n",
       "      <td>SALE~50%</td>\n",
       "      <td>color=아이보리</td>\n",
       "      <td>[La belle rose]데일리 여리핏 슬림유넥티</td>\n",
       "      <td>2020-07-28 0:03</td>\n",
       "      <td>NaN</td>\n",
       "      <td>1430615835@k</td>\n",
       "      <td>NaN</td>\n",
       "      <td>71400</td>\n",
       "      <td>1430615835@k</td>\n",
       "    </tr>\n",
       "    <tr>\n",
       "      <th>3</th>\n",
       "      <td>모바일웹</td>\n",
       "      <td>메인화면</td>\n",
       "      <td>color=스카이블루</td>\n",
       "      <td>워터 체크 롱스커트</td>\n",
       "      <td>2020-07-28 0:03</td>\n",
       "      <td>NaN</td>\n",
       "      <td>1430615835@k</td>\n",
       "      <td>NaN</td>\n",
       "      <td>71400</td>\n",
       "      <td>1430615835@k</td>\n",
       "    </tr>\n",
       "    <tr>\n",
       "      <th>4</th>\n",
       "      <td>모바일웹</td>\n",
       "      <td>TOP</td>\n",
       "      <td>color=아이보리</td>\n",
       "      <td>후노 크롭티셔츠</td>\n",
       "      <td>2020-07-28 0:03</td>\n",
       "      <td>NaN</td>\n",
       "      <td>1430615835@k</td>\n",
       "      <td>NaN</td>\n",
       "      <td>71400</td>\n",
       "      <td>1430615835@k</td>\n",
       "    </tr>\n",
       "  </tbody>\n",
       "</table>\n",
       "</div>"
      ],
      "text/plain": [
       "     매출경로 메인카테고리 이름         상품옵션                         주문상품명  \\\n",
       "0  네이버 페이      메인화면     color=크림               본트 롱원피스(스트랩set)   \n",
       "1    모바일웹       TOP     color=핑크                  젤르 린넨 라운드가디건   \n",
       "2    모바일웹  SALE~50%   color=아이보리  [La belle rose]데일리 여리핏 슬림유넥티   \n",
       "3    모바일웹      메인화면  color=스카이블루                    워터 체크 롱스커트   \n",
       "4    모바일웹       TOP   color=아이보리                      후노 크롭티셔츠   \n",
       "\n",
       "              주문일시       주문자 휴대전화         주문자ID 주문자명  총 결제금액        구매자명ID  \n",
       "0  2020-07-28 0:01  010-9250-7901           NaN  이지혜   30000           이지혜  \n",
       "1  2020-07-28 0:03            NaN  1430615835@k  NaN   71400  1430615835@k  \n",
       "2  2020-07-28 0:03            NaN  1430615835@k  NaN   71400  1430615835@k  \n",
       "3  2020-07-28 0:03            NaN  1430615835@k  NaN   71400  1430615835@k  \n",
       "4  2020-07-28 0:03            NaN  1430615835@k  NaN   71400  1430615835@k  "
      ]
     },
     "execution_count": 160,
     "metadata": {},
     "output_type": "execute_result"
    }
   ],
   "source": [
    "cafe1=pd.read_csv('카페24 1분기.csv')\n",
    "cafe1.head()"
   ]
  },
  {
   "cell_type": "code",
   "execution_count": 161,
   "metadata": {},
   "outputs": [
    {
     "data": {
      "text/html": [
       "<div>\n",
       "<style scoped>\n",
       "    .dataframe tbody tr th:only-of-type {\n",
       "        vertical-align: middle;\n",
       "    }\n",
       "\n",
       "    .dataframe tbody tr th {\n",
       "        vertical-align: top;\n",
       "    }\n",
       "\n",
       "    .dataframe thead th {\n",
       "        text-align: right;\n",
       "    }\n",
       "</style>\n",
       "<table border=\"1\" class=\"dataframe\">\n",
       "  <thead>\n",
       "    <tr style=\"text-align: right;\">\n",
       "      <th></th>\n",
       "      <th>주문상품명</th>\n",
       "      <th>구매자명ID</th>\n",
       "    </tr>\n",
       "  </thead>\n",
       "  <tbody>\n",
       "    <tr>\n",
       "      <th>0</th>\n",
       "      <td>본트 롱원피스(스트랩set)</td>\n",
       "      <td>이지혜</td>\n",
       "    </tr>\n",
       "    <tr>\n",
       "      <th>1</th>\n",
       "      <td>젤르 린넨 라운드가디건</td>\n",
       "      <td>1430615835@k</td>\n",
       "    </tr>\n",
       "    <tr>\n",
       "      <th>2</th>\n",
       "      <td>[La belle rose]데일리 여리핏 슬림유넥티</td>\n",
       "      <td>1430615835@k</td>\n",
       "    </tr>\n",
       "    <tr>\n",
       "      <th>3</th>\n",
       "      <td>워터 체크 롱스커트</td>\n",
       "      <td>1430615835@k</td>\n",
       "    </tr>\n",
       "    <tr>\n",
       "      <th>4</th>\n",
       "      <td>후노 크롭티셔츠</td>\n",
       "      <td>1430615835@k</td>\n",
       "    </tr>\n",
       "  </tbody>\n",
       "</table>\n",
       "</div>"
      ],
      "text/plain": [
       "                          주문상품명        구매자명ID\n",
       "0               본트 롱원피스(스트랩set)           이지혜\n",
       "1                  젤르 린넨 라운드가디건  1430615835@k\n",
       "2  [La belle rose]데일리 여리핏 슬림유넥티  1430615835@k\n",
       "3                    워터 체크 롱스커트  1430615835@k\n",
       "4                      후노 크롭티셔츠  1430615835@k"
      ]
     },
     "execution_count": 161,
     "metadata": {},
     "output_type": "execute_result"
    }
   ],
   "source": [
    "cafe1=cafe1[['주문상품명','구매자명ID']]\n",
    "cafe1.head()"
   ]
  },
  {
   "cell_type": "code",
   "execution_count": 162,
   "metadata": {},
   "outputs": [],
   "source": [
    "cafe1.rename(columns={'주문상품명':'상품명'},inplace=True)"
   ]
  },
  {
   "cell_type": "code",
   "execution_count": 163,
   "metadata": {},
   "outputs": [
    {
     "data": {
      "text/html": [
       "<div>\n",
       "<style scoped>\n",
       "    .dataframe tbody tr th:only-of-type {\n",
       "        vertical-align: middle;\n",
       "    }\n",
       "\n",
       "    .dataframe tbody tr th {\n",
       "        vertical-align: top;\n",
       "    }\n",
       "\n",
       "    .dataframe thead th {\n",
       "        text-align: right;\n",
       "    }\n",
       "</style>\n",
       "<table border=\"1\" class=\"dataframe\">\n",
       "  <thead>\n",
       "    <tr style=\"text-align: right;\">\n",
       "      <th></th>\n",
       "      <th>매출경로</th>\n",
       "      <th>메인카테고리 이름</th>\n",
       "      <th>상품옵션</th>\n",
       "      <th>주문상품명</th>\n",
       "      <th>주문일시</th>\n",
       "      <th>주문자 휴대전화</th>\n",
       "      <th>주문자ID</th>\n",
       "      <th>주문자명</th>\n",
       "      <th>총 결제금액</th>\n",
       "      <th>구매자명ID</th>\n",
       "    </tr>\n",
       "  </thead>\n",
       "  <tbody>\n",
       "    <tr>\n",
       "      <th>0</th>\n",
       "      <td>PC쇼핑몰</td>\n",
       "      <td>BLOUSE &amp; SHIRT</td>\n",
       "      <td>color=아이보리</td>\n",
       "      <td>[La belle rose]플린 스퀘어 셔링블라우스</td>\n",
       "      <td>2021-01-29 0:00</td>\n",
       "      <td>010-4516-6752</td>\n",
       "      <td>jenny6752</td>\n",
       "      <td>박지은</td>\n",
       "      <td>40500</td>\n",
       "      <td>박지은jenny6752</td>\n",
       "    </tr>\n",
       "    <tr>\n",
       "      <th>1</th>\n",
       "      <td>네이버 페이</td>\n",
       "      <td>메인화면</td>\n",
       "      <td>color=퍼플</td>\n",
       "      <td>무리아 퍼프슬리브니트</td>\n",
       "      <td>2021-01-29 0:30</td>\n",
       "      <td>010-8948-9421</td>\n",
       "      <td>NaN</td>\n",
       "      <td>방소윤</td>\n",
       "      <td>56500</td>\n",
       "      <td>방소윤</td>\n",
       "    </tr>\n",
       "    <tr>\n",
       "      <th>2</th>\n",
       "      <td>네이버 페이</td>\n",
       "      <td>메인화면</td>\n",
       "      <td>color=그레이</td>\n",
       "      <td>[울50%]유아 데일리 브이가디건</td>\n",
       "      <td>2021-01-29 0:30</td>\n",
       "      <td>010-8948-9421</td>\n",
       "      <td>NaN</td>\n",
       "      <td>방소윤</td>\n",
       "      <td>56500</td>\n",
       "      <td>방소윤</td>\n",
       "    </tr>\n",
       "    <tr>\n",
       "      <th>3</th>\n",
       "      <td>모바일웹</td>\n",
       "      <td>TOP</td>\n",
       "      <td>color=블랙</td>\n",
       "      <td>와일드 스퀘어 골지티</td>\n",
       "      <td>2021-01-29 0:31</td>\n",
       "      <td>010-5339-1529</td>\n",
       "      <td>tto2ttoi</td>\n",
       "      <td>이수지</td>\n",
       "      <td>0</td>\n",
       "      <td>이수지tto2ttoi</td>\n",
       "    </tr>\n",
       "    <tr>\n",
       "      <th>4</th>\n",
       "      <td>모바일웹</td>\n",
       "      <td>BOTTOM</td>\n",
       "      <td>color=모카, size=M</td>\n",
       "      <td>에딘버러 울 미니스커트</td>\n",
       "      <td>2021-01-29 0:31</td>\n",
       "      <td>010-5339-1529</td>\n",
       "      <td>tto2ttoi</td>\n",
       "      <td>이수지</td>\n",
       "      <td>0</td>\n",
       "      <td>이수지tto2ttoi</td>\n",
       "    </tr>\n",
       "  </tbody>\n",
       "</table>\n",
       "</div>"
      ],
      "text/plain": [
       "     매출경로       메인카테고리 이름              상품옵션                         주문상품명  \\\n",
       "0   PC쇼핑몰  BLOUSE & SHIRT        color=아이보리  [La belle rose]플린 스퀘어 셔링블라우스   \n",
       "1  네이버 페이            메인화면          color=퍼플                   무리아 퍼프슬리브니트   \n",
       "2  네이버 페이            메인화면         color=그레이            [울50%]유아 데일리 브이가디건   \n",
       "3    모바일웹             TOP          color=블랙                   와일드 스퀘어 골지티   \n",
       "4    모바일웹          BOTTOM  color=모카, size=M                  에딘버러 울 미니스커트   \n",
       "\n",
       "              주문일시       주문자 휴대전화      주문자ID 주문자명  총 결제금액        구매자명ID  \n",
       "0  2021-01-29 0:00  010-4516-6752  jenny6752  박지은   40500  박지은jenny6752  \n",
       "1  2021-01-29 0:30  010-8948-9421        NaN  방소윤   56500           방소윤  \n",
       "2  2021-01-29 0:30  010-8948-9421        NaN  방소윤   56500           방소윤  \n",
       "3  2021-01-29 0:31  010-5339-1529   tto2ttoi  이수지       0   이수지tto2ttoi  \n",
       "4  2021-01-29 0:31  010-5339-1529   tto2ttoi  이수지       0   이수지tto2ttoi  "
      ]
     },
     "execution_count": 163,
     "metadata": {},
     "output_type": "execute_result"
    }
   ],
   "source": [
    "cafe2=pd.read_csv('카페24 2분기.csv')\n",
    "cafe2.head()"
   ]
  },
  {
   "cell_type": "code",
   "execution_count": 164,
   "metadata": {},
   "outputs": [
    {
     "data": {
      "text/html": [
       "<div>\n",
       "<style scoped>\n",
       "    .dataframe tbody tr th:only-of-type {\n",
       "        vertical-align: middle;\n",
       "    }\n",
       "\n",
       "    .dataframe tbody tr th {\n",
       "        vertical-align: top;\n",
       "    }\n",
       "\n",
       "    .dataframe thead th {\n",
       "        text-align: right;\n",
       "    }\n",
       "</style>\n",
       "<table border=\"1\" class=\"dataframe\">\n",
       "  <thead>\n",
       "    <tr style=\"text-align: right;\">\n",
       "      <th></th>\n",
       "      <th>주문상품명</th>\n",
       "      <th>구매자명ID</th>\n",
       "    </tr>\n",
       "  </thead>\n",
       "  <tbody>\n",
       "    <tr>\n",
       "      <th>0</th>\n",
       "      <td>[La belle rose]플린 스퀘어 셔링블라우스</td>\n",
       "      <td>박지은jenny6752</td>\n",
       "    </tr>\n",
       "    <tr>\n",
       "      <th>1</th>\n",
       "      <td>무리아 퍼프슬리브니트</td>\n",
       "      <td>방소윤</td>\n",
       "    </tr>\n",
       "    <tr>\n",
       "      <th>2</th>\n",
       "      <td>[울50%]유아 데일리 브이가디건</td>\n",
       "      <td>방소윤</td>\n",
       "    </tr>\n",
       "    <tr>\n",
       "      <th>3</th>\n",
       "      <td>와일드 스퀘어 골지티</td>\n",
       "      <td>이수지tto2ttoi</td>\n",
       "    </tr>\n",
       "    <tr>\n",
       "      <th>4</th>\n",
       "      <td>에딘버러 울 미니스커트</td>\n",
       "      <td>이수지tto2ttoi</td>\n",
       "    </tr>\n",
       "  </tbody>\n",
       "</table>\n",
       "</div>"
      ],
      "text/plain": [
       "                          주문상품명        구매자명ID\n",
       "0  [La belle rose]플린 스퀘어 셔링블라우스  박지은jenny6752\n",
       "1                   무리아 퍼프슬리브니트           방소윤\n",
       "2            [울50%]유아 데일리 브이가디건           방소윤\n",
       "3                   와일드 스퀘어 골지티   이수지tto2ttoi\n",
       "4                  에딘버러 울 미니스커트   이수지tto2ttoi"
      ]
     },
     "execution_count": 164,
     "metadata": {},
     "output_type": "execute_result"
    }
   ],
   "source": [
    "cafe2=cafe2[['주문상품명','구매자명ID']]\n",
    "cafe2.head()"
   ]
  },
  {
   "cell_type": "code",
   "execution_count": 165,
   "metadata": {},
   "outputs": [],
   "source": [
    "cafe2.rename(columns={'주문상품명':'상품명'},inplace=True)"
   ]
  },
  {
   "cell_type": "code",
   "execution_count": 166,
   "metadata": {},
   "outputs": [
    {
     "data": {
      "text/html": [
       "<div>\n",
       "<style scoped>\n",
       "    .dataframe tbody tr th:only-of-type {\n",
       "        vertical-align: middle;\n",
       "    }\n",
       "\n",
       "    .dataframe tbody tr th {\n",
       "        vertical-align: top;\n",
       "    }\n",
       "\n",
       "    .dataframe thead th {\n",
       "        text-align: right;\n",
       "    }\n",
       "</style>\n",
       "<table border=\"1\" class=\"dataframe\">\n",
       "  <thead>\n",
       "    <tr style=\"text-align: right;\">\n",
       "      <th></th>\n",
       "      <th>상품명</th>\n",
       "      <th>구매자명ID</th>\n",
       "    </tr>\n",
       "  </thead>\n",
       "  <tbody>\n",
       "    <tr>\n",
       "      <th>0</th>\n",
       "      <td>[La belle rose]플린 스퀘어 셔링블라우스</td>\n",
       "      <td>박지은jenny6752</td>\n",
       "    </tr>\n",
       "    <tr>\n",
       "      <th>1</th>\n",
       "      <td>무리아 퍼프슬리브니트</td>\n",
       "      <td>방소윤</td>\n",
       "    </tr>\n",
       "    <tr>\n",
       "      <th>2</th>\n",
       "      <td>[울50%]유아 데일리 브이가디건</td>\n",
       "      <td>방소윤</td>\n",
       "    </tr>\n",
       "    <tr>\n",
       "      <th>3</th>\n",
       "      <td>와일드 스퀘어 골지티</td>\n",
       "      <td>이수지tto2ttoi</td>\n",
       "    </tr>\n",
       "    <tr>\n",
       "      <th>4</th>\n",
       "      <td>에딘버러 울 미니스커트</td>\n",
       "      <td>이수지tto2ttoi</td>\n",
       "    </tr>\n",
       "  </tbody>\n",
       "</table>\n",
       "</div>"
      ],
      "text/plain": [
       "                            상품명        구매자명ID\n",
       "0  [La belle rose]플린 스퀘어 셔링블라우스  박지은jenny6752\n",
       "1                   무리아 퍼프슬리브니트           방소윤\n",
       "2            [울50%]유아 데일리 브이가디건           방소윤\n",
       "3                   와일드 스퀘어 골지티   이수지tto2ttoi\n",
       "4                  에딘버러 울 미니스커트   이수지tto2ttoi"
      ]
     },
     "execution_count": 166,
     "metadata": {},
     "output_type": "execute_result"
    }
   ],
   "source": [
    "cafe2.head()"
   ]
  },
  {
   "cell_type": "code",
   "execution_count": 167,
   "metadata": {},
   "outputs": [
    {
     "data": {
      "text/html": [
       "<div>\n",
       "<style scoped>\n",
       "    .dataframe tbody tr th:only-of-type {\n",
       "        vertical-align: middle;\n",
       "    }\n",
       "\n",
       "    .dataframe tbody tr th {\n",
       "        vertical-align: top;\n",
       "    }\n",
       "\n",
       "    .dataframe thead th {\n",
       "        text-align: right;\n",
       "    }\n",
       "</style>\n",
       "<table border=\"1\" class=\"dataframe\">\n",
       "  <thead>\n",
       "    <tr style=\"text-align: right;\">\n",
       "      <th></th>\n",
       "      <th>상품명</th>\n",
       "      <th>구매자명ID</th>\n",
       "    </tr>\n",
       "  </thead>\n",
       "  <tbody>\n",
       "    <tr>\n",
       "      <th>0</th>\n",
       "      <td>[La belle rose]마린 브이 여름니트</td>\n",
       "      <td>김지애wldo****</td>\n",
       "    </tr>\n",
       "    <tr>\n",
       "      <th>1</th>\n",
       "      <td>[La belle rose]마린 브이 여름니트</td>\n",
       "      <td>김지애wldo****</td>\n",
       "    </tr>\n",
       "    <tr>\n",
       "      <th>2</th>\n",
       "      <td>[La belle rose]프롬 퍼프원피스</td>\n",
       "      <td>최혜리hyer****</td>\n",
       "    </tr>\n",
       "    <tr>\n",
       "      <th>3</th>\n",
       "      <td>[La belle rose]프롬 퍼프원피스</td>\n",
       "      <td>최혜리hyer****</td>\n",
       "    </tr>\n",
       "    <tr>\n",
       "      <th>4</th>\n",
       "      <td>구미 버튼린넨티</td>\n",
       "      <td>박효진gywl****</td>\n",
       "    </tr>\n",
       "  </tbody>\n",
       "</table>\n",
       "</div>"
      ],
      "text/plain": [
       "                         상품명       구매자명ID\n",
       "0  [La belle rose]마린 브이 여름니트  김지애wldo****\n",
       "1  [La belle rose]마린 브이 여름니트  김지애wldo****\n",
       "2    [La belle rose]프롬 퍼프원피스  최혜리hyer****\n",
       "3    [La belle rose]프롬 퍼프원피스  최혜리hyer****\n",
       "4                   구미 버튼린넨티  박효진gywl****"
      ]
     },
     "execution_count": 167,
     "metadata": {},
     "output_type": "execute_result"
    }
   ],
   "source": [
    "zigzag1.head()"
   ]
  },
  {
   "cell_type": "code",
   "execution_count": 168,
   "metadata": {},
   "outputs": [
    {
     "data": {
      "text/html": [
       "<div>\n",
       "<style scoped>\n",
       "    .dataframe tbody tr th:only-of-type {\n",
       "        vertical-align: middle;\n",
       "    }\n",
       "\n",
       "    .dataframe tbody tr th {\n",
       "        vertical-align: top;\n",
       "    }\n",
       "\n",
       "    .dataframe thead th {\n",
       "        text-align: right;\n",
       "    }\n",
       "</style>\n",
       "<table border=\"1\" class=\"dataframe\">\n",
       "  <thead>\n",
       "    <tr style=\"text-align: right;\">\n",
       "      <th></th>\n",
       "      <th>상품명</th>\n",
       "      <th>구매자명ID</th>\n",
       "    </tr>\n",
       "  </thead>\n",
       "  <tbody>\n",
       "    <tr>\n",
       "      <th>0</th>\n",
       "      <td>본트 롱원피스(스트랩set)</td>\n",
       "      <td>이지혜</td>\n",
       "    </tr>\n",
       "    <tr>\n",
       "      <th>1</th>\n",
       "      <td>젤르 린넨 라운드가디건</td>\n",
       "      <td>1430615835@k</td>\n",
       "    </tr>\n",
       "    <tr>\n",
       "      <th>2</th>\n",
       "      <td>[La belle rose]데일리 여리핏 슬림유넥티</td>\n",
       "      <td>1430615835@k</td>\n",
       "    </tr>\n",
       "    <tr>\n",
       "      <th>3</th>\n",
       "      <td>워터 체크 롱스커트</td>\n",
       "      <td>1430615835@k</td>\n",
       "    </tr>\n",
       "    <tr>\n",
       "      <th>4</th>\n",
       "      <td>후노 크롭티셔츠</td>\n",
       "      <td>1430615835@k</td>\n",
       "    </tr>\n",
       "  </tbody>\n",
       "</table>\n",
       "</div>"
      ],
      "text/plain": [
       "                            상품명        구매자명ID\n",
       "0               본트 롱원피스(스트랩set)           이지혜\n",
       "1                  젤르 린넨 라운드가디건  1430615835@k\n",
       "2  [La belle rose]데일리 여리핏 슬림유넥티  1430615835@k\n",
       "3                    워터 체크 롱스커트  1430615835@k\n",
       "4                      후노 크롭티셔츠  1430615835@k"
      ]
     },
     "execution_count": 168,
     "metadata": {},
     "output_type": "execute_result"
    }
   ],
   "source": [
    "cafe1.head()"
   ]
  },
  {
   "cell_type": "code",
   "execution_count": 169,
   "metadata": {},
   "outputs": [
    {
     "data": {
      "text/html": [
       "<div>\n",
       "<style scoped>\n",
       "    .dataframe tbody tr th:only-of-type {\n",
       "        vertical-align: middle;\n",
       "    }\n",
       "\n",
       "    .dataframe tbody tr th {\n",
       "        vertical-align: top;\n",
       "    }\n",
       "\n",
       "    .dataframe thead th {\n",
       "        text-align: right;\n",
       "    }\n",
       "</style>\n",
       "<table border=\"1\" class=\"dataframe\">\n",
       "  <thead>\n",
       "    <tr style=\"text-align: right;\">\n",
       "      <th></th>\n",
       "      <th>상품명</th>\n",
       "      <th>구매자명ID</th>\n",
       "    </tr>\n",
       "  </thead>\n",
       "  <tbody>\n",
       "    <tr>\n",
       "      <th>0</th>\n",
       "      <td>[La belle rose]마린 브이 여름니트</td>\n",
       "      <td>김지애wldo****</td>\n",
       "    </tr>\n",
       "    <tr>\n",
       "      <th>1</th>\n",
       "      <td>[La belle rose]마린 브이 여름니트</td>\n",
       "      <td>김지애wldo****</td>\n",
       "    </tr>\n",
       "    <tr>\n",
       "      <th>2</th>\n",
       "      <td>[La belle rose]프롬 퍼프원피스</td>\n",
       "      <td>최혜리hyer****</td>\n",
       "    </tr>\n",
       "    <tr>\n",
       "      <th>3</th>\n",
       "      <td>[La belle rose]프롬 퍼프원피스</td>\n",
       "      <td>최혜리hyer****</td>\n",
       "    </tr>\n",
       "    <tr>\n",
       "      <th>4</th>\n",
       "      <td>구미 버튼린넨티</td>\n",
       "      <td>박효진gywl****</td>\n",
       "    </tr>\n",
       "  </tbody>\n",
       "</table>\n",
       "</div>"
      ],
      "text/plain": [
       "                         상품명       구매자명ID\n",
       "0  [La belle rose]마린 브이 여름니트  김지애wldo****\n",
       "1  [La belle rose]마린 브이 여름니트  김지애wldo****\n",
       "2    [La belle rose]프롬 퍼프원피스  최혜리hyer****\n",
       "3    [La belle rose]프롬 퍼프원피스  최혜리hyer****\n",
       "4                   구미 버튼린넨티  박효진gywl****"
      ]
     },
     "execution_count": 169,
     "metadata": {},
     "output_type": "execute_result"
    }
   ],
   "source": [
    "quar1=pd.concat([zigzag1,cafe1],axis=0)\n",
    "quar1.head()"
   ]
  },
  {
   "cell_type": "code",
   "execution_count": 170,
   "metadata": {},
   "outputs": [
    {
     "data": {
      "text/html": [
       "<div>\n",
       "<style scoped>\n",
       "    .dataframe tbody tr th:only-of-type {\n",
       "        vertical-align: middle;\n",
       "    }\n",
       "\n",
       "    .dataframe tbody tr th {\n",
       "        vertical-align: top;\n",
       "    }\n",
       "\n",
       "    .dataframe thead th {\n",
       "        text-align: right;\n",
       "    }\n",
       "</style>\n",
       "<table border=\"1\" class=\"dataframe\">\n",
       "  <thead>\n",
       "    <tr style=\"text-align: right;\">\n",
       "      <th></th>\n",
       "      <th>Unnamed: 0</th>\n",
       "      <th>수령인 휴대전화</th>\n",
       "      <th>상품명</th>\n",
       "      <th>색깔_x</th>\n",
       "      <th>Unnamed: 3</th>\n",
       "      <th>색깔_y</th>\n",
       "      <th>카테고리</th>\n",
       "      <th>RGB</th>\n",
       "      <th>패턴재질</th>\n",
       "      <th>모양</th>\n",
       "      <th>계절</th>\n",
       "      <th>평균평점</th>\n",
       "      <th>스타일</th>\n",
       "      <th>종합점수</th>\n",
       "      <th>자체제작여부</th>\n",
       "    </tr>\n",
       "  </thead>\n",
       "  <tbody>\n",
       "    <tr>\n",
       "      <th>0</th>\n",
       "      <td>0</td>\n",
       "      <td>010-9926-8956</td>\n",
       "      <td>[La belle rose]토버 숏자켓</td>\n",
       "      <td>블랙</td>\n",
       "      <td>NaN</td>\n",
       "      <td>네이비</td>\n",
       "      <td>아우터</td>\n",
       "      <td>0, 0, 129</td>\n",
       "      <td>무지</td>\n",
       "      <td>크롭</td>\n",
       "      <td>가을</td>\n",
       "      <td>0.0</td>\n",
       "      <td>오피스</td>\n",
       "      <td>0.0</td>\n",
       "      <td>자체제작</td>\n",
       "    </tr>\n",
       "    <tr>\n",
       "      <th>1</th>\n",
       "      <td>1</td>\n",
       "      <td>010-9926-8956</td>\n",
       "      <td>[La belle rose]토버 숏자켓</td>\n",
       "      <td>블랙</td>\n",
       "      <td>NaN</td>\n",
       "      <td>블랙</td>\n",
       "      <td>아우터</td>\n",
       "      <td>0, 0, 0</td>\n",
       "      <td>무지</td>\n",
       "      <td>크롭</td>\n",
       "      <td>가을</td>\n",
       "      <td>0.0</td>\n",
       "      <td>오피스</td>\n",
       "      <td>0.0</td>\n",
       "      <td>자체제작</td>\n",
       "    </tr>\n",
       "    <tr>\n",
       "      <th>2</th>\n",
       "      <td>2</td>\n",
       "      <td>ekthadk1113010-7907-3120</td>\n",
       "      <td>[La belle rose]토버 숏자켓</td>\n",
       "      <td>네이비</td>\n",
       "      <td>NaN</td>\n",
       "      <td>네이비</td>\n",
       "      <td>아우터</td>\n",
       "      <td>0, 0, 129</td>\n",
       "      <td>무지</td>\n",
       "      <td>크롭</td>\n",
       "      <td>가을</td>\n",
       "      <td>0.0</td>\n",
       "      <td>오피스</td>\n",
       "      <td>0.0</td>\n",
       "      <td>자체제작</td>\n",
       "    </tr>\n",
       "    <tr>\n",
       "      <th>3</th>\n",
       "      <td>3</td>\n",
       "      <td>ekthadk1113010-7907-3120</td>\n",
       "      <td>[La belle rose]토버 숏자켓</td>\n",
       "      <td>네이비</td>\n",
       "      <td>NaN</td>\n",
       "      <td>블랙</td>\n",
       "      <td>아우터</td>\n",
       "      <td>0, 0, 0</td>\n",
       "      <td>무지</td>\n",
       "      <td>크롭</td>\n",
       "      <td>가을</td>\n",
       "      <td>0.0</td>\n",
       "      <td>오피스</td>\n",
       "      <td>0.0</td>\n",
       "      <td>자체제작</td>\n",
       "    </tr>\n",
       "    <tr>\n",
       "      <th>4</th>\n",
       "      <td>4</td>\n",
       "      <td>kd03107010-9926-8956</td>\n",
       "      <td>[La belle rose]토버 숏자켓</td>\n",
       "      <td>블랙</td>\n",
       "      <td>NaN</td>\n",
       "      <td>네이비</td>\n",
       "      <td>아우터</td>\n",
       "      <td>0, 0, 129</td>\n",
       "      <td>무지</td>\n",
       "      <td>크롭</td>\n",
       "      <td>가을</td>\n",
       "      <td>0.0</td>\n",
       "      <td>오피스</td>\n",
       "      <td>0.0</td>\n",
       "      <td>자체제작</td>\n",
       "    </tr>\n",
       "  </tbody>\n",
       "</table>\n",
       "</div>"
      ],
      "text/plain": [
       "   Unnamed: 0                  수령인 휴대전화                    상품명 색깔_x  \\\n",
       "0           0             010-9926-8956  [La belle rose]토버 숏자켓   블랙   \n",
       "1           1             010-9926-8956  [La belle rose]토버 숏자켓   블랙   \n",
       "2           2  ekthadk1113010-7907-3120  [La belle rose]토버 숏자켓  네이비   \n",
       "3           3  ekthadk1113010-7907-3120  [La belle rose]토버 숏자켓  네이비   \n",
       "4           4      kd03107010-9926-8956  [La belle rose]토버 숏자켓   블랙   \n",
       "\n",
       "   Unnamed: 3 색깔_y 카테고리        RGB 패턴재질  모양     계절  평균평점  스타일  종합점수 자체제작여부  \n",
       "0         NaN  네이비  아우터  0, 0, 129   무지  크롭  가을      0.0  오피스   0.0   자체제작  \n",
       "1         NaN   블랙  아우터    0, 0, 0   무지  크롭  가을      0.0  오피스   0.0   자체제작  \n",
       "2         NaN  네이비  아우터  0, 0, 129   무지  크롭  가을      0.0  오피스   0.0   자체제작  \n",
       "3         NaN   블랙  아우터    0, 0, 0   무지  크롭  가을      0.0  오피스   0.0   자체제작  \n",
       "4         NaN  네이비  아우터  0, 0, 129   무지  크롭  가을      0.0  오피스   0.0   자체제작  "
      ]
     },
     "execution_count": 170,
     "metadata": {},
     "output_type": "execute_result"
    }
   ],
   "source": [
    "bestest=pd.read_excel('최우수DB.xlsx')\n",
    "bestest.head()"
   ]
  },
  {
   "cell_type": "code",
   "execution_count": 171,
   "metadata": {},
   "outputs": [
    {
     "data": {
      "text/plain": [
       "Index(['Unnamed: 0', '수령인 휴대전화', '상품명', '색깔_x', 'Unnamed: 3', '색깔_y', '카테고리',\n",
       "       'RGB', '패턴재질', '모양', '계절', '평균평점', '스타일', '종합점수', '자체제작여부'],\n",
       "      dtype='object')"
      ]
     },
     "execution_count": 171,
     "metadata": {},
     "output_type": "execute_result"
    }
   ],
   "source": [
    "bestest.columns"
   ]
  },
  {
   "cell_type": "code",
   "execution_count": 172,
   "metadata": {},
   "outputs": [],
   "source": [
    "bestest.rename(columns={'수령인 휴대전화':'구매자명ID'},inplace=True)"
   ]
  },
  {
   "cell_type": "code",
   "execution_count": 173,
   "metadata": {},
   "outputs": [
    {
     "data": {
      "text/html": [
       "<div>\n",
       "<style scoped>\n",
       "    .dataframe tbody tr th:only-of-type {\n",
       "        vertical-align: middle;\n",
       "    }\n",
       "\n",
       "    .dataframe tbody tr th {\n",
       "        vertical-align: top;\n",
       "    }\n",
       "\n",
       "    .dataframe thead th {\n",
       "        text-align: right;\n",
       "    }\n",
       "</style>\n",
       "<table border=\"1\" class=\"dataframe\">\n",
       "  <thead>\n",
       "    <tr style=\"text-align: right;\">\n",
       "      <th></th>\n",
       "      <th>상품명</th>\n",
       "      <th>구매자명ID</th>\n",
       "      <th>카테고리</th>\n",
       "      <th>스타일</th>\n",
       "      <th>자체제작여부</th>\n",
       "    </tr>\n",
       "  </thead>\n",
       "  <tbody>\n",
       "    <tr>\n",
       "      <th>0</th>\n",
       "      <td>[La belle rose]토버 숏자켓</td>\n",
       "      <td>010-9926-8956</td>\n",
       "      <td>아우터</td>\n",
       "      <td>오피스</td>\n",
       "      <td>자체제작</td>\n",
       "    </tr>\n",
       "    <tr>\n",
       "      <th>1</th>\n",
       "      <td>[La belle rose]토버 숏자켓</td>\n",
       "      <td>010-9926-8956</td>\n",
       "      <td>아우터</td>\n",
       "      <td>오피스</td>\n",
       "      <td>자체제작</td>\n",
       "    </tr>\n",
       "    <tr>\n",
       "      <th>2</th>\n",
       "      <td>[La belle rose]토버 숏자켓</td>\n",
       "      <td>ekthadk1113010-7907-3120</td>\n",
       "      <td>아우터</td>\n",
       "      <td>오피스</td>\n",
       "      <td>자체제작</td>\n",
       "    </tr>\n",
       "    <tr>\n",
       "      <th>3</th>\n",
       "      <td>[La belle rose]토버 숏자켓</td>\n",
       "      <td>ekthadk1113010-7907-3120</td>\n",
       "      <td>아우터</td>\n",
       "      <td>오피스</td>\n",
       "      <td>자체제작</td>\n",
       "    </tr>\n",
       "    <tr>\n",
       "      <th>4</th>\n",
       "      <td>[La belle rose]토버 숏자켓</td>\n",
       "      <td>kd03107010-9926-8956</td>\n",
       "      <td>아우터</td>\n",
       "      <td>오피스</td>\n",
       "      <td>자체제작</td>\n",
       "    </tr>\n",
       "  </tbody>\n",
       "</table>\n",
       "</div>"
      ],
      "text/plain": [
       "                     상품명                    구매자명ID 카테고리  스타일 자체제작여부\n",
       "0  [La belle rose]토버 숏자켓             010-9926-8956  아우터  오피스   자체제작\n",
       "1  [La belle rose]토버 숏자켓             010-9926-8956  아우터  오피스   자체제작\n",
       "2  [La belle rose]토버 숏자켓  ekthadk1113010-7907-3120  아우터  오피스   자체제작\n",
       "3  [La belle rose]토버 숏자켓  ekthadk1113010-7907-3120  아우터  오피스   자체제작\n",
       "4  [La belle rose]토버 숏자켓      kd03107010-9926-8956  아우터  오피스   자체제작"
      ]
     },
     "execution_count": 173,
     "metadata": {},
     "output_type": "execute_result"
    }
   ],
   "source": [
    "bestest=bestest[['상품명','구매자명ID','카테고리','스타일','자체제작여부']]\n",
    "bestest.head()"
   ]
  },
  {
   "cell_type": "code",
   "execution_count": 174,
   "metadata": {},
   "outputs": [],
   "source": [
    "# dbscan 파일(상품명 + 유저아이디번호 + 스타일 + 카테고리) + 지그재그 1번 결과 merge\n",
    "# 기준 : 1분기파일, dbscan파일,how=inner,on=유저아이디번호,상품명\n",
    "unidata1=pd.merge(quar1, bestest, how='inner',on=['구매자명ID','상품명'])"
   ]
  },
  {
   "cell_type": "code",
   "execution_count": 175,
   "metadata": {},
   "outputs": [
    {
     "data": {
      "text/html": [
       "<div>\n",
       "<style scoped>\n",
       "    .dataframe tbody tr th:only-of-type {\n",
       "        vertical-align: middle;\n",
       "    }\n",
       "\n",
       "    .dataframe tbody tr th {\n",
       "        vertical-align: top;\n",
       "    }\n",
       "\n",
       "    .dataframe thead th {\n",
       "        text-align: right;\n",
       "    }\n",
       "</style>\n",
       "<table border=\"1\" class=\"dataframe\">\n",
       "  <thead>\n",
       "    <tr style=\"text-align: right;\">\n",
       "      <th></th>\n",
       "      <th>상품명</th>\n",
       "      <th>구매자명ID</th>\n",
       "      <th>카테고리</th>\n",
       "      <th>스타일</th>\n",
       "      <th>자체제작여부</th>\n",
       "    </tr>\n",
       "  </thead>\n",
       "  <tbody>\n",
       "    <tr>\n",
       "      <th>0</th>\n",
       "      <td>[DAYONE LABEL/1+1♥]버디 나시 롱원피스</td>\n",
       "      <td>김지수jiso****</td>\n",
       "      <td>원피스</td>\n",
       "      <td>러블리</td>\n",
       "      <td>자체제작</td>\n",
       "    </tr>\n",
       "    <tr>\n",
       "      <th>1</th>\n",
       "      <td>[DAYONE LABEL/1+1♥]버디 나시 롱원피스</td>\n",
       "      <td>김지수jiso****</td>\n",
       "      <td>원피스</td>\n",
       "      <td>섹시</td>\n",
       "      <td>자체제작</td>\n",
       "    </tr>\n",
       "    <tr>\n",
       "      <th>2</th>\n",
       "      <td>[DAYONE LABEL/1+1♥]버디 나시 롱원피스</td>\n",
       "      <td>김지수jiso****</td>\n",
       "      <td>원피스</td>\n",
       "      <td>섹시</td>\n",
       "      <td>자체제작</td>\n",
       "    </tr>\n",
       "    <tr>\n",
       "      <th>3</th>\n",
       "      <td>[DAYONE LABEL/1+1♥]버디 나시 롱원피스</td>\n",
       "      <td>김지수jiso****</td>\n",
       "      <td>원피스</td>\n",
       "      <td>러블리</td>\n",
       "      <td>자체제작</td>\n",
       "    </tr>\n",
       "    <tr>\n",
       "      <th>4</th>\n",
       "      <td>[DAYONE LABEL/1+1♥]버디 나시 롱원피스</td>\n",
       "      <td>김지수jiso****</td>\n",
       "      <td>원피스</td>\n",
       "      <td>섹시</td>\n",
       "      <td>자체제작</td>\n",
       "    </tr>\n",
       "    <tr>\n",
       "      <th>...</th>\n",
       "      <td>...</td>\n",
       "      <td>...</td>\n",
       "      <td>...</td>\n",
       "      <td>...</td>\n",
       "      <td>...</td>\n",
       "    </tr>\n",
       "    <tr>\n",
       "      <th>3959</th>\n",
       "      <td>마넬 머메이드 뷔스티에원피스</td>\n",
       "      <td>김유라yuuu****</td>\n",
       "      <td>원피스</td>\n",
       "      <td>섹시</td>\n",
       "      <td>자체제작아님</td>\n",
       "    </tr>\n",
       "    <tr>\n",
       "      <th>3960</th>\n",
       "      <td>골져스 시스루블라우스</td>\n",
       "      <td>김유라yuuu****</td>\n",
       "      <td>상의</td>\n",
       "      <td>하객룩</td>\n",
       "      <td>자체제작아님</td>\n",
       "    </tr>\n",
       "    <tr>\n",
       "      <th>3961</th>\n",
       "      <td>골져스 시스루블라우스</td>\n",
       "      <td>김유라yuuu****</td>\n",
       "      <td>상의</td>\n",
       "      <td>하객룩</td>\n",
       "      <td>자체제작아님</td>\n",
       "    </tr>\n",
       "    <tr>\n",
       "      <th>3962</th>\n",
       "      <td>골져스 시스루블라우스</td>\n",
       "      <td>김유라yuuu****</td>\n",
       "      <td>상의</td>\n",
       "      <td>하객룩</td>\n",
       "      <td>자체제작아님</td>\n",
       "    </tr>\n",
       "    <tr>\n",
       "      <th>3963</th>\n",
       "      <td>골져스 시스루블라우스</td>\n",
       "      <td>김유라yuuu****</td>\n",
       "      <td>상의</td>\n",
       "      <td>하객룩</td>\n",
       "      <td>자체제작아님</td>\n",
       "    </tr>\n",
       "  </tbody>\n",
       "</table>\n",
       "<p>3964 rows × 5 columns</p>\n",
       "</div>"
      ],
      "text/plain": [
       "                                상품명       구매자명ID 카테고리  스타일  자체제작여부\n",
       "0     [DAYONE LABEL/1+1♥]버디 나시 롱원피스  김지수jiso****  원피스  러블리    자체제작\n",
       "1     [DAYONE LABEL/1+1♥]버디 나시 롱원피스  김지수jiso****  원피스   섹시    자체제작\n",
       "2     [DAYONE LABEL/1+1♥]버디 나시 롱원피스  김지수jiso****  원피스   섹시    자체제작\n",
       "3     [DAYONE LABEL/1+1♥]버디 나시 롱원피스  김지수jiso****  원피스  러블리    자체제작\n",
       "4     [DAYONE LABEL/1+1♥]버디 나시 롱원피스  김지수jiso****  원피스   섹시    자체제작\n",
       "...                             ...          ...  ...  ...     ...\n",
       "3959                마넬 머메이드 뷔스티에원피스  김유라yuuu****  원피스   섹시  자체제작아님\n",
       "3960                    골져스 시스루블라우스  김유라yuuu****   상의  하객룩  자체제작아님\n",
       "3961                    골져스 시스루블라우스  김유라yuuu****   상의  하객룩  자체제작아님\n",
       "3962                    골져스 시스루블라우스  김유라yuuu****   상의  하객룩  자체제작아님\n",
       "3963                    골져스 시스루블라우스  김유라yuuu****   상의  하객룩  자체제작아님\n",
       "\n",
       "[3964 rows x 5 columns]"
      ]
     },
     "execution_count": 175,
     "metadata": {},
     "output_type": "execute_result"
    }
   ],
   "source": [
    "unidata1"
   ]
  },
  {
   "cell_type": "code",
   "execution_count": 177,
   "metadata": {},
   "outputs": [],
   "source": [
    "unidata1.loc[:,'상품명'] = unidata1.loc[:,'상품명'].astype('category').cat.codes\n",
    "unidata1.loc[:,'구매자명ID'] = unidata1.loc[:,'구매자명ID'].astype('category').cat.codes\n",
    "unidata1.loc[:,'카테고리'] = unidata1.loc[:,'카테고리'].astype('category').cat.codes\n",
    "unidata1.loc[:,'스타일'] = unidata1.loc[:,'스타일'].astype('category').cat.codes\n",
    "unidata1.loc[:,'자체제작여부'] = unidata1.loc[:,'자체제작여부'].astype('category').cat.codes\n"
   ]
  },
  {
   "cell_type": "code",
   "execution_count": 179,
   "metadata": {},
   "outputs": [
    {
     "data": {
      "text/html": [
       "<div>\n",
       "<style scoped>\n",
       "    .dataframe tbody tr th:only-of-type {\n",
       "        vertical-align: middle;\n",
       "    }\n",
       "\n",
       "    .dataframe tbody tr th {\n",
       "        vertical-align: top;\n",
       "    }\n",
       "\n",
       "    .dataframe thead th {\n",
       "        text-align: right;\n",
       "    }\n",
       "</style>\n",
       "<table border=\"1\" class=\"dataframe\">\n",
       "  <thead>\n",
       "    <tr style=\"text-align: right;\">\n",
       "      <th></th>\n",
       "      <th>상품명</th>\n",
       "      <th>구매자명ID</th>\n",
       "      <th>카테고리</th>\n",
       "      <th>스타일</th>\n",
       "      <th>자체제작여부</th>\n",
       "    </tr>\n",
       "  </thead>\n",
       "  <tbody>\n",
       "    <tr>\n",
       "      <th>0</th>\n",
       "      <td>4</td>\n",
       "      <td>1</td>\n",
       "      <td>5</td>\n",
       "      <td>0</td>\n",
       "      <td>0</td>\n",
       "    </tr>\n",
       "    <tr>\n",
       "      <th>1</th>\n",
       "      <td>4</td>\n",
       "      <td>1</td>\n",
       "      <td>5</td>\n",
       "      <td>3</td>\n",
       "      <td>0</td>\n",
       "    </tr>\n",
       "    <tr>\n",
       "      <th>2</th>\n",
       "      <td>4</td>\n",
       "      <td>1</td>\n",
       "      <td>5</td>\n",
       "      <td>3</td>\n",
       "      <td>0</td>\n",
       "    </tr>\n",
       "    <tr>\n",
       "      <th>3</th>\n",
       "      <td>4</td>\n",
       "      <td>1</td>\n",
       "      <td>5</td>\n",
       "      <td>0</td>\n",
       "      <td>0</td>\n",
       "    </tr>\n",
       "    <tr>\n",
       "      <th>4</th>\n",
       "      <td>4</td>\n",
       "      <td>1</td>\n",
       "      <td>5</td>\n",
       "      <td>3</td>\n",
       "      <td>0</td>\n",
       "    </tr>\n",
       "  </tbody>\n",
       "</table>\n",
       "</div>"
      ],
      "text/plain": [
       "   상품명  구매자명ID  카테고리  스타일  자체제작여부\n",
       "0    4       1     5    0       0\n",
       "1    4       1     5    3       0\n",
       "2    4       1     5    3       0\n",
       "3    4       1     5    0       0\n",
       "4    4       1     5    3       0"
      ]
     },
     "execution_count": 179,
     "metadata": {},
     "output_type": "execute_result"
    }
   ],
   "source": [
    "unidata1.head()"
   ]
  },
  {
   "cell_type": "code",
   "execution_count": 181,
   "metadata": {},
   "outputs": [],
   "source": [
    "model=DBSCAN(min_samples=6)\n",
    "predict=pd.DataFrame(model.fit_predict(unidata1))\n",
    "predict.columns=['predict']"
   ]
  },
  {
   "cell_type": "code",
   "execution_count": 182,
   "metadata": {},
   "outputs": [],
   "source": [
    "r=pd.concat([unidata1,predict],axis=1)"
   ]
  },
  {
   "cell_type": "code",
   "execution_count": 201,
   "metadata": {},
   "outputs": [
    {
     "data": {
      "text/plain": [
       " 6      600\n",
       " 107    256\n",
       "-1      208\n",
       " 109    144\n",
       " 50     128\n",
       "       ... \n",
       " 21       8\n",
       " 25       8\n",
       " 39       8\n",
       " 43       8\n",
       " 0        8\n",
       "Name: predict, Length: 192, dtype: int64"
      ]
     },
     "execution_count": 201,
     "metadata": {},
     "output_type": "execute_result"
    }
   ],
   "source": [
    "r['predict'].value_counts()"
   ]
  },
  {
   "cell_type": "code",
   "execution_count": 206,
   "metadata": {},
   "outputs": [
    {
     "data": {
      "image/png": "[encoded data removed]",
      "text/plain": [
       "<Figure size 432x432 with 1 Axes>"
      ]
     },
     "metadata": {
      "needs_background": "light"
     },
     "output_type": "display_data"
    }
   ],
   "source": [
    "from mpl_toolkits.mplot3d import Axes3D\n",
    "from matplotlib import font_manager, rc\n",
    "font_path='C:\\Windows\\Fonts/malgun.ttf'\n",
    "font=font_manager.FontProperties(fname=font_path).get_name() # 폰트 적용\n",
    "rc('font',family=font)\n",
    "\n",
    "# scatter plot\n",
    "fig = plt.figure( figsize=(6,6))\n",
    "ax = Axes3D(fig, rect=[1, 1, .95, 1], elev=48, azim=134)\n",
    "ax.scatter(r['자체제작여부'],r['스타일'],r['카테고리'],c=r['predict'],alpha=0.5)\n",
    "ax.set_xlabel('자체제작여부')\n",
    "ax.set_ylabel('스타일')\n",
    "ax.set_zlabel('카테고리')\n",
    "plt.show()\n"
   ]
  },
  {
   "cell_type": "code",
   "execution_count": 207,
   "metadata": {},
   "outputs": [
    {
     "data": {
      "text/plain": [
       "<matplotlib.collections.PathCollection at 0x1b8e7369d00>"
      ]
     },
     "execution_count": 207,
     "metadata": {},
     "output_type": "execute_result"
    },
    {
     "data": {
      "image/png": "[encoded data removed]",
      "text/plain": [
       "<Figure size 432x288 with 1 Axes>"
      ]
     },
     "metadata": {
      "needs_background": "light"
     },
     "output_type": "display_data"
    }
   ],
   "source": [
    "plt.scatter(r['스타일'],r['predict'])"
   ]
  },
  {
   "cell_type": "code",
   "execution_count": 208,
   "metadata": {},
   "outputs": [
    {
     "data": {
      "text/plain": [
       "<matplotlib.collections.PathCollection at 0x1b8f5f47520>"
      ]
     },
     "execution_count": 208,
     "metadata": {},
     "output_type": "execute_result"
    },
    {
     "data": {
      "image/png": "[encoded data removed]",
      "text/plain": [
       "<Figure size 432x288 with 1 Axes>"
      ]
     },
     "metadata": {
      "needs_background": "light"
     },
     "output_type": "display_data"
    }
   ],
   "source": [
    "plt.scatter(r['카테고리'],r['predict'])"
   ]
  },
  {
   "cell_type": "code",
   "execution_count": 209,
   "metadata": {},
   "outputs": [
    {
     "data": {
      "text/plain": [
       "<matplotlib.collections.PathCollection at 0x1b8e7371280>"
      ]
     },
     "execution_count": 209,
     "metadata": {},
     "output_type": "execute_result"
    },
    {
     "data": {
      "image/png": "[encoded data removed]",
      "text/plain": [
       "<Figure size 432x288 with 1 Axes>"
      ]
     },
     "metadata": {
      "needs_background": "light"
     },
     "output_type": "display_data"
    }
   ],
   "source": [
    "plt.scatter(r['자체제작여부'],r['predict'])"
   ]
  },
  {
   "cell_type": "code",
   "execution_count": null,
   "metadata": {},
   "outputs": [],
   "source": []
  }
 ],
 "metadata": {
  "kernelspec": {
   "display_name": "Python 3",
   "language": "python",
   "name": "python3"
  },
  "language_info": {
   "codemirror_mode": {
    "name": "ipython",
    "version": 3
   },
   "file_extension": ".py",
   "mimetype": "text/x-python",
   "name": "python",
   "nbconvert_exporter": "python",
   "pygments_lexer": "ipython3",
   "version": "3.8.5"
  }
 },
 "nbformat": 4,
 "nbformat_minor": 4
}
