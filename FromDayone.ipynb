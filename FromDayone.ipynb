{
 "cells": [
  {
   "cell_type": "code",
   "execution_count": 1,
   "metadata": {},
   "outputs": [],
   "source": [
    "import pandas as pd\n",
    "import numpy as np\n",
    "import matplotlib.pyplot as plt\n",
    "%matplotlib inline"
   ]
  },
  {
   "cell_type": "code",
   "execution_count": 6,
   "metadata": {},
   "outputs": [],
   "source": [
    "person_c24=pd.read_csv('cafe24 0719~고객관리.csv')\n",
    "sellmate567=pd.read_excel('셀메이트 567월.xlsx')\n",
    "sellmate7=pd.read_excel('셀메이트 7월 자세하게.xlsx')\n",
    "zigzag_july=pd.read_excel('지그재그전체주문검색-20210701-20210728.xlsx')\n",
    "c24_order=pd.read_csv('cafe24-order (1).csv')\n",
    "s_ordlist=pd.read_excel('셀메이트 오더리스트.xlsx')"
   ]
  },
  {
   "cell_type": "code",
   "execution_count": 7,
   "metadata": {},
   "outputs": [],
   "source": [
    "c24_order_c1=c24_order.iloc[:,:50]\n",
    "c24_order_c2=c24_order.iloc[:,50:100]\n",
    "c24_order_c3=c24_order.iloc[:,100:150]\n",
    "c24_order_c4=c24_order.iloc[:,150:200]\n",
    "c24_order_c5=c24_order.iloc[:,200:250]\n",
    "c24_order_c6=c24_order.iloc[:,250:]"
   ]
  },
  {
   "cell_type": "code",
   "execution_count": 8,
   "metadata": {},
   "outputs": [
    {
     "name": "stdout",
     "output_type": "stream",
     "text": [
      "<class 'pandas.core.frame.DataFrame'>\n",
      "RangeIndex: 732 entries, 0 to 731\n",
      "Data columns (total 13 columns):\n",
      " #   Column    Non-Null Count  Dtype  \n",
      "---  ------    --------------  -----  \n",
      " 0   아이디       732 non-null    object \n",
      " 1   이름        699 non-null    object \n",
      " 2   회원등급      732 non-null    object \n",
      " 3   나이        611 non-null    float64\n",
      " 4   이메일       680 non-null    object \n",
      " 5   휴대폰번호     732 non-null    object \n",
      " 6   총 사용 적립금  732 non-null    int64  \n",
      " 7   사용가능 적립금  732 non-null    int64  \n",
      " 8   회원 가입일    732 non-null    object \n",
      " 9   휴면처리일     129 non-null    object \n",
      " 10  탈퇴일       0 non-null      float64\n",
      " 11  탈퇴구분      0 non-null      float64\n",
      " 12  탈퇴사유      0 non-null      float64\n",
      "dtypes: float64(4), int64(2), object(7)\n",
      "memory usage: 74.5+ KB\n"
     ]
    }
   ],
   "source": [
    "person_c24.info()"
   ]
  },
  {
   "cell_type": "code",
   "execution_count": 9,
   "metadata": {},
   "outputs": [
    {
     "name": "stdout",
     "output_type": "stream",
     "text": [
      "<class 'pandas.core.frame.DataFrame'>\n",
      "RangeIndex: 25327 entries, 0 to 25326\n",
      "Data columns (total 28 columns):\n",
      " #   Column              Non-Null Count  Dtype         \n",
      "---  ------              --------------  -----         \n",
      " 0   공급처명                25327 non-null  object        \n",
      " 1   발송일자                24176 non-null  object        \n",
      " 2   배송지연일               800 non-null    object        \n",
      " 3   보류여부                25327 non-null  object        \n",
      " 4   사입상품명               24022 non-null  object        \n",
      " 5   상품대표판매가             25327 non-null  int64         \n",
      " 6   상품명(상품매칭)           25327 non-null  object        \n",
      " 7   상품명(상품미매칭시 판매처상품명)  25327 non-null  object        \n",
      " 8   상품코드                24151 non-null  float64       \n",
      " 9   수령자                 25327 non-null  object        \n",
      " 10  일련번호                25327 non-null  int64         \n",
      " 11  주문금액                25327 non-null  int64         \n",
      " 12  주문상품출고일시            24175 non-null  object        \n",
      " 13  주문수량                25327 non-null  int64         \n",
      " 14  주문일자                25327 non-null  datetime64[ns]\n",
      " 15  주문입력일시              25327 non-null  object        \n",
      " 16  주문자                 25327 non-null  object        \n",
      " 17  주문자휴대폰              25327 non-null  object        \n",
      " 18  최종발송작업자ID           24176 non-null  object        \n",
      " 19  출고여부                25327 non-null  object        \n",
      " 20  카페24품주번호            24213 non-null  object        \n",
      " 21  판매처명                25327 non-null  object        \n",
      " 22  판매처상품코드             25327 non-null  int64         \n",
      " 23  판매처상품코드(서식)         25327 non-null  int64         \n",
      " 24  판매처주문번호             25327 non-null  object        \n",
      " 25  판매처주문번호(서식)         25327 non-null  object        \n",
      " 26  합포번호                19320 non-null  float64       \n",
      " 27  판매처상품명              25327 non-null  object        \n",
      "dtypes: datetime64[ns](1), float64(2), int64(6), object(19)\n",
      "memory usage: 5.4+ MB\n"
     ]
    }
   ],
   "source": [
    "sellmate567.info()"
   ]
  },
  {
   "cell_type": "code",
   "execution_count": 10,
   "metadata": {},
   "outputs": [
    {
     "name": "stdout",
     "output_type": "stream",
     "text": [
      "<class 'pandas.core.frame.DataFrame'>\n",
      "RangeIndex: 15048 entries, 0 to 15047\n",
      "Data columns (total 26 columns):\n",
      " #   Column              Non-Null Count  Dtype         \n",
      "---  ------              --------------  -----         \n",
      " 0   일련번호                15048 non-null  int64         \n",
      " 1   주문일자                15048 non-null  datetime64[ns]\n",
      " 2   배송지연일               1412 non-null   object        \n",
      " 3   공급처명                15048 non-null  object        \n",
      " 4   판매처상품코드             7414 non-null   float64       \n",
      " 5   상품코드                14353 non-null  float64       \n",
      " 6   판매처명                15048 non-null  object        \n",
      " 7   SEQ코드               7606 non-null   float64       \n",
      " 8   협력사번호               0 non-null      float64       \n",
      " 9   상점번호                0 non-null      float64       \n",
      " 10  송장번호                13063 non-null  object        \n",
      " 11  발송일자                13063 non-null  object        \n",
      " 12  판매처주문번호             15048 non-null  object        \n",
      " 13  합포번호                9868 non-null   float64       \n",
      " 14  상품명(상품미매칭시 판매처상품명)  15048 non-null  object        \n",
      " 15  상품옵션                15048 non-null  object        \n",
      " 16  상세요구사항              4716 non-null   object        \n",
      " 17  주문수량                15048 non-null  int64         \n",
      " 18  주문금액                15048 non-null  int64         \n",
      " 19  주문자                 15048 non-null  object        \n",
      " 20  수령자                 15048 non-null  object        \n",
      " 21  선후불구분               15048 non-null  object        \n",
      " 22  재고여부                15048 non-null  int64         \n",
      " 23  매칭된옵션수              15048 non-null  int64         \n",
      " 24  옵션매칭(1)바코드번호        15048 non-null  int64         \n",
      " 25  옵션매칭(1)위치           14431 non-null  object        \n",
      "dtypes: datetime64[ns](1), float64(6), int64(6), object(13)\n",
      "memory usage: 3.0+ MB\n"
     ]
    }
   ],
   "source": [
    "sellmate7.info()"
   ]
  },
  {
   "cell_type": "code",
   "execution_count": 11,
   "metadata": {},
   "outputs": [
    {
     "name": "stdout",
     "output_type": "stream",
     "text": [
      "<class 'pandas.core.frame.DataFrame'>\n",
      "RangeIndex: 9047 entries, 0 to 9046\n",
      "Data columns (total 17 columns):\n",
      " #   Column    Non-Null Count  Dtype  \n",
      "---  ------    --------------  -----  \n",
      " 0   상품주문번호    9047 non-null   int64  \n",
      " 1   주문번호      9047 non-null   int64  \n",
      " 2   주문일시      9047 non-null   object \n",
      " 3   주문상태      9047 non-null   object \n",
      " 4   클레임상태     9047 non-null   object \n",
      " 5   상품코드      9047 non-null   object \n",
      " 6   자체상품코드    4 non-null      object \n",
      " 7   상품명       9047 non-null   object \n",
      " 8   품목코드      9047 non-null   object \n",
      " 9   자체품목코드    0 non-null      float64\n",
      " 10  옵션정보      9047 non-null   object \n",
      " 11  수량        9047 non-null   int64  \n",
      " 12  상품주문액     9047 non-null   object \n",
      " 13  구매자명      9047 non-null   object \n",
      " 14  구매자 ID    9047 non-null   object \n",
      " 15  수취인명      9047 non-null   object \n",
      " 16  지그재그상품코드  9047 non-null   int64  \n",
      "dtypes: float64(1), int64(4), object(12)\n",
      "memory usage: 1.2+ MB\n"
     ]
    }
   ],
   "source": [
    "zigzag_july.info()"
   ]
  },
  {
   "cell_type": "code",
   "execution_count": 12,
   "metadata": {},
   "outputs": [
    {
     "name": "stdout",
     "output_type": "stream",
     "text": [
      "<class 'pandas.core.frame.DataFrame'>\n",
      "RangeIndex: 2271 entries, 0 to 2270\n",
      "Data columns (total 50 columns):\n",
      " #   Column           Non-Null Count  Dtype  \n",
      "---  ------           --------------  -----  \n",
      " 0   0504 안심번호        0 non-null      float64\n",
      " 1   HSCODE           2271 non-null   int64  \n",
      " 2   Zoom이미지          2271 non-null   object \n",
      " 3   개별배송비            2271 non-null   int64  \n",
      " 4   결제구분             2271 non-null   object \n",
      " 5   결제번호             272 non-null    float64\n",
      " 6   결제수단             2271 non-null   object \n",
      " 7   결제안내             2271 non-null   object \n",
      " 8   결제일시(입금확인일)      2215 non-null   object \n",
      " 9   결제자              2263 non-null   object \n",
      " 10  공급사              2271 non-null   object \n",
      " 11  공급사 구조           2271 non-null   object \n",
      " 12  공급사명             2271 non-null   object \n",
      " 13  공급원가             2271 non-null   int64  \n",
      " 14  교환구분             2271 non-null   object \n",
      " 15  교환반품안내           2271 non-null   object \n",
      " 16  교환번호             18 non-null     object \n",
      " 17  교환보류 구분          0 non-null      float64\n",
      " 18  교환보류 사유          0 non-null      float64\n",
      " 19  교환상태             11 non-null     object \n",
      " 20  교환신청일            1 non-null      object \n",
      " 21  교환접수 구분          3 non-null      object \n",
      " 22  교환접수 사유          10 non-null     object \n",
      " 23  교환접수거부 구분        0 non-null      float64\n",
      " 24  교환접수거부 사유        0 non-null      float64\n",
      " 25  교환접수거부 처리일       0 non-null      float64\n",
      " 26  교환접수일            10 non-null     object \n",
      " 27  교환준비 구분          0 non-null      float64\n",
      " 28  교환준비 사유          0 non-null      float64\n",
      " 29  교환준비 처리일         0 non-null      float64\n",
      " 30  교환처리 담당자ID       10 non-null     object \n",
      " 31  교환처리 담당자명        10 non-null     object \n",
      " 32  교환처리중[수거완료] 처리일  0 non-null      float64\n",
      " 33  교환처리중[수거전] 처리일   0 non-null      float64\n",
      " 34  교환처리중[환불보류] 처리일  0 non-null      float64\n",
      " 35  교환처리중[환불완료] 처리일  2 non-null      object \n",
      " 36  교환철회 구분          0 non-null      float64\n",
      " 37  교환철회 담당자ID       0 non-null      float64\n",
      " 38  교환철회 담당자명        0 non-null      float64\n",
      " 39  교환철회 사유          0 non-null      float64\n",
      " 40  교환철회일            0 non-null      float64\n",
      " 41  구매자 아이피          1658 non-null   object \n",
      " 42  네이버 포인트          2271 non-null   int64  \n",
      " 43  네이버 포인트 적립       1666 non-null   float64\n",
      " 44  네이버 캐시           2271 non-null   int64  \n",
      " 45  네이버 페이 취소접수 구분   85 non-null     object \n",
      " 46  대이미지             2271 non-null   object \n",
      " 47  공급사 상품명(매입상품명)   2263 non-null   object \n",
      " 48  매출경로             2271 non-null   object \n",
      " 49  메인카테고리 이름        2271 non-null   object \n",
      "dtypes: float64(19), int64(5), object(26)\n",
      "memory usage: 887.2+ KB\n"
     ]
    }
   ],
   "source": [
    "c24_order_c1.info()"
   ]
  },
  {
   "cell_type": "code",
   "execution_count": 13,
   "metadata": {},
   "outputs": [
    {
     "name": "stdout",
     "output_type": "stream",
     "text": [
      "<class 'pandas.core.frame.DataFrame'>\n",
      "RangeIndex: 2271 entries, 0 to 2270\n",
      "Data columns (total 50 columns):\n",
      " #   Column           Non-Null Count  Dtype  \n",
      "---  ------           --------------  -----  \n",
      " 0   모델명              2250 non-null   object \n",
      " 1   반송상태             186 non-null    object \n",
      " 2   반송완료일            89 non-null     object \n",
      " 3   반품보류 구분          0 non-null      float64\n",
      " 4   반품보류 사유          0 non-null      float64\n",
      " 5   반품보류 처리일         0 non-null      float64\n",
      " 6   반품신청일            13 non-null     object \n",
      " 7   반품접수 구분          0 non-null      float64\n",
      " 8   반품접수 사유          13 non-null     object \n",
      " 9   반품접수거부 구분        0 non-null      float64\n",
      " 10  반품접수거부 사유        0 non-null      float64\n",
      " 11  반품접수거부 처리일       0 non-null      float64\n",
      " 12  반품접수일            0 non-null      float64\n",
      " 13  반품처리 담당자ID       0 non-null      float64\n",
      " 14  반품처리 담당자명        0 non-null      float64\n",
      " 15  반품처리중[수거완료] 처리일  0 non-null      float64\n",
      " 16  반품처리중[수거전] 처리일   0 non-null      float64\n",
      " 17  반품처리중[환불보류] 처리일  0 non-null      float64\n",
      " 18  반품처리중[환불완료] 처리일  0 non-null      float64\n",
      " 19  반품처리중[환불전] 처리일   0 non-null      float64\n",
      " 20  반품철회 구분          0 non-null      float64\n",
      " 21  반품철회 담당자ID       0 non-null      float64\n",
      " 22  반품철회 담당자명        0 non-null      float64\n",
      " 23  반품철회 사유          0 non-null      float64\n",
      " 24  반품철회일            0 non-null      float64\n",
      " 25  발주일              2215 non-null   object \n",
      " 26  배송구분             2074 non-null   object \n",
      " 27  배송국가             0 non-null      float64\n",
      " 28  배송대기일            1060 non-null   object \n",
      " 29  배송메시지            787 non-null    object \n",
      " 30  배송번호             2271 non-null   object \n",
      " 31  배송비 정보           2269 non-null   object \n",
      " 32  배송시작일            1063 non-null   object \n",
      " 33  배송안내             2271 non-null   object \n",
      " 34  배송완료일            159 non-null    object \n",
      " 35  배송유형             2271 non-null   object \n",
      " 36  보험가입금액           2271 non-null   int64  \n",
      " 37  보험가입여부           2271 non-null   object \n",
      " 38  브랜드              2271 non-null   object \n",
      " 39  브랜드 코드           2271 non-null   object \n",
      " 40  추가입력옵션           0 non-null      float64\n",
      " 41  추가입력옵션(상세)       0 non-null      float64\n",
      " 42  사용한 예치금 환불 금액    89 non-null     float64\n",
      " 43  사용한 적립금 환불 금액    89 non-null     float64\n",
      " 44  사용한 적립금액         2271 non-null   int64  \n",
      " 45  사용한 쿠폰명          114 non-null    object \n",
      " 46  상품 매입가           2271 non-null   int64  \n",
      " 47  상품 적립금           2271 non-null   int64  \n",
      " 48  상품 쿠폰 할인금액       114 non-null    float64\n",
      " 49  상품구매금액           2271 non-null   int64  \n",
      "dtypes: float64(26), int64(5), object(19)\n",
      "memory usage: 887.2+ KB\n"
     ]
    }
   ],
   "source": [
    "c24_order_c2.info()"
   ]
  },
  {
   "cell_type": "code",
   "execution_count": 14,
   "metadata": {},
   "outputs": [
    {
     "name": "stdout",
     "output_type": "stream",
     "text": [
      "<class 'pandas.core.frame.DataFrame'>\n",
      "RangeIndex: 2271 entries, 0 to 2270\n",
      "Data columns (total 50 columns):\n",
      " #   Column          Non-Null Count  Dtype  \n",
      "---  ------          --------------  -----  \n",
      " 0   상품구매금액(KRW)     2271 non-null   int64  \n",
      " 1   상품번호            2271 non-null   int64  \n",
      " 2   상품별 추가할인금액      2271 non-null   int64  \n",
      " 3   상품설명            2271 non-null   object \n",
      " 4   상품옵션            2271 non-null   object \n",
      " 5   상품옵션(기본)        2271 non-null   object \n",
      " 6   상품자체코드          0 non-null      float64\n",
      " 7   상품코드            2271 non-null   object \n",
      " 8   상품품목코드          2271 non-null   object \n",
      " 9   선물메시지           0 non-null      float64\n",
      " 10  선물첨부이미지         0 non-null      float64\n",
      " 11  선물카드이미지         0 non-null      float64\n",
      " 12  선물카드이미지번호       0 non-null      float64\n",
      " 13  세금구분            2271 non-null   object \n",
      " 14  소비자가격           2271 non-null   int64  \n",
      " 15  소이미지            2271 non-null   object \n",
      " 16  수량              2271 non-null   int64  \n",
      " 17  수령인             2271 non-null   object \n",
      " 18  수령인 상세 주소       2263 non-null   object \n",
      " 19  수령인 시/군/도시(영문)  0 non-null      float64\n",
      " 20  수령인 우편번호        2271 non-null   object \n",
      " 21  수령인 우편번호(해외)    2271 non-null   object \n",
      " 22  수령인 전화번호        2263 non-null   object \n",
      " 23  수령인 주/도(영문)     0 non-null      float64\n",
      " 24  수령인 주소          2263 non-null   object \n",
      " 25  수령인 주소(영문)      0 non-null      float64\n",
      " 26  수령인 주소(전체)      2271 non-null   object \n",
      " 27  수령인 휴대전화        2263 non-null   object \n",
      " 28  수령자명(발음기호)      0 non-null      float64\n",
      " 29  수령자명(영문)        0 non-null      float64\n",
      " 30  시/군/도시          0 non-null      float64\n",
      " 31  실제 환불금액         2271 non-null   int64  \n",
      " 32  안전재고수량          2271 non-null   int64  \n",
      " 33  영문상품명           0 non-null      float64\n",
      " 34  예치금             2271 non-null   int64  \n",
      " 35  옵션+판매가          2271 non-null   int64  \n",
      " 36  옵션1             0 non-null      float64\n",
      " 37  옵션2             0 non-null      float64\n",
      " 38  옵션3             0 non-null      float64\n",
      " 39  옵션추가 가격         2271 non-null   int64  \n",
      " 40  옵션형태            2271 non-null   object \n",
      " 41  운송장번호           1063 non-null   float64\n",
      " 42  원산지             0 non-null      float64\n",
      " 43  원산지 코드          2271 non-null   int64  \n",
      " 44  입금 계좌번호         338 non-null    object \n",
      " 45  입금은행            340 non-null    object \n",
      " 46  자체품목코드          0 non-null      float64\n",
      " 47  재고관리등급          2271 non-null   object \n",
      " 48  적립금타입           2271 non-null   object \n",
      " 49  수령인 전화번호 국가번호   2263 non-null   float64\n",
      "dtypes: float64(19), int64(11), object(20)\n",
      "memory usage: 887.2+ KB\n"
     ]
    }
   ],
   "source": [
    "c24_order_c3.info()"
   ]
  },
  {
   "cell_type": "code",
   "execution_count": 15,
   "metadata": {},
   "outputs": [
    {
     "name": "stdout",
     "output_type": "stream",
     "text": [
      "<class 'pandas.core.frame.DataFrame'>\n",
      "RangeIndex: 2271 entries, 0 to 2270\n",
      "Data columns (total 50 columns):\n",
      " #   Column               Non-Null Count  Dtype  \n",
      "---  ------               --------------  -----  \n",
      " 0   수령인 전화번호 국번          2263 non-null   float64\n",
      " 1   수령인 전화번호 끝자리         2263 non-null   float64\n",
      " 2   수령인 전화번호 지역번호        2263 non-null   float64\n",
      " 3   제조사                  2271 non-null   object \n",
      " 4   제조사 코드               2271 non-null   object \n",
      " 5   제조일자                 0 non-null      float64\n",
      " 6   주/도                  0 non-null      float64\n",
      " 7   주문 상태                2271 non-null   object \n",
      " 8   주문 시 회원등급            1637 non-null   object \n",
      " 9   주문경로(PC/모바일)         2271 non-null   object \n",
      " 10  주문번호                 2271 non-null   object \n",
      " 11  주문상품명                2271 non-null   object \n",
      " 12  주문상품명(기본)            2271 non-null   object \n",
      " 13  주문상품명(세트상품 포함)       2271 non-null   object \n",
      " 14  주문상품명(옵션포함)          2271 non-null   object \n",
      " 15  주문서 쿠폰 할인금액          114 non-null    float64\n",
      " 16  주문일시                 2271 non-null   object \n",
      " 17  주문자 가입일              1637 non-null   object \n",
      " 18  주문자 상세 주소            2263 non-null   object \n",
      " 19  주문자 생년월일             1313 non-null   object \n",
      " 20  주문자 이메일              1658 non-null   object \n",
      " 21  주문자 전화번호             2263 non-null   object \n",
      " 22  주문자 전화번호 국가번호        2263 non-null   float64\n",
      " 23  주문자 전화번호 국번          2263 non-null   float64\n",
      " 24  주문자 전화번호 끝자리         2263 non-null   float64\n",
      " 25  주문자 전화번호 지역번호        2263 non-null   float64\n",
      " 26  주문자 주소               2263 non-null   object \n",
      " 27  주문자 휴대전화             2263 non-null   object \n",
      " 28  주문자 휴대전화 국가번호        2263 non-null   float64\n",
      " 29  주문자 휴대전화 국번          2251 non-null   float64\n",
      " 30  주문자 휴대전화 끝자리         2251 non-null   float64\n",
      " 31  주문자 휴대전화 지역번호        2263 non-null   float64\n",
      " 32  주문자ID                1637 non-null   object \n",
      " 33  주문자명                 2263 non-null   object \n",
      " 34  주문자우편번호              2263 non-null   object \n",
      " 35  중량                   2271 non-null   float64\n",
      " 36  중이미지                 2271 non-null   object \n",
      " 37  즉시할인 가격              2271 non-null   int64  \n",
      " 38  즉시할인 유형              605 non-null    object \n",
      " 39  총 결제금액               2271 non-null   int64  \n",
      " 40  총 결제금액(KRW)          2271 non-null   int64  \n",
      " 41  총 배송비                2271 non-null   int64  \n",
      " 42  총 배송비(KRW)           2271 non-null   int64  \n",
      " 43  총 상품구매금액             2271 non-null   int64  \n",
      " 44  총 상품구매금액(KRW)        2271 non-null   int64  \n",
      " 45  총 실결제금액(최초정보)        2271 non-null   int64  \n",
      " 46  총 실결제금액(최초정보) (KRW)  2271 non-null   int64  \n",
      " 47  총 주문금액               2271 non-null   int64  \n",
      " 48  총 주문금액(KRW)          2271 non-null   int64  \n",
      " 49  총재고수량                2271 non-null   int64  \n",
      "dtypes: float64(15), int64(12), object(23)\n",
      "memory usage: 887.2+ KB\n"
     ]
    }
   ],
   "source": [
    "c24_order_c4.info()"
   ]
  },
  {
   "cell_type": "code",
   "execution_count": 16,
   "metadata": {},
   "outputs": [
    {
     "name": "stdout",
     "output_type": "stream",
     "text": [
      "<class 'pandas.core.frame.DataFrame'>\n",
      "RangeIndex: 2271 entries, 0 to 2270\n",
      "Data columns (total 50 columns):\n",
      " #   Column            Non-Null Count  Dtype  \n",
      "---  ------            --------------  -----  \n",
      " 0   총중량               2271 non-null   float64\n",
      " 1   최대주문수량            2271 non-null   int64  \n",
      " 2   최소주문수량            2271 non-null   int64  \n",
      " 3   출시일자              0 non-null      float64\n",
      " 4   취소구분              2271 non-null   object \n",
      " 5   취소번호              175 non-null    object \n",
      " 6   취소신청일             64 non-null     object \n",
      " 7   취소유형              173 non-null    object \n",
      " 8   취소접수 구분           91 non-null     object \n",
      " 9   취소접수 사유           91 non-null     object \n",
      " 10  취소접수거부 구분         0 non-null      float64\n",
      " 11  취소접수거부 사유         0 non-null      float64\n",
      " 12  취소접수거부 처리일        0 non-null      float64\n",
      " 13  취소접수일             173 non-null    object \n",
      " 14  취소처리 담당자ID        91 non-null     object \n",
      " 15  취소처리 담당자명         91 non-null     object \n",
      " 16  취소처리중[환불보류] 처리일   0 non-null      float64\n",
      " 17  취소처리중[환불완료] 처리일   83 non-null     object \n",
      " 18  취소처리중[환불전] 처리일    86 non-null     object \n",
      " 19  취소철회 구분           0 non-null      float64\n",
      " 20  취소철회 담당자ID        0 non-null      float64\n",
      " 21  취소철회 담당자명         0 non-null      float64\n",
      " 22  취소철회 사유           0 non-null      float64\n",
      " 23  취소철회일             0 non-null      float64\n",
      " 24  카드 승인 취소 여부       2271 non-null   object \n",
      " 25  카드 승인번호           1235 non-null   float64\n",
      " 26  카드 취소일시           64 non-null     object \n",
      " 27  카드사               1644 non-null   object \n",
      " 28  쿠폰 추가적립금액         2271 non-null   int64  \n",
      " 29  쿠폰 할인금액           2271 non-null   int64  \n",
      " 30  쿠폰/회원등급 추가 적립 일시  0 non-null      float64\n",
      " 31  트랜드 이름            2271 non-null   object \n",
      " 32  특별관리회원            0 non-null      float64\n",
      " 33  판매가               2271 non-null   int64  \n",
      " 34  품목명               370 non-null    object \n",
      " 35  품목번호              2271 non-null   int64  \n",
      " 36  품목별 주문번호          2271 non-null   object \n",
      " 37  수령인 휴대전화 국가번호     2263 non-null   float64\n",
      " 38  환불 계좌번호           81 non-null     object \n",
      " 39  환불 계좌이체 금액        2271 non-null   int64  \n",
      " 40  환불 금액 상세          89 non-null     object \n",
      " 41  환불 예치금 금액         2271 non-null   int64  \n",
      " 42  환불 적립금 금액         2271 non-null   int64  \n",
      " 43  환불 카드 금액          2271 non-null   int64  \n",
      " 44  환불 선불금 금액         2271 non-null   int64  \n",
      " 45  환불 현금 금액          2271 non-null   int64  \n",
      " 46  환불 휴대폰 금액         2271 non-null   int64  \n",
      " 47  환불금액              2271 non-null   int64  \n",
      " 48  환불방법              89 non-null     object \n",
      " 49  환불번호              89 non-null     object \n",
      "dtypes: float64(15), int64(14), object(21)\n",
      "memory usage: 887.2+ KB\n"
     ]
    }
   ],
   "source": [
    "c24_order_c5.info()"
   ]
  },
  {
   "cell_type": "code",
   "execution_count": 17,
   "metadata": {},
   "outputs": [
    {
     "name": "stdout",
     "output_type": "stream",
     "text": [
      "<class 'pandas.core.frame.DataFrame'>\n",
      "RangeIndex: 2271 entries, 0 to 2270\n",
      "Data columns (total 15 columns):\n",
      " #   Column        Non-Null Count  Dtype  \n",
      "---  ------        --------------  -----  \n",
      " 0   환불상태          0 non-null      float64\n",
      " 1   환불예금주         81 non-null     object \n",
      " 2   환불완료일         86 non-null     object \n",
      " 3   환불은행          89 non-null     object \n",
      " 4   환불접수일         89 non-null     object \n",
      " 5   환불처리 내용       0 non-null      float64\n",
      " 6   회원등급          1629 non-null   object \n",
      " 7   회원등급 추가적립금액   2271 non-null   int64  \n",
      " 8   회원등급 추가할인금액   2271 non-null   int64  \n",
      " 9   회원추가항목_추가정보1  0 non-null      float64\n",
      " 10  회원추가항목_추가정보2  0 non-null      float64\n",
      " 11  회원추가항목_추가정보3  0 non-null      float64\n",
      " 12  회원추가항목_추가정보4  0 non-null      float64\n",
      " 13  희망배송시간        0 non-null      float64\n",
      " 14  희망배송일         0 non-null      float64\n",
      "dtypes: float64(8), int64(2), object(5)\n",
      "memory usage: 266.3+ KB\n"
     ]
    }
   ],
   "source": [
    "c24_order_c6.info()"
   ]
  },
  {
   "cell_type": "code",
   "execution_count": 18,
   "metadata": {},
   "outputs": [
    {
     "name": "stdout",
     "output_type": "stream",
     "text": [
      "<class 'pandas.core.frame.DataFrame'>\n",
      "RangeIndex: 15048 entries, 0 to 15047\n",
      "Data columns (total 26 columns):\n",
      " #   Column              Non-Null Count  Dtype         \n",
      "---  ------              --------------  -----         \n",
      " 0   일련번호                15048 non-null  int64         \n",
      " 1   주문일자                15048 non-null  datetime64[ns]\n",
      " 2   배송지연일               1412 non-null   object        \n",
      " 3   공급처명                15048 non-null  object        \n",
      " 4   판매처상품코드             7414 non-null   float64       \n",
      " 5   상품코드                14353 non-null  float64       \n",
      " 6   판매처명                15048 non-null  object        \n",
      " 7   SEQ코드               7606 non-null   float64       \n",
      " 8   협력사번호               0 non-null      float64       \n",
      " 9   상점번호                0 non-null      float64       \n",
      " 10  송장번호                13063 non-null  object        \n",
      " 11  발송일자                13063 non-null  object        \n",
      " 12  판매처주문번호             15048 non-null  object        \n",
      " 13  합포번호                9868 non-null   float64       \n",
      " 14  상품명(상품미매칭시 판매처상품명)  15048 non-null  object        \n",
      " 15  상품옵션                15048 non-null  object        \n",
      " 16  상세요구사항              4716 non-null   object        \n",
      " 17  주문수량                15048 non-null  int64         \n",
      " 18  주문금액                15048 non-null  int64         \n",
      " 19  주문자                 15048 non-null  object        \n",
      " 20  수령자                 15048 non-null  object        \n",
      " 21  선후불구분               15048 non-null  object        \n",
      " 22  재고여부                15048 non-null  int64         \n",
      " 23  매칭된옵션수              15048 non-null  int64         \n",
      " 24  옵션매칭(1)바코드번호        15048 non-null  int64         \n",
      " 25  옵션매칭(1)위치           14431 non-null  object        \n",
      "dtypes: datetime64[ns](1), float64(6), int64(6), object(13)\n",
      "memory usage: 3.0+ MB\n"
     ]
    }
   ],
   "source": [
    "s_ordlist.info()"
   ]
  },
  {
   "cell_type": "code",
   "execution_count": 19,
   "metadata": {},
   "outputs": [],
   "source": [
    "visitor=pd.read_csv('카페24_200728~210728.csv')"
   ]
  },
  {
   "cell_type": "code",
   "execution_count": 20,
   "metadata": {},
   "outputs": [
    {
     "data": {
      "text/html": [
       "<div>\n",
       "<style scoped>\n",
       "    .dataframe tbody tr th:only-of-type {\n",
       "        vertical-align: middle;\n",
       "    }\n",
       "\n",
       "    .dataframe tbody tr th {\n",
       "        vertical-align: top;\n",
       "    }\n",
       "\n",
       "    .dataframe thead th {\n",
       "        text-align: right;\n",
       "    }\n",
       "</style>\n",
       "<table border=\"1\" class=\"dataframe\">\n",
       "  <thead>\n",
       "    <tr style=\"text-align: right;\">\n",
       "      <th></th>\n",
       "      <th>아이디</th>\n",
       "      <th>이름</th>\n",
       "      <th>회원등급</th>\n",
       "      <th>나이</th>\n",
       "      <th>이메일</th>\n",
       "      <th>휴대폰번호</th>\n",
       "      <th>총 사용 적립금</th>\n",
       "      <th>사용가능 적립금</th>\n",
       "      <th>회원 가입일</th>\n",
       "      <th>휴면처리일</th>\n",
       "      <th>탈퇴일</th>\n",
       "      <th>탈퇴구분</th>\n",
       "      <th>탈퇴사유</th>\n",
       "    </tr>\n",
       "  </thead>\n",
       "  <tbody>\n",
       "    <tr>\n",
       "      <th>0</th>\n",
       "      <td>gptnv2</td>\n",
       "      <td>김혜수</td>\n",
       "      <td>silver</td>\n",
       "      <td>NaN</td>\n",
       "      <td>tn3241@naver.com</td>\n",
       "      <td>010-4430-6854</td>\n",
       "      <td>3300</td>\n",
       "      <td>674</td>\n",
       "      <td>2013-07-09</td>\n",
       "      <td>2018-11-15</td>\n",
       "      <td>NaN</td>\n",
       "      <td>NaN</td>\n",
       "      <td>NaN</td>\n",
       "    </tr>\n",
       "    <tr>\n",
       "      <th>1</th>\n",
       "      <td>baewoorie</td>\n",
       "      <td>배울</td>\n",
       "      <td>white</td>\n",
       "      <td>29.0</td>\n",
       "      <td>baewoorie@naver.com</td>\n",
       "      <td>010-6399-4456</td>\n",
       "      <td>0</td>\n",
       "      <td>0</td>\n",
       "      <td>2013-11-06</td>\n",
       "      <td>2019-02-04</td>\n",
       "      <td>NaN</td>\n",
       "      <td>NaN</td>\n",
       "      <td>NaN</td>\n",
       "    </tr>\n",
       "    <tr>\n",
       "      <th>2</th>\n",
       "      <td>shxk29</td>\n",
       "      <td>김진경</td>\n",
       "      <td>white</td>\n",
       "      <td>37.0</td>\n",
       "      <td>shxk29@naver.com</td>\n",
       "      <td>010-7331-1713</td>\n",
       "      <td>19300</td>\n",
       "      <td>2100</td>\n",
       "      <td>2013-11-11</td>\n",
       "      <td>2019-10-31</td>\n",
       "      <td>NaN</td>\n",
       "      <td>NaN</td>\n",
       "      <td>NaN</td>\n",
       "    </tr>\n",
       "  </tbody>\n",
       "</table>\n",
       "</div>"
      ],
      "text/plain": [
       "         아이디   이름    회원등급    나이                  이메일          휴대폰번호  총 사용 적립금  \\\n",
       "0     gptnv2  김혜수  silver   NaN     tn3241@naver.com  010-4430-6854      3300   \n",
       "1  baewoorie   배울   white  29.0  baewoorie@naver.com  010-6399-4456         0   \n",
       "2     shxk29  김진경   white  37.0     shxk29@naver.com  010-7331-1713     19300   \n",
       "\n",
       "   사용가능 적립금      회원 가입일       휴면처리일  탈퇴일  탈퇴구분  탈퇴사유  \n",
       "0       674  2013-07-09  2018-11-15  NaN   NaN   NaN  \n",
       "1         0  2013-11-06  2019-02-04  NaN   NaN   NaN  \n",
       "2      2100  2013-11-11  2019-10-31  NaN   NaN   NaN  "
      ]
     },
     "execution_count": 20,
     "metadata": {},
     "output_type": "execute_result"
    }
   ],
   "source": [
    "visitor.head(3)"
   ]
  },
  {
   "cell_type": "code",
   "execution_count": null,
   "metadata": {},
   "outputs": [],
   "source": [
    "visitor_nan=visitor[visitor['휴면처리일'].isnull()]"
   ]
  },
  {
   "cell_type": "code",
   "execution_count": null,
   "metadata": {
    "scrolled": true
   },
   "outputs": [],
   "source": [
    "visitor_nan"
   ]
  },
  {
   "cell_type": "code",
   "execution_count": 87,
   "metadata": {},
   "outputs": [],
   "source": [
    "visitor_nan.to_excel('visit.xlsx',index=False)"
   ]
  },
  {
   "cell_type": "code",
   "execution_count": 23,
   "metadata": {},
   "outputs": [
    {
     "name": "stdout",
     "output_type": "stream",
     "text": [
      "Requirement already satisfied: requests in c:\\anaconda\\lib\\site-packages (2.24.0)\n",
      "Requirement already satisfied: chardet<4,>=3.0.2 in c:\\anaconda\\lib\\site-packages (from requests) (3.0.4)\n",
      "Requirement already satisfied: urllib3!=1.25.0,!=1.25.1,<1.26,>=1.21.1 in c:\\anaconda\\lib\\site-packages (from requests) (1.25.11)\n",
      "Requirement already satisfied: idna<3,>=2.5 in c:\\anaconda\\lib\\site-packages (from requests) (2.10)\n",
      "Requirement already satisfied: certifi>=2017.4.17 in c:\\anaconda\\lib\\site-packages (from requests) (2020.6.20)\n",
      "Note: you may need to restart the kernel to use updated packages.\n"
     ]
    }
   ],
   "source": [
    "pip install requests"
   ]
  },
  {
   "cell_type": "code",
   "execution_count": 24,
   "metadata": {},
   "outputs": [
    {
     "name": "stdout",
     "output_type": "stream",
     "text": [
      "Requirement already satisfied: beautifulsoup4 in c:\\anaconda\\lib\\site-packages (4.6.0)\n",
      "Note: you may need to restart the kernel to use updated packages.\n"
     ]
    }
   ],
   "source": [
    "pip install beautifulsoup4"
   ]
  },
  {
   "cell_type": "code",
   "execution_count": 26,
   "metadata": {},
   "outputs": [
    {
     "name": "stdout",
     "output_type": "stream",
     "text": [
      "<!doctype html><html><head><meta http-equiv=\"X-UA-Compatible\" content=\"IE=edge\"/><meta charset=\"utf-8\"/><title>ì§ê·¸ì¬ê·¸ - íí¸ëì¼í°</title><meta name=\"viewport\" content=\"width=1200,initial-scale=1,user-scalable=yes\"/><link rel=\"icon\" href=\"favicons/favicon.ico\"/><meta name=\"naver-site-verification\" content=\"4adeb50d06e5b12485100f70c792159b41e78bb9\"/><link rel=\"icon\" type=\"image/png\" href=\"favicons/48x48.png\" sizes=\"48x48\"/><link rel=\"icon\" type=\"image/png\" href=\"favicons/96x96.png\" sizes=\"96x96\"/><link rel=\"icon\" type=\"image/png\" href=\"favicons/152x152.png\" sizes=\"152x152\"/><link rel=\"icon\" type=\"image/png\" href=\"favicons/180x180.png\" sizes=\"180x180\"/><link rel=\"icon\" type=\"image/png\" href=\"favicons/192x192.png\" sizes=\"192x192\"/><link href=\"main.33ca53d510dcc2df158a.css\" rel=\"stylesheet\"></head><body><!--[if lt IE 10]>\n",
      "      <link rel=\"stylesheet\" href=\"styles/ie9.css\" />\n",
      "    <![endif]--><div id=\"browser-info-banner\">ì§ê·¸ì¬ê·¸ íí¸ëì¼í° íì´ì§ë <b>ì¸í°ë· ìµì¤íë¡ë¬11 ì´ì, í¬ë¡¬, ì¬íë¦¬, íì´ì´í­ì¤</b>ì ìµì í ëì´ ììµëë¤.</div><div id=\"app\"></div><script src=\"https://www.google.com/jsapi\"></script><script src=\"https://ssl.daumcdn.net/dmaps/map_js_init/postcode.v2.js\"></script><script src=\"https://api.zigzag.kr/api/pay/pay.js\"></script><script>if (!!navigator.userAgent.match(/MSIE 10/)) {\n",
      "        var ele = document.getElementById('browser-info-banner');\n",
      "        ele.setAttribute('data-unsupported-browser', 'true');\n",
      "      }</script><script src=\"main.33ca53d510dcc2df158a.js\"></script></body></html>\n"
     ]
    }
   ],
   "source": [
    "import requests\n",
    "\n",
    "webpage=requests.get('https://shop.zigzag.kr/fromdayone/#!/order_item/list/search')\n",
    "print(webpage.text)"
   ]
  },
  {
   "cell_type": "code",
   "execution_count": 29,
   "metadata": {},
   "outputs": [
    {
     "name": "stdout",
     "output_type": "stream",
     "text": [
      "<!DOCTYPE doctype html>\n",
      "<html><head><meta content=\"IE=edge\" http-equiv=\"X-UA-Compatible\"/><meta charset=\"utf-8\"/><title>지그재그 - 파트너센터</title><meta content=\"width=1200,initial-scale=1,user-scalable=yes\" name=\"viewport\"/><link href=\"favicons/favicon.ico\" rel=\"icon\"/><meta content=\"4adeb50d06e5b12485100f70c792159b41e78bb9\" name=\"naver-site-verification\"/><link href=\"favicons/48x48.png\" rel=\"icon\" sizes=\"48x48\" type=\"image/png\"/><link href=\"favicons/96x96.png\" rel=\"icon\" sizes=\"96x96\" type=\"image/png\"/><link href=\"favicons/152x152.png\" rel=\"icon\" sizes=\"152x152\" type=\"image/png\"/><link href=\"favicons/180x180.png\" rel=\"icon\" sizes=\"180x180\" type=\"image/png\"/><link href=\"favicons/192x192.png\" rel=\"icon\" sizes=\"192x192\" type=\"image/png\"/><link href=\"main.33ca53d510dcc2df158a.css\" rel=\"stylesheet\"/></head><body><!--[if lt IE 10]>\n",
      "      <link rel=\"stylesheet\" href=\"styles/ie9.css\" />\n",
      "    <![endif]--><div id=\"browser-info-banner\">지그재그 파트너센터 페이지는 <b>인터넷 익스플로러11 이상, 크롬, 사파리, 파이어폭스</b>에 최적화 되어 있습니다.</div><div id=\"app\"></div><script src=\"https://www.google.com/jsapi\"></script><script src=\"https://ssl.daumcdn.net/dmaps/map_js_init/postcode.v2.js\"></script><script src=\"https://api.zigzag.kr/api/pay/pay.js\"></script><script>if (!!navigator.userAgent.match(/MSIE 10/)) {\n",
      "        var ele = document.getElementById('browser-info-banner');\n",
      "        ele.setAttribute('data-unsupported-browser', 'true');\n",
      "      }</script><script src=\"main.33ca53d510dcc2df158a.js\"></script></body></html>\n"
     ]
    }
   ],
   "source": [
    "from urllib.request import urlopen\n",
    "from bs4 import BeautifulSoup\n",
    "\n",
    "html=urlopen('https://shop.zigzag.kr/fromdayone/#!/order_item/list/search')\n",
    "bsobject=BeautifulSoup(html,'html.parser')\n",
    "\n",
    "print(bsobject)"
   ]
  },
  {
   "cell_type": "code",
   "execution_count": 30,
   "metadata": {},
   "outputs": [
    {
     "name": "stdout",
     "output_type": "stream",
     "text": [
      "<title>지그재그 - 파트너센터</title>\n"
     ]
    }
   ],
   "source": [
    "print(bsobject.head.title)"
   ]
  },
  {
   "cell_type": "code",
   "execution_count": 31,
   "metadata": {},
   "outputs": [
    {
     "name": "stdout",
     "output_type": "stream",
     "text": [
      "IE=edge\n",
      "None\n",
      "width=1200,initial-scale=1,user-scalable=yes\n",
      "4adeb50d06e5b12485100f70c792159b41e78bb9\n"
     ]
    }
   ],
   "source": [
    "for meta in bsobject.head.find_all('meta'):\n",
    "    print(meta.get('content'))"
   ]
  },
  {
   "cell_type": "code",
   "execution_count": 32,
   "metadata": {},
   "outputs": [
    {
     "name": "stdout",
     "output_type": "stream",
     "text": [
      "Requirement already satisfied: openpyxl in c:\\anaconda\\lib\\site-packages (3.0.5)\n",
      "Requirement already satisfied: et-xmlfile in c:\\anaconda\\lib\\site-packages (from openpyxl) (1.0.1)\n",
      "Requirement already satisfied: jdcal in c:\\anaconda\\lib\\site-packages (from openpyxl) (1.4.1)\n",
      "Note: you may need to restart the kernel to use updated packages.\n"
     ]
    }
   ],
   "source": [
    "pip install openpyxl"
   ]
  },
  {
   "cell_type": "code",
   "execution_count": 34,
   "metadata": {},
   "outputs": [],
   "source": [
    "import openpyxl\n",
    "wb=openpyxl.Workbook()\n",
    "sheet=wb.active\n",
    "sheet['A1']=1\n",
    "wb.save('지그재그크롤링.xlsx')"
   ]
  },
  {
   "cell_type": "code",
   "execution_count": 41,
   "metadata": {},
   "outputs": [],
   "source": [
    "import requests\n",
    "from bs4 import BeautifulSoup\n",
    "from openpyxl import Workbook\n",
    "\n",
    "wb=Workbook(write_only=True)\n",
    "ws=wb.create_sheet('zigzag04270728')\n",
    "ws.append(['상품주문번호','주문번호','주문일시','주문상태','클레임상태','상품코드','자체상품코드','상품명','품목코드','자체품목코드','옵션정보','수량','상품주문액','구매자명','구매자','수취인명','지그재그상품코드'])\n",
    "response=requests.get('https://shop.zigzag.kr/fromdayone/#!/order_item/list/search')\n",
    "rating_page=response.text\n",
    "\n",
    "soup=BeautifulSoup(rating_page,'html.parser')\n",
    "for tr_tag in soup.select('tr')[1:]:\n",
    "    td_tags=tr_tag.select('td'\n",
    "    row=[\n",
    "        td_tags[0].get_text(),\n",
    "        td_tags[1].get_text(),\n",
    "        td_tags[2].get_text(),\n",
    "        td_tags[3].get_text(),\n",
    "        td_tags[4].get_text(),\n",
    "        td_tags[5].get_text(),\n",
    "        td_tags[6].get_text(),\n",
    "        td_tags[7].get_text(),\n",
    "        td_tags[8].get_text(),\n",
    "        td_tags[9].get_text(),\n",
    "        td_tags[10].get_text(),\n",
    "        td_tags[11].get_text(),\n",
    "        td_tags[12].get_text(),\n",
    "        td_tags[13].get_text(),\n",
    "        td_tags[14].get_text(),\n",
    "        td_tags[15].get_text(),\n",
    "        td_tags[16].get_text()\n",
    "    ]\n",
    "    ws.append(row)\n",
    "    \n",
    "wb.save('zigzag_2021년2회차')"
   ]
  },
  {
   "cell_type": "code",
   "execution_count": 85,
   "metadata": {},
   "outputs": [],
   "source": [
    "df=pd.read_excel('상품목록 (셀메이트_카페24).xlsx')"
   ]
  },
  {
   "cell_type": "code",
   "execution_count": 86,
   "metadata": {},
   "outputs": [],
   "source": [
    "df1=pd.read_excel('상품목록 (셀메이트_카페24).xlsx',sheet_name=0)\n",
    "df2=pd.read_excel('상품목록 (셀메이트_카페24).xlsx',sheet_name=2)"
   ]
  },
  {
   "cell_type": "code",
   "execution_count": 87,
   "metadata": {},
   "outputs": [
    {
     "data": {
      "text/plain": [
       "Index(['상품일련번호', '공급처명', '상품명', '등록일자', '공급사상품명', '상품코드', '판매처상품코드', '상품분류',\n",
       "       '원가', '판매가', '대표이미지주소', '설명이미지1', '설명이미지2', '설명이미지3', '설명이미지4',\n",
       "       '입고예정목록반영여부', '매칭키워드1', '매칭키워드2', '매칭키워드3', '매칭키워드4', '매칭키워드5'],\n",
       "      dtype='object')"
      ]
     },
     "execution_count": 87,
     "metadata": {},
     "output_type": "execute_result"
    }
   ],
   "source": [
    "df1.columns"
   ]
  },
  {
   "cell_type": "code",
   "execution_count": 88,
   "metadata": {},
   "outputs": [],
   "source": [
    "dfdrop=df1.drop(['공급사상품명','원가','판매가'],axis=1)"
   ]
  },
  {
   "cell_type": "code",
   "execution_count": 89,
   "metadata": {},
   "outputs": [
    {
     "data": {
      "text/plain": [
       "Index(['상품일련번호', '공급처명', '상품명', '등록일자', '상품코드', '판매처상품코드', '상품분류', '대표이미지주소',\n",
       "       '설명이미지1', '설명이미지2', '설명이미지3', '설명이미지4', '입고예정목록반영여부', '매칭키워드1',\n",
       "       '매칭키워드2', '매칭키워드3', '매칭키워드4', '매칭키워드5'],\n",
       "      dtype='object')"
      ]
     },
     "execution_count": 89,
     "metadata": {},
     "output_type": "execute_result"
    }
   ],
   "source": [
    "dfdrop.columns"
   ]
  },
  {
   "cell_type": "code",
   "execution_count": null,
   "metadata": {},
   "outputs": [],
   "source": [
    "df"
   ]
  },
  {
   "cell_type": "code",
   "execution_count": 90,
   "metadata": {},
   "outputs": [],
   "source": [
    "concatdata=dfdrop.append(df2)"
   ]
  },
  {
   "cell_type": "code",
   "execution_count": 57,
   "metadata": {},
   "outputs": [
    {
     "data": {
      "text/plain": [
       "((1419, 21), (6203, 40))"
      ]
     },
     "execution_count": 57,
     "metadata": {},
     "output_type": "execute_result"
    }
   ],
   "source": [
    "df1.shape, df2.shape"
   ]
  },
  {
   "cell_type": "code",
   "execution_count": 91,
   "metadata": {},
   "outputs": [
    {
     "data": {
      "text/plain": [
       "(7622, 56)"
      ]
     },
     "execution_count": 91,
     "metadata": {},
     "output_type": "execute_result"
    }
   ],
   "source": [
    "concatdata.shape"
   ]
  },
  {
   "cell_type": "code",
   "execution_count": 103,
   "metadata": {},
   "outputs": [],
   "source": [
    "concatdata.to_excel('카페24셀메이트리크리트.xlsx',index=False)"
   ]
  },
  {
   "cell_type": "code",
   "execution_count": 158,
   "metadata": {},
   "outputs": [],
   "source": [
    "data=pd.read_excel('recreate.csv')\n",
    "data0=pd.read_excel('recreate.csv',sheet_name=0)\n",
    "data1=pd.read_excel('recreate.csv',sheet_name=1)\n",
    "data2=pd.read_excel('recreate.csv',sheet_name=2) #data1의 복사본"
   ]
  },
  {
   "cell_type": "code",
   "execution_count": 148,
   "metadata": {},
   "outputs": [
    {
     "data": {
      "text/plain": [
       "Index(['상품명', '판매처상품코드', '진열상태', '판매상태', '공급사상품명', '모델명', '상품 간략설명', '과세구분',\n",
       "       '원가', '상품가', '판매가', '주문수량 제한 기준', '최소 주문수량(이상)', '적립금', '공통이벤트 정보',\n",
       "       '옵션사용', '품목 구성방식', '옵션 표시방식', '옵션세트명', '옵션입력', '필수여부', '추가입력옵션',\n",
       "       '이미지등록(상세)', '이미지등록(목록)', '이미지등록(작은목록)', '이미지등록(축소)', '제조사', '공급사',\n",
       "       '브랜드', '트렌드', '자체분류 코드', '원산지', '상품결제안내', '상품배송안내', '배송정보', '배송기간',\n",
       "       '검색엔진최적화(SEO) 검색엔진 노출 설정', '상품 전체중량(kg)'],\n",
       "      dtype='object')"
      ]
     },
     "execution_count": 148,
     "metadata": {},
     "output_type": "execute_result"
    }
   ],
   "source": [
    "a=data1.columns\n",
    "a"
   ]
  },
  {
   "cell_type": "code",
   "execution_count": 149,
   "metadata": {},
   "outputs": [
    {
     "data": {
      "text/plain": [
       "Index(['상품일련번호', '공급처명', '상품명', '등록일자', '상품코드', '판매처상품코드', '상품분류', '대표이미지주소',\n",
       "       '설명이미지1', '설명이미지2', '설명이미지3', '설명이미지4', '입고예정목록반영여부', '매칭키워드1',\n",
       "       '매칭키워드2', '매칭키워드3', '상품일련번호2', '매칭키워드4', '매칭키워드5', '진열상태', '판매상태',\n",
       "       '상품분류 번호', '상품명(관리용)', '공급사상품명', '모델명', '상품 간략설명', '과세구분', '원가', '상품가',\n",
       "       '판매가', '주문수량 제한 기준', '최소 주문수량(이상)', '적립금', '공통이벤트 정보', '옵션사용',\n",
       "       '품목 구성방식', '옵션 표시방식', '옵션세트명', '옵션입력', '필수여부', '추가입력옵션', '이미지등록(상세)',\n",
       "       '이미지등록(목록)', '이미지등록(작은목록)', '이미지등록(축소)', '제조사', '공급사', '브랜드', '트렌드',\n",
       "       '자체분류 코드', '원산지', '상품결제안내', '상품배송안내', '배송정보', '배송기간',\n",
       "       '검색엔진최적화(SEO) 검색엔진 노출 설정', '상품 전체중량(kg)'],\n",
       "      dtype='object')"
      ]
     },
     "execution_count": 149,
     "metadata": {},
     "output_type": "execute_result"
    }
   ],
   "source": [
    "b=data0.columns\n",
    "b"
   ]
  },
  {
   "cell_type": "code",
   "execution_count": 159,
   "metadata": {},
   "outputs": [],
   "source": [
    "features=['판매처상품코드','옵션사용','품목 구성방식','옵션 표시방식','옵션세트명','옵션입력','필수여부','추가입력옵션','이미지등록(상세)','이미지등록(목록)','이미지등록(작은목록)','이미지등록(축소)','제조사','공급사','브랜드','트렌드','자체분류 코드','원산지','상품결제안내','상품배송안내','배송정보','배송기간','검색엔진최적화(SEO) 검색엔진 노출 설정','상품 전체중량(kg)']\n",
    "\n",
    "ddata0=data0.drop(features,axis=1)"
   ]
  },
  {
   "cell_type": "code",
   "execution_count": 160,
   "metadata": {},
   "outputs": [
    {
     "data": {
      "text/plain": [
       "((1419, 57), (1419, 33))"
      ]
     },
     "execution_count": 160,
     "metadata": {},
     "output_type": "execute_result"
    }
   ],
   "source": [
    "data0.shape,ddata0.shape"
   ]
  },
  {
   "cell_type": "code",
   "execution_count": 161,
   "metadata": {},
   "outputs": [
    {
     "name": "stdout",
     "output_type": "stream",
     "text": [
      "<class 'pandas.core.frame.DataFrame'>\n",
      "RangeIndex: 1419 entries, 0 to 1418\n",
      "Data columns (total 57 columns):\n",
      " #   Column                   Non-Null Count  Dtype  \n",
      "---  ------                   --------------  -----  \n",
      " 0   상품일련번호                   1419 non-null   int64  \n",
      " 1   공급처명                     1419 non-null   object \n",
      " 2   상품명                      1419 non-null   object \n",
      " 3   등록일자                     1419 non-null   object \n",
      " 4   상품코드                     1401 non-null   float64\n",
      " 5   판매처상품코드                  1388 non-null   object \n",
      " 6   상품분류                     152 non-null    object \n",
      " 7   대표이미지주소                  1419 non-null   object \n",
      " 8   설명이미지1                   1419 non-null   object \n",
      " 9   설명이미지2                   1419 non-null   object \n",
      " 10  설명이미지3                   1419 non-null   object \n",
      " 11  설명이미지4                   31 non-null     object \n",
      " 12  입고예정목록반영여부               291 non-null    object \n",
      " 13  매칭키워드1                   1404 non-null   object \n",
      " 14  매칭키워드2                   44 non-null     object \n",
      " 15  매칭키워드3                   4 non-null      object \n",
      " 16  상품일련번호2                  0 non-null      float64\n",
      " 17  매칭키워드4                   2 non-null      object \n",
      " 18  매칭키워드5                   2 non-null      object \n",
      " 19  진열상태                     0 non-null      float64\n",
      " 20  판매상태                     0 non-null      float64\n",
      " 21  상품분류 번호                  0 non-null      float64\n",
      " 22  상품명(관리용)                 0 non-null      float64\n",
      " 23  공급사상품명                   0 non-null      float64\n",
      " 24  모델명                      0 non-null      float64\n",
      " 25  상품 간략설명                  0 non-null      float64\n",
      " 26  과세구분                     0 non-null      float64\n",
      " 27  원가                       0 non-null      float64\n",
      " 28  상품가                      0 non-null      float64\n",
      " 29  판매가                      0 non-null      float64\n",
      " 30  주문수량 제한 기준               0 non-null      float64\n",
      " 31  최소 주문수량(이상)              0 non-null      float64\n",
      " 32  적립금                      0 non-null      float64\n",
      " 33  공통이벤트 정보                 0 non-null      float64\n",
      " 34  옵션사용                     0 non-null      float64\n",
      " 35  품목 구성방식                  0 non-null      float64\n",
      " 36  옵션 표시방식                  0 non-null      float64\n",
      " 37  옵션세트명                    0 non-null      float64\n",
      " 38  옵션입력                     0 non-null      float64\n",
      " 39  필수여부                     0 non-null      float64\n",
      " 40  추가입력옵션                   0 non-null      float64\n",
      " 41  이미지등록(상세)                0 non-null      float64\n",
      " 42  이미지등록(목록)                0 non-null      float64\n",
      " 43  이미지등록(작은목록)              0 non-null      float64\n",
      " 44  이미지등록(축소)                0 non-null      float64\n",
      " 45  제조사                      0 non-null      float64\n",
      " 46  공급사                      0 non-null      float64\n",
      " 47  브랜드                      0 non-null      float64\n",
      " 48  트렌드                      0 non-null      float64\n",
      " 49  자체분류 코드                  0 non-null      float64\n",
      " 50  원산지                      0 non-null      float64\n",
      " 51  상품결제안내                   0 non-null      float64\n",
      " 52  상품배송안내                   0 non-null      float64\n",
      " 53  배송정보                     0 non-null      float64\n",
      " 54  배송기간                     0 non-null      float64\n",
      " 55  검색엔진최적화(SEO) 검색엔진 노출 설정  0 non-null      float64\n",
      " 56  상품 전체중량(kg)              0 non-null      float64\n",
      "dtypes: float64(40), int64(1), object(16)\n",
      "memory usage: 632.0+ KB\n"
     ]
    }
   ],
   "source": [
    "data0.info()"
   ]
  },
  {
   "cell_type": "code",
   "execution_count": 162,
   "metadata": {},
   "outputs": [
    {
     "name": "stdout",
     "output_type": "stream",
     "text": [
      "<class 'pandas.core.frame.DataFrame'>\n",
      "Int64Index: 7622 entries, 0 to 1418\n",
      "Data columns (total 57 columns):\n",
      " #   Column                   Non-Null Count  Dtype  \n",
      "---  ------                   --------------  -----  \n",
      " 0   상품명                      7622 non-null   object \n",
      " 1   판매처상품코드                  6203 non-null   object \n",
      " 2   진열상태                     6203 non-null   object \n",
      " 3   판매상태                     6203 non-null   object \n",
      " 4   공급사상품명                   5762 non-null   object \n",
      " 5   모델명                      3796 non-null   object \n",
      " 6   상품 간략설명                  5028 non-null   object \n",
      " 7   과세구분                     6203 non-null   object \n",
      " 8   원가                       6203 non-null   float64\n",
      " 9   상품가                      6203 non-null   float64\n",
      " 10  판매가                      6203 non-null   float64\n",
      " 11  주문수량 제한 기준               6203 non-null   object \n",
      " 12  최소 주문수량(이상)              6203 non-null   float64\n",
      " 13  적립금                      6203 non-null   float64\n",
      " 14  공통이벤트 정보                 6203 non-null   object \n",
      " 15  옵션사용                     6203 non-null   object \n",
      " 16  품목 구성방식                  6199 non-null   object \n",
      " 17  옵션 표시방식                  6199 non-null   object \n",
      " 18  옵션세트명                    0 non-null      float64\n",
      " 19  옵션입력                     6199 non-null   object \n",
      " 20  필수여부                     6199 non-null   object \n",
      " 21  추가입력옵션                   6203 non-null   object \n",
      " 22  이미지등록(상세)                6195 non-null   object \n",
      " 23  이미지등록(목록)                6195 non-null   object \n",
      " 24  이미지등록(작은목록)              6195 non-null   object \n",
      " 25  이미지등록(축소)                6194 non-null   object \n",
      " 26  제조사                      6203 non-null   object \n",
      " 27  공급사                      6203 non-null   object \n",
      " 28  브랜드                      6203 non-null   object \n",
      " 29  트렌드                      6203 non-null   object \n",
      " 30  자체분류 코드                  6203 non-null   object \n",
      " 31  원산지                      6203 non-null   float64\n",
      " 32  상품결제안내                   6203 non-null   object \n",
      " 33  상품배송안내                   6203 non-null   object \n",
      " 34  배송정보                     6203 non-null   object \n",
      " 35  배송기간                     6203 non-null   object \n",
      " 36  검색엔진최적화(SEO) 검색엔진 노출 설정  6203 non-null   object \n",
      " 37  상품 전체중량(kg)              6203 non-null   float64\n",
      " 38  상품일련번호                   1419 non-null   float64\n",
      " 39  공급처명                     1419 non-null   object \n",
      " 40  등록일자                     1419 non-null   object \n",
      " 41  상품코드                     1401 non-null   float64\n",
      " 42  상품분류                     152 non-null    object \n",
      " 43  대표이미지주소                  1419 non-null   object \n",
      " 44  설명이미지1                   1419 non-null   object \n",
      " 45  설명이미지2                   1419 non-null   object \n",
      " 46  설명이미지3                   1419 non-null   object \n",
      " 47  설명이미지4                   31 non-null     object \n",
      " 48  입고예정목록반영여부               291 non-null    object \n",
      " 49  매칭키워드1                   1404 non-null   object \n",
      " 50  매칭키워드2                   44 non-null     object \n",
      " 51  매칭키워드3                   4 non-null      object \n",
      " 52  상품일련번호2                  0 non-null      float64\n",
      " 53  매칭키워드4                   2 non-null      object \n",
      " 54  매칭키워드5                   2 non-null      object \n",
      " 55  상품분류 번호                  0 non-null      float64\n",
      " 56  상품명(관리용)                 0 non-null      float64\n",
      "dtypes: float64(13), object(44)\n",
      "memory usage: 3.4+ MB\n"
     ]
    }
   ],
   "source": [
    "plusdata=data1.append(ddata0)\n",
    "plusdata.info()"
   ]
  },
  {
   "cell_type": "code",
   "execution_count": 163,
   "metadata": {},
   "outputs": [],
   "source": [
    "plusdata.to_excel('plusdata.xlsx',index=False)"
   ]
  },
  {
   "cell_type": "code",
   "execution_count": 164,
   "metadata": {},
   "outputs": [
    {
     "data": {
      "text/plain": [
       "(7622, 57)"
      ]
     },
     "execution_count": 164,
     "metadata": {},
     "output_type": "execute_result"
    }
   ],
   "source": [
    "plusdata.shape"
   ]
  },
  {
   "cell_type": "code",
   "execution_count": 166,
   "metadata": {},
   "outputs": [
    {
     "name": "stdout",
     "output_type": "stream",
     "text": [
      "Requirement already satisfied: selenium in c:\\anaconda\\lib\\site-packages (3.141.0)\n",
      "Requirement already satisfied: urllib3 in c:\\anaconda\\lib\\site-packages (from selenium) (1.25.11)\n",
      "Note: you may need to restart the kernel to use updated packages.\n"
     ]
    }
   ],
   "source": [
    "pip install selenium"
   ]
  },
  {
   "cell_type": "code",
   "execution_count": 1,
   "metadata": {},
   "outputs": [],
   "source": [
    "from selenium import webdriver\n",
    "from selenium.webdriver.support.ui import Select\n",
    "from bs4 import BeautifulSoup\n",
    "import requests\n",
    "import time\n",
    "import pandas as pd\n",
    "\n",
    "# options\n",
    "options=webdriver.ChromeOptions()\n",
    "options.add_argument('user_agent=Mozilla/5.0 (Windows NT 10.0; Win64; x64) AppleWebKit/537.36 (KHTML, like Gecko) Chrome/92.0.4515.107 Safari/537.36')\n",
    "options.add_experimental_option(\"excludeSwitches\", [\"enable-logging\"])\n",
    "\n",
    "basepath='C:/Users/이신행/OneDrive/바탕 화면/chromedriver_win32 (1)/'\n",
    "browser=webdriver.Chrome(executable_path=basepath+'chromedriver.exe',options=options) \n",
    "\n",
    "browser.get('https://shop.zigzag.kr/#!/login')\n",
    "username = \"fromdayone@nate.com\n",
    "password = \"datacampus1212\"\n",
    "time.sleep(2)\n",
    "\n",
    "#로그인\n",
    "browser.find_element_by_css_selector(\"#app > div > div._1i1JlFs9r7F35CPFiAZ1kk > form > div > div._32BFhWZALYrWWMcusNZmcb > div._1W9HPVI_t_ilN-jvfdHXKH > input\").send_keys(username)\n",
    "# find password input field and insert password as well\n",
    "browser.find_element_by_css_selector(\"#app > div > div._1i1JlFs9r7F35CPFiAZ1kk > form > div > div._32BFhWZALYrWWMcusNZmcb > div._3j2XBgX_AXMRHsmJ1uZkrp > input\").send_keys(password)\n",
    "# click login button\n",
    "browser.find_element_by_css_selector(\"#app > div > div._1i1JlFs9r7F35CPFiAZ1kk > form > div > div._32BFhWZALYrWWMcusNZmcb > div._1kDtjK4E42nk5Fip1Ib5PG\").click()\n",
    "\n",
    "time.sleep(2)\n",
    "#프롬데이원들어가기\n",
    "browser.find_element_by_css_selector('#app > div > div > div.GkvP8As0RNh0q0SXWbYrq > a > div._3p5nQS6thzPwoS2yeWVKnE').click()\n",
    "time.sleep(3)\n",
    "#팝업지우기\n",
    "browser.find_element_by_css_selector('body > div:nth-child(14) > div > div > div > div._35P9MiV4o8Dbe6Qq3OzTL7 > div').click()\n",
    "\n",
    "time.sleep(2)\n",
    "#주문관리 부분 클릭하기\n",
    "browser.execute_script(\"window.scrollTo(0, 300)\") \n",
    "browser.find_element_by_css_selector('#MainFrame > div._3RQ2avtYYL-Pui15GPxEaX > div.jpClQG6n0we9BTNHl8XN4 > ul._21AFJrE96G86JorW7SpsVD > li:nth-child(4) > div').click()\n",
    "time.sleep(1)\n",
    "browser.find_element_by_css_selector('#MainFrame > div._3RQ2avtYYL-Pui15GPxEaX > div.jpClQG6n0we9BTNHl8XN4 > ul._21AFJrE96G86JorW7SpsVD > li._2Y2ecYvivdPB_FyWIIVINm._1iwGhanHx42FOREfgd3kD6 > ul > li:nth-child(1)').click()\n",
    "\n",
    "#기준 설정 후 검색\n",
    "time.sleep(2)\n",
    "browser.find_element_by_css_selector('#MainFrame > div._3RQ2avtYYL-Pui15GPxEaX > div._11kux4DN6lBmMIPUQJDPlB > div:nth-child(3) > form > div:nth-child(2) > div > div > div > div > div > div:nth-child(1) > div > label._1MDlYeeSAqEgc6UApBfpPL.focused').click()\n",
    "time.sleep(1)\n",
    "browser.find_element_by_css_selector('#MainFrame > div._3RQ2avtYYL-Pui15GPxEaX > div._11kux4DN6lBmMIPUQJDPlB > div:nth-child(3) > form > div:nth-child(2) > div > div > div > div > div > div:nth-child(1) > div > label._1MDlYeeSAqEgc6UApBfpPL.focused').click()\n",
    "time.sleep(1)\n",
    "browser.find_element_by_css_selector('#MainFrame > div._3RQ2avtYYL-Pui15GPxEaX > div._11kux4DN6lBmMIPUQJDPlB > div:nth-child(3) > form > div:nth-child(2) > div > div > div > div > div > div:nth-child(1) > button').click()\n",
    "#time.sleep(1)\n",
    "#browser.find_element_by_css_selector('').click()\n",
    "# browser.switch_to_default_content()\n",
    "# browser.switch_to_frame('main')\n",
    "time.sleep(2)\n",
    "browser.find_element_by_css_selector('browser.find_element_by_css_selector').click()\n",
    "\n",
    "#browser.quit()"
   ]
  },
  {
   "cell_type": "code",
   "execution_count": 4,
   "metadata": {},
   "outputs": [
    {
     "data": {
      "text/plain": [
       "Index(['상품주문번호', '주문번호', '주문일시', '주문상태', '클레임상태', '상품코드', '자체상품코드', '상품명',\n",
       "       '품목코드', '자체품목코드', '옵션정보', '수량', '상품주문액', '구매자명', '구매자 ID', '수취인명',\n",
       "       '지그재그상품코드'],\n",
       "      dtype='object')"
      ]
     },
     "execution_count": 4,
     "metadata": {},
     "output_type": "execute_result"
    }
   ],
   "source": [
    "zigzag_2107=pd.read_excel('210628~210728.xlsx')\n",
    "zigzag_2107.columns"
   ]
  },
  {
   "cell_type": "code",
   "execution_count": 6,
   "metadata": {},
   "outputs": [
    {
     "data": {
      "text/plain": [
       "Index(['상품명', '판매처상품코드', '진열상태', '판매상태', '공급사상품명', '모델명', '상품 간략설명', '과세구분',\n",
       "       '원가', '상품가', '판매가', '주문수량 제한 기준', '최소 주문수량(이상)', '적립금', '공통이벤트 정보',\n",
       "       '옵션사용', '품목 구성방식', '옵션 표시방식', '옵션세트명', '옵션입력', '필수여부', '추가입력옵션',\n",
       "       '이미지등록(상세)', '이미지등록(목록)', '이미지등록(작은목록)', '이미지등록(축소)', '제조사', '공급사',\n",
       "       '브랜드', '트렌드', '자체분류 코드', '원산지', '상품결제안내', '상품배송안내', '배송정보', '배송기간',\n",
       "       '검색엔진최적화(SEO) 검색엔진 노출 설정', '상품 전체중량(kg)', '상품일련번호', '공급처명', '등록일자',\n",
       "       '상품코드', '상품분류', '대표이미지주소', '설명이미지1', '설명이미지2', '설명이미지3', '설명이미지4',\n",
       "       '입고예정목록반영여부', '매칭키워드1', '매칭키워드2', '매칭키워드3', '상품일련번호2', '매칭키워드4',\n",
       "       '매칭키워드5', '상품분류 번호', '상품명(관리용)'],\n",
       "      dtype='object')"
      ]
     },
     "execution_count": 6,
     "metadata": {},
     "output_type": "execute_result"
    }
   ],
   "source": [
    "plusdata=pd.read_excel('plusdata.xlsx')\n",
    "plusdata.columns"
   ]
  },
  {
   "cell_type": "code",
   "execution_count": 13,
   "metadata": {},
   "outputs": [
    {
     "data": {
      "text/plain": [
       "상품주문번호        int64\n",
       "주문번호          int64\n",
       "주문일시         object\n",
       "주문상태         object\n",
       "클레임상태        object\n",
       "상품코드         object\n",
       "자체상품코드       object\n",
       "상품명          object\n",
       "품목코드         object\n",
       "자체품목코드      float64\n",
       "옵션정보         object\n",
       "수량            int64\n",
       "상품주문액        object\n",
       "구매자명         object\n",
       "구매자 ID       object\n",
       "수취인명         object\n",
       "지그재그상품코드      int64\n",
       "dtype: object"
      ]
     },
     "execution_count": 13,
     "metadata": {},
     "output_type": "execute_result"
    }
   ],
   "source": [
    "zigzag_2107.dtypes"
   ]
  },
  {
   "cell_type": "code",
   "execution_count": null,
   "metadata": {},
   "outputs": [],
   "source": [
    "#MainFrame > div._3RQ2avtYYL-Pui15GPxEaX > div._11kux4DN6lBmMIPUQJDPlB > div:nth-child(4) > div.XLkQsW-5gp-qBKRlsW2kk > div._38QBdiU4IG4r3HYYtXIJbc > ul > li:nth-child(2) > a\n",
    "\n",
    "#MainFrame > div._3RQ2avtYYL-Pui15GPxEaX > div._11kux4DN6lBmMIPUQJDPlB > div:nth-child(4) > div.XLkQsW-5gp-qBKRlsW2kk > div._38QBdiU4IG4r3HYYtXIJbc > ul > li:nth-child(3)\n",
    "\n",
    "https://shop.zigzag.kr/fromdayone/#!/product_review?selected_type=all\n",
    "    \n",
    "    https://shop.zigzag.kr/fromdayone/#!/product_review?selected_type=all"
   ]
  }
 ],
 "metadata": {
  "kernelspec": {
   "display_name": "Python 3",
   "language": "python",
   "name": "python3"
  },
  "language_info": {
   "codemirror_mode": {
    "name": "ipython",
    "version": 3
   },
   "file_extension": ".py",
   "mimetype": "text/x-python",
   "name": "python",
   "nbconvert_exporter": "python",
   "pygments_lexer": "ipython3",
   "version": "3.8.5"
  }
 },
 "nbformat": 4,
 "nbformat_minor": 4
}
