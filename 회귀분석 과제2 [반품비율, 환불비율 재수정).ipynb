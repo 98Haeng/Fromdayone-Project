{
 "cells": [
  {
   "cell_type": "code",
   "execution_count": 4,
   "metadata": {},
   "outputs": [
    {
     "name": "stdout",
     "output_type": "stream",
     "text": [
      "Collecting statsmodels\n",
      "  Downloading statsmodels-0.12.2-cp37-none-win_amd64.whl (9.3 MB)\n",
      "Requirement already satisfied: scipy>=1.1 in c:\\users\\alsrn\\appdata\\local\\programs\\python\\python37\\lib\\site-packages (from statsmodels) (1.6.1)\n",
      "Requirement already satisfied: pandas>=0.21 in c:\\users\\alsrn\\appdata\\local\\programs\\python\\python37\\lib\\site-packages (from statsmodels) (1.2.3)\n",
      "Collecting patsy>=0.5\n",
      "  Downloading patsy-0.5.1-py2.py3-none-any.whl (231 kB)\n",
      "Requirement already satisfied: numpy>=1.15 in c:\\users\\alsrn\\appdata\\local\\programs\\python\\python37\\lib\\site-packages (from statsmodels) (1.19.5)\n",
      "Requirement already satisfied: python-dateutil>=2.7.3 in c:\\users\\alsrn\\appdata\\local\\programs\\python\\python37\\lib\\site-packages (from pandas>=0.21->statsmodels) (2.8.1)\n",
      "Requirement already satisfied: pytz>=2017.3 in c:\\users\\alsrn\\appdata\\local\\programs\\python\\python37\\lib\\site-packages (from pandas>=0.21->statsmodels) (2021.1)\n",
      "Requirement already satisfied: six in c:\\users\\alsrn\\appdata\\local\\programs\\python\\python37\\lib\\site-packages (from patsy>=0.5->statsmodels) (1.15.0)\n",
      "Installing collected packages: patsy, statsmodels\n",
      "Successfully installed patsy-0.5.1 statsmodels-0.12.2\n",
      "Note: you may need to restart the kernel to use updated packages.\n"
     ]
    },
    {
     "name": "stderr",
     "output_type": "stream",
     "text": [
      "WARNING: You are using pip version 21.1.3; however, version 21.2.4 is available.\n",
      "You should consider upgrading via the 'c:\\users\\alsrn\\appdata\\local\\programs\\python\\python37\\python.exe -m pip install --upgrade pip' command.\n"
     ]
    }
   ],
   "source": [
    "%pip install statsmodels"
   ]
  },
  {
   "cell_type": "code",
   "execution_count": 400,
   "metadata": {},
   "outputs": [],
   "source": [
    "import pandas as pd\n",
    "import numpy as np\n",
    "import statsmodels.api as sm\n",
    "import statsmodels.formula.api as smf\n",
    "import warnings\n",
    "warnings.filterwarnings(action='ignore')"
   ]
  },
  {
   "cell_type": "code",
   "execution_count": 401,
   "metadata": {},
   "outputs": [],
   "source": [
    "주문수환불액매출액 = pd.read_csv(\"주문수 환불액 매출액.csv\")"
   ]
  },
  {
   "cell_type": "code",
   "execution_count": 402,
   "metadata": {},
   "outputs": [],
   "source": [
    "반품수량 = pd.read_csv(\"반품수량다시가져옴.csv\")"
   ]
  },
  {
   "cell_type": "code",
   "execution_count": 403,
   "metadata": {},
   "outputs": [],
   "source": [
    "담긴수 = pd.read_csv(\"통계서비스_장바구니분석_담긴상품_20210818.csv\")"
   ]
  },
  {
   "cell_type": "code",
   "execution_count": 404,
   "metadata": {},
   "outputs": [],
   "source": [
    "긍정확률평균평점 = pd.read_csv(\"긍정확률평균평점.csv\")"
   ]
  },
  {
   "cell_type": "code",
   "execution_count": 405,
   "metadata": {},
   "outputs": [
    {
     "data": {
      "text/plain": [
       "주문상품명         object\n",
       "평균 : 긍정확률    float64\n",
       "개수 : 긍정확률      int64\n",
       "평균 : 평점      float64\n",
       "dtype: object"
      ]
     },
     "execution_count": 405,
     "metadata": {},
     "output_type": "execute_result"
    }
   ],
   "source": [
    "긍정확률평균평점.dtypes"
   ]
  },
  {
   "cell_type": "code",
   "execution_count": 406,
   "metadata": {},
   "outputs": [],
   "source": [
    "매출반품 = pd.merge(주문수환불액매출액, 반품수량, how = \"left\", on = \"주문상품명\")"
   ]
  },
  {
   "cell_type": "code",
   "execution_count": 407,
   "metadata": {},
   "outputs": [
    {
     "data": {
      "text/html": [
       "<div>\n",
       "<style scoped>\n",
       "    .dataframe tbody tr th:only-of-type {\n",
       "        vertical-align: middle;\n",
       "    }\n",
       "\n",
       "    .dataframe tbody tr th {\n",
       "        vertical-align: top;\n",
       "    }\n",
       "\n",
       "    .dataframe thead th {\n",
       "        text-align: right;\n",
       "    }\n",
       "</style>\n",
       "<table border=\"1\" class=\"dataframe\">\n",
       "  <thead>\n",
       "    <tr style=\"text-align: right;\">\n",
       "      <th></th>\n",
       "      <th>주문상품명</th>\n",
       "      <th>주문수</th>\n",
       "      <th>환불수</th>\n",
       "      <th>매출액</th>\n",
       "      <th>환불비율</th>\n",
       "      <th>반품수량</th>\n",
       "    </tr>\n",
       "  </thead>\n",
       "  <tbody>\n",
       "    <tr>\n",
       "      <th>0</th>\n",
       "      <td>[La belle rose]레이니 찰랑 미니 훌원피스</td>\n",
       "      <td>212</td>\n",
       "      <td>34</td>\n",
       "      <td>5304400</td>\n",
       "      <td>0.160377</td>\n",
       "      <td>3.0</td>\n",
       "    </tr>\n",
       "    <tr>\n",
       "      <th>1</th>\n",
       "      <td>프리미 여리핏 가디건</td>\n",
       "      <td>148</td>\n",
       "      <td>31</td>\n",
       "      <td>2316600</td>\n",
       "      <td>0.209459</td>\n",
       "      <td>NaN</td>\n",
       "    </tr>\n",
       "    <tr>\n",
       "      <th>2</th>\n",
       "      <td>[La belle rose]페이어 유넥티</td>\n",
       "      <td>139</td>\n",
       "      <td>20</td>\n",
       "      <td>1404200</td>\n",
       "      <td>0.143885</td>\n",
       "      <td>3.0</td>\n",
       "    </tr>\n",
       "    <tr>\n",
       "      <th>3</th>\n",
       "      <td>[La belle rose]레이니 찰랑 미니 훌원피스</td>\n",
       "      <td>122</td>\n",
       "      <td>16</td>\n",
       "      <td>3158800</td>\n",
       "      <td>0.131148</td>\n",
       "      <td>3.0</td>\n",
       "    </tr>\n",
       "    <tr>\n",
       "      <th>4</th>\n",
       "      <td>드민 플라워 쉬폰롱원피스</td>\n",
       "      <td>119</td>\n",
       "      <td>29</td>\n",
       "      <td>4302000</td>\n",
       "      <td>0.243697</td>\n",
       "      <td>3.0</td>\n",
       "    </tr>\n",
       "    <tr>\n",
       "      <th>...</th>\n",
       "      <td>...</td>\n",
       "      <td>...</td>\n",
       "      <td>...</td>\n",
       "      <td>...</td>\n",
       "      <td>...</td>\n",
       "      <td>...</td>\n",
       "    </tr>\n",
       "    <tr>\n",
       "      <th>1982</th>\n",
       "      <td>하로 포켓셔츠</td>\n",
       "      <td>1</td>\n",
       "      <td>2</td>\n",
       "      <td>-22000</td>\n",
       "      <td>2.000000</td>\n",
       "      <td>NaN</td>\n",
       "    </tr>\n",
       "    <tr>\n",
       "      <th>1983</th>\n",
       "      <td>[La belle rose]베네 펀칭 플레어원피스(+4cm기장추가옵션)</td>\n",
       "      <td>1</td>\n",
       "      <td>2</td>\n",
       "      <td>-59000</td>\n",
       "      <td>2.000000</td>\n",
       "      <td>1.0</td>\n",
       "    </tr>\n",
       "    <tr>\n",
       "      <th>1984</th>\n",
       "      <td>세이린 롱원피스(벨트set)</td>\n",
       "      <td>1</td>\n",
       "      <td>2</td>\n",
       "      <td>-48900</td>\n",
       "      <td>2.000000</td>\n",
       "      <td>NaN</td>\n",
       "    </tr>\n",
       "    <tr>\n",
       "      <th>1985</th>\n",
       "      <td>쥬드 코튼 숏팬츠</td>\n",
       "      <td>1</td>\n",
       "      <td>3</td>\n",
       "      <td>-42000</td>\n",
       "      <td>3.000000</td>\n",
       "      <td>NaN</td>\n",
       "    </tr>\n",
       "    <tr>\n",
       "      <th>1986</th>\n",
       "      <td>커맨드 유넥 하프니트</td>\n",
       "      <td>1</td>\n",
       "      <td>3</td>\n",
       "      <td>-42000</td>\n",
       "      <td>3.000000</td>\n",
       "      <td>NaN</td>\n",
       "    </tr>\n",
       "  </tbody>\n",
       "</table>\n",
       "<p>1987 rows × 6 columns</p>\n",
       "</div>"
      ],
      "text/plain": [
       "                                        주문상품명  주문수  환불수      매출액      환불비율  \\\n",
       "0               [La belle rose]레이니 찰랑 미니 훌원피스  212   34  5304400  0.160377   \n",
       "1                                 프리미 여리핏 가디건  148   31  2316600  0.209459   \n",
       "2                      [La belle rose]페이어 유넥티  139   20  1404200  0.143885   \n",
       "3               [La belle rose]레이니 찰랑 미니 훌원피스  122   16  3158800  0.131148   \n",
       "4                               드민 플라워 쉬폰롱원피스  119   29  4302000  0.243697   \n",
       "...                                       ...  ...  ...      ...       ...   \n",
       "1982                                  하로 포켓셔츠    1    2   -22000  2.000000   \n",
       "1983  [La belle rose]베네 펀칭 플레어원피스(+4cm기장추가옵션)    1    2   -59000  2.000000   \n",
       "1984                          세이린 롱원피스(벨트set)    1    2   -48900  2.000000   \n",
       "1985                                쥬드 코튼 숏팬츠    1    3   -42000  3.000000   \n",
       "1986                              커맨드 유넥 하프니트    1    3   -42000  3.000000   \n",
       "\n",
       "      반품수량  \n",
       "0      3.0  \n",
       "1      NaN  \n",
       "2      3.0  \n",
       "3      3.0  \n",
       "4      3.0  \n",
       "...    ...  \n",
       "1982   NaN  \n",
       "1983   1.0  \n",
       "1984   NaN  \n",
       "1985   NaN  \n",
       "1986   NaN  \n",
       "\n",
       "[1987 rows x 6 columns]"
      ]
     },
     "execution_count": 407,
     "metadata": {},
     "output_type": "execute_result"
    }
   ],
   "source": [
    "매출반품"
   ]
  },
  {
   "cell_type": "code",
   "execution_count": 408,
   "metadata": {},
   "outputs": [],
   "source": [
    "매출반품담긴수 = pd.merge(매출반품, 담긴수, how = \"left\", on = \"주문상품명\")"
   ]
  },
  {
   "cell_type": "code",
   "execution_count": 409,
   "metadata": {},
   "outputs": [
    {
     "data": {
      "text/html": [
       "<div>\n",
       "<style scoped>\n",
       "    .dataframe tbody tr th:only-of-type {\n",
       "        vertical-align: middle;\n",
       "    }\n",
       "\n",
       "    .dataframe tbody tr th {\n",
       "        vertical-align: top;\n",
       "    }\n",
       "\n",
       "    .dataframe thead th {\n",
       "        text-align: right;\n",
       "    }\n",
       "</style>\n",
       "<table border=\"1\" class=\"dataframe\">\n",
       "  <thead>\n",
       "    <tr style=\"text-align: right;\">\n",
       "      <th></th>\n",
       "      <th>주문상품명</th>\n",
       "      <th>주문수</th>\n",
       "      <th>환불수</th>\n",
       "      <th>매출액</th>\n",
       "      <th>환불비율</th>\n",
       "      <th>반품수량</th>\n",
       "      <th>담긴수</th>\n",
       "      <th>노출수</th>\n",
       "      <th>담김율</th>\n",
       "    </tr>\n",
       "  </thead>\n",
       "  <tbody>\n",
       "    <tr>\n",
       "      <th>0</th>\n",
       "      <td>[La belle rose]레이니 찰랑 미니 훌원피스</td>\n",
       "      <td>212</td>\n",
       "      <td>34</td>\n",
       "      <td>5304400</td>\n",
       "      <td>0.160377</td>\n",
       "      <td>3.0</td>\n",
       "      <td>944.0</td>\n",
       "      <td>38664.0</td>\n",
       "      <td>2.44</td>\n",
       "    </tr>\n",
       "    <tr>\n",
       "      <th>1</th>\n",
       "      <td>프리미 여리핏 가디건</td>\n",
       "      <td>148</td>\n",
       "      <td>31</td>\n",
       "      <td>2316600</td>\n",
       "      <td>0.209459</td>\n",
       "      <td>NaN</td>\n",
       "      <td>472.0</td>\n",
       "      <td>12361.0</td>\n",
       "      <td>3.82</td>\n",
       "    </tr>\n",
       "    <tr>\n",
       "      <th>2</th>\n",
       "      <td>[La belle rose]페이어 유넥티</td>\n",
       "      <td>139</td>\n",
       "      <td>20</td>\n",
       "      <td>1404200</td>\n",
       "      <td>0.143885</td>\n",
       "      <td>3.0</td>\n",
       "      <td>825.0</td>\n",
       "      <td>9366.0</td>\n",
       "      <td>8.81</td>\n",
       "    </tr>\n",
       "    <tr>\n",
       "      <th>3</th>\n",
       "      <td>[La belle rose]레이니 찰랑 미니 훌원피스</td>\n",
       "      <td>122</td>\n",
       "      <td>16</td>\n",
       "      <td>3158800</td>\n",
       "      <td>0.131148</td>\n",
       "      <td>3.0</td>\n",
       "      <td>944.0</td>\n",
       "      <td>38664.0</td>\n",
       "      <td>2.44</td>\n",
       "    </tr>\n",
       "    <tr>\n",
       "      <th>4</th>\n",
       "      <td>드민 플라워 쉬폰롱원피스</td>\n",
       "      <td>119</td>\n",
       "      <td>29</td>\n",
       "      <td>4302000</td>\n",
       "      <td>0.243697</td>\n",
       "      <td>3.0</td>\n",
       "      <td>375.0</td>\n",
       "      <td>29077.0</td>\n",
       "      <td>1.29</td>\n",
       "    </tr>\n",
       "    <tr>\n",
       "      <th>...</th>\n",
       "      <td>...</td>\n",
       "      <td>...</td>\n",
       "      <td>...</td>\n",
       "      <td>...</td>\n",
       "      <td>...</td>\n",
       "      <td>...</td>\n",
       "      <td>...</td>\n",
       "      <td>...</td>\n",
       "      <td>...</td>\n",
       "    </tr>\n",
       "    <tr>\n",
       "      <th>1982</th>\n",
       "      <td>하로 포켓셔츠</td>\n",
       "      <td>1</td>\n",
       "      <td>2</td>\n",
       "      <td>-22000</td>\n",
       "      <td>2.000000</td>\n",
       "      <td>NaN</td>\n",
       "      <td>NaN</td>\n",
       "      <td>NaN</td>\n",
       "      <td>NaN</td>\n",
       "    </tr>\n",
       "    <tr>\n",
       "      <th>1983</th>\n",
       "      <td>[La belle rose]베네 펀칭 플레어원피스(+4cm기장추가옵션)</td>\n",
       "      <td>1</td>\n",
       "      <td>2</td>\n",
       "      <td>-59000</td>\n",
       "      <td>2.000000</td>\n",
       "      <td>1.0</td>\n",
       "      <td>NaN</td>\n",
       "      <td>NaN</td>\n",
       "      <td>NaN</td>\n",
       "    </tr>\n",
       "    <tr>\n",
       "      <th>1984</th>\n",
       "      <td>세이린 롱원피스(벨트set)</td>\n",
       "      <td>1</td>\n",
       "      <td>2</td>\n",
       "      <td>-48900</td>\n",
       "      <td>2.000000</td>\n",
       "      <td>NaN</td>\n",
       "      <td>NaN</td>\n",
       "      <td>NaN</td>\n",
       "      <td>NaN</td>\n",
       "    </tr>\n",
       "    <tr>\n",
       "      <th>1985</th>\n",
       "      <td>쥬드 코튼 숏팬츠</td>\n",
       "      <td>1</td>\n",
       "      <td>3</td>\n",
       "      <td>-42000</td>\n",
       "      <td>3.000000</td>\n",
       "      <td>NaN</td>\n",
       "      <td>NaN</td>\n",
       "      <td>NaN</td>\n",
       "      <td>NaN</td>\n",
       "    </tr>\n",
       "    <tr>\n",
       "      <th>1986</th>\n",
       "      <td>커맨드 유넥 하프니트</td>\n",
       "      <td>1</td>\n",
       "      <td>3</td>\n",
       "      <td>-42000</td>\n",
       "      <td>3.000000</td>\n",
       "      <td>NaN</td>\n",
       "      <td>NaN</td>\n",
       "      <td>NaN</td>\n",
       "      <td>NaN</td>\n",
       "    </tr>\n",
       "  </tbody>\n",
       "</table>\n",
       "<p>1987 rows × 9 columns</p>\n",
       "</div>"
      ],
      "text/plain": [
       "                                        주문상품명  주문수  환불수      매출액      환불비율  \\\n",
       "0               [La belle rose]레이니 찰랑 미니 훌원피스  212   34  5304400  0.160377   \n",
       "1                                 프리미 여리핏 가디건  148   31  2316600  0.209459   \n",
       "2                      [La belle rose]페이어 유넥티  139   20  1404200  0.143885   \n",
       "3               [La belle rose]레이니 찰랑 미니 훌원피스  122   16  3158800  0.131148   \n",
       "4                               드민 플라워 쉬폰롱원피스  119   29  4302000  0.243697   \n",
       "...                                       ...  ...  ...      ...       ...   \n",
       "1982                                  하로 포켓셔츠    1    2   -22000  2.000000   \n",
       "1983  [La belle rose]베네 펀칭 플레어원피스(+4cm기장추가옵션)    1    2   -59000  2.000000   \n",
       "1984                          세이린 롱원피스(벨트set)    1    2   -48900  2.000000   \n",
       "1985                                쥬드 코튼 숏팬츠    1    3   -42000  3.000000   \n",
       "1986                              커맨드 유넥 하프니트    1    3   -42000  3.000000   \n",
       "\n",
       "      반품수량    담긴수      노출수   담김율  \n",
       "0      3.0  944.0  38664.0  2.44  \n",
       "1      NaN  472.0  12361.0  3.82  \n",
       "2      3.0  825.0   9366.0  8.81  \n",
       "3      3.0  944.0  38664.0  2.44  \n",
       "4      3.0  375.0  29077.0  1.29  \n",
       "...    ...    ...      ...   ...  \n",
       "1982   NaN    NaN      NaN   NaN  \n",
       "1983   1.0    NaN      NaN   NaN  \n",
       "1984   NaN    NaN      NaN   NaN  \n",
       "1985   NaN    NaN      NaN   NaN  \n",
       "1986   NaN    NaN      NaN   NaN  \n",
       "\n",
       "[1987 rows x 9 columns]"
      ]
     },
     "execution_count": 409,
     "metadata": {},
     "output_type": "execute_result"
    }
   ],
   "source": [
    "매출반품담긴수"
   ]
  },
  {
   "cell_type": "code",
   "execution_count": 410,
   "metadata": {},
   "outputs": [],
   "source": [
    "df = pd.merge(매출반품담긴수, 긍정확률평균평점, how = \"left\", on=\"주문상품명\")"
   ]
  },
  {
   "cell_type": "code",
   "execution_count": 414,
   "metadata": {},
   "outputs": [
    {
     "data": {
      "text/html": [
       "<div>\n",
       "<style scoped>\n",
       "    .dataframe tbody tr th:only-of-type {\n",
       "        vertical-align: middle;\n",
       "    }\n",
       "\n",
       "    .dataframe tbody tr th {\n",
       "        vertical-align: top;\n",
       "    }\n",
       "\n",
       "    .dataframe thead th {\n",
       "        text-align: right;\n",
       "    }\n",
       "</style>\n",
       "<table border=\"1\" class=\"dataframe\">\n",
       "  <thead>\n",
       "    <tr style=\"text-align: right;\">\n",
       "      <th></th>\n",
       "      <th>주문상품명</th>\n",
       "      <th>주문수</th>\n",
       "      <th>환불수</th>\n",
       "      <th>매출액</th>\n",
       "      <th>환불비율</th>\n",
       "      <th>반품수량</th>\n",
       "      <th>담긴수</th>\n",
       "      <th>노출수</th>\n",
       "      <th>담김율</th>\n",
       "      <th>평균 : 긍정확률</th>\n",
       "      <th>개수 : 긍정확률</th>\n",
       "      <th>평균 : 평점</th>\n",
       "    </tr>\n",
       "  </thead>\n",
       "  <tbody>\n",
       "    <tr>\n",
       "      <th>0</th>\n",
       "      <td>[La belle rose]레이니 찰랑 미니 훌원피스</td>\n",
       "      <td>212</td>\n",
       "      <td>34</td>\n",
       "      <td>5304400</td>\n",
       "      <td>0.160377</td>\n",
       "      <td>3.0</td>\n",
       "      <td>944.0</td>\n",
       "      <td>38664.0</td>\n",
       "      <td>2.44</td>\n",
       "      <td>NaN</td>\n",
       "      <td>NaN</td>\n",
       "      <td>NaN</td>\n",
       "    </tr>\n",
       "    <tr>\n",
       "      <th>1</th>\n",
       "      <td>프리미 여리핏 가디건</td>\n",
       "      <td>148</td>\n",
       "      <td>31</td>\n",
       "      <td>2316600</td>\n",
       "      <td>0.209459</td>\n",
       "      <td>NaN</td>\n",
       "      <td>472.0</td>\n",
       "      <td>12361.0</td>\n",
       "      <td>3.82</td>\n",
       "      <td>0.728099</td>\n",
       "      <td>44.0</td>\n",
       "      <td>4.522727</td>\n",
       "    </tr>\n",
       "    <tr>\n",
       "      <th>2</th>\n",
       "      <td>[La belle rose]페이어 유넥티</td>\n",
       "      <td>139</td>\n",
       "      <td>20</td>\n",
       "      <td>1404200</td>\n",
       "      <td>0.143885</td>\n",
       "      <td>3.0</td>\n",
       "      <td>825.0</td>\n",
       "      <td>9366.0</td>\n",
       "      <td>8.81</td>\n",
       "      <td>NaN</td>\n",
       "      <td>NaN</td>\n",
       "      <td>NaN</td>\n",
       "    </tr>\n",
       "    <tr>\n",
       "      <th>3</th>\n",
       "      <td>[La belle rose]레이니 찰랑 미니 훌원피스</td>\n",
       "      <td>122</td>\n",
       "      <td>16</td>\n",
       "      <td>3158800</td>\n",
       "      <td>0.131148</td>\n",
       "      <td>3.0</td>\n",
       "      <td>944.0</td>\n",
       "      <td>38664.0</td>\n",
       "      <td>2.44</td>\n",
       "      <td>NaN</td>\n",
       "      <td>NaN</td>\n",
       "      <td>NaN</td>\n",
       "    </tr>\n",
       "    <tr>\n",
       "      <th>4</th>\n",
       "      <td>드민 플라워 쉬폰롱원피스</td>\n",
       "      <td>119</td>\n",
       "      <td>29</td>\n",
       "      <td>4302000</td>\n",
       "      <td>0.243697</td>\n",
       "      <td>3.0</td>\n",
       "      <td>375.0</td>\n",
       "      <td>29077.0</td>\n",
       "      <td>1.29</td>\n",
       "      <td>0.987166</td>\n",
       "      <td>19.0</td>\n",
       "      <td>4.894737</td>\n",
       "    </tr>\n",
       "    <tr>\n",
       "      <th>...</th>\n",
       "      <td>...</td>\n",
       "      <td>...</td>\n",
       "      <td>...</td>\n",
       "      <td>...</td>\n",
       "      <td>...</td>\n",
       "      <td>...</td>\n",
       "      <td>...</td>\n",
       "      <td>...</td>\n",
       "      <td>...</td>\n",
       "      <td>...</td>\n",
       "      <td>...</td>\n",
       "      <td>...</td>\n",
       "    </tr>\n",
       "    <tr>\n",
       "      <th>1982</th>\n",
       "      <td>하로 포켓셔츠</td>\n",
       "      <td>1</td>\n",
       "      <td>2</td>\n",
       "      <td>-22000</td>\n",
       "      <td>2.000000</td>\n",
       "      <td>NaN</td>\n",
       "      <td>NaN</td>\n",
       "      <td>NaN</td>\n",
       "      <td>NaN</td>\n",
       "      <td>0.924413</td>\n",
       "      <td>80.0</td>\n",
       "      <td>4.750000</td>\n",
       "    </tr>\n",
       "    <tr>\n",
       "      <th>1983</th>\n",
       "      <td>[La belle rose]베네 펀칭 플레어원피스(+4cm기장추가옵션)</td>\n",
       "      <td>1</td>\n",
       "      <td>2</td>\n",
       "      <td>-59000</td>\n",
       "      <td>2.000000</td>\n",
       "      <td>1.0</td>\n",
       "      <td>NaN</td>\n",
       "      <td>NaN</td>\n",
       "      <td>NaN</td>\n",
       "      <td>NaN</td>\n",
       "      <td>NaN</td>\n",
       "      <td>NaN</td>\n",
       "    </tr>\n",
       "    <tr>\n",
       "      <th>1984</th>\n",
       "      <td>세이린 롱원피스(벨트set)</td>\n",
       "      <td>1</td>\n",
       "      <td>2</td>\n",
       "      <td>-48900</td>\n",
       "      <td>2.000000</td>\n",
       "      <td>NaN</td>\n",
       "      <td>NaN</td>\n",
       "      <td>NaN</td>\n",
       "      <td>NaN</td>\n",
       "      <td>NaN</td>\n",
       "      <td>NaN</td>\n",
       "      <td>NaN</td>\n",
       "    </tr>\n",
       "    <tr>\n",
       "      <th>1985</th>\n",
       "      <td>쥬드 코튼 숏팬츠</td>\n",
       "      <td>1</td>\n",
       "      <td>3</td>\n",
       "      <td>-42000</td>\n",
       "      <td>3.000000</td>\n",
       "      <td>NaN</td>\n",
       "      <td>NaN</td>\n",
       "      <td>NaN</td>\n",
       "      <td>NaN</td>\n",
       "      <td>0.840057</td>\n",
       "      <td>17.0</td>\n",
       "      <td>4.764706</td>\n",
       "    </tr>\n",
       "    <tr>\n",
       "      <th>1986</th>\n",
       "      <td>커맨드 유넥 하프니트</td>\n",
       "      <td>1</td>\n",
       "      <td>3</td>\n",
       "      <td>-42000</td>\n",
       "      <td>3.000000</td>\n",
       "      <td>NaN</td>\n",
       "      <td>NaN</td>\n",
       "      <td>NaN</td>\n",
       "      <td>NaN</td>\n",
       "      <td>0.747675</td>\n",
       "      <td>27.0</td>\n",
       "      <td>4.444444</td>\n",
       "    </tr>\n",
       "  </tbody>\n",
       "</table>\n",
       "<p>1987 rows × 12 columns</p>\n",
       "</div>"
      ],
      "text/plain": [
       "                                        주문상품명  주문수  환불수      매출액      환불비율  \\\n",
       "0               [La belle rose]레이니 찰랑 미니 훌원피스  212   34  5304400  0.160377   \n",
       "1                                 프리미 여리핏 가디건  148   31  2316600  0.209459   \n",
       "2                      [La belle rose]페이어 유넥티  139   20  1404200  0.143885   \n",
       "3               [La belle rose]레이니 찰랑 미니 훌원피스  122   16  3158800  0.131148   \n",
       "4                               드민 플라워 쉬폰롱원피스  119   29  4302000  0.243697   \n",
       "...                                       ...  ...  ...      ...       ...   \n",
       "1982                                  하로 포켓셔츠    1    2   -22000  2.000000   \n",
       "1983  [La belle rose]베네 펀칭 플레어원피스(+4cm기장추가옵션)    1    2   -59000  2.000000   \n",
       "1984                          세이린 롱원피스(벨트set)    1    2   -48900  2.000000   \n",
       "1985                                쥬드 코튼 숏팬츠    1    3   -42000  3.000000   \n",
       "1986                              커맨드 유넥 하프니트    1    3   -42000  3.000000   \n",
       "\n",
       "      반품수량    담긴수      노출수   담김율  평균 : 긍정확률  개수 : 긍정확률   평균 : 평점  \n",
       "0      3.0  944.0  38664.0  2.44        NaN        NaN       NaN  \n",
       "1      NaN  472.0  12361.0  3.82   0.728099       44.0  4.522727  \n",
       "2      3.0  825.0   9366.0  8.81        NaN        NaN       NaN  \n",
       "3      3.0  944.0  38664.0  2.44        NaN        NaN       NaN  \n",
       "4      3.0  375.0  29077.0  1.29   0.987166       19.0  4.894737  \n",
       "...    ...    ...      ...   ...        ...        ...       ...  \n",
       "1982   NaN    NaN      NaN   NaN   0.924413       80.0  4.750000  \n",
       "1983   1.0    NaN      NaN   NaN        NaN        NaN       NaN  \n",
       "1984   NaN    NaN      NaN   NaN        NaN        NaN       NaN  \n",
       "1985   NaN    NaN      NaN   NaN   0.840057       17.0  4.764706  \n",
       "1986   NaN    NaN      NaN   NaN   0.747675       27.0  4.444444  \n",
       "\n",
       "[1987 rows x 12 columns]"
      ]
     },
     "execution_count": 414,
     "metadata": {},
     "output_type": "execute_result"
    }
   ],
   "source": [
    "df"
   ]
  },
  {
   "cell_type": "markdown",
   "metadata": {},
   "source": [
    "수치형데이터로 변환하기 위해 데이터타입 확인"
   ]
  },
  {
   "cell_type": "code",
   "execution_count": 382,
   "metadata": {},
   "outputs": [
    {
     "data": {
      "text/plain": [
       "주문상품명         object\n",
       "주문수            int64\n",
       "환불수            int64\n",
       "매출액            int64\n",
       "환불비율         float64\n",
       "반품수량         float64\n",
       "담긴수          float64\n",
       "노출수          float64\n",
       "담김율          float64\n",
       "평균 : 긍정확률    float64\n",
       "개수 : 긍정확률    float64\n",
       "평균 : 평점      float64\n",
       "dtype: object"
      ]
     },
     "execution_count": 382,
     "metadata": {},
     "output_type": "execute_result"
    }
   ],
   "source": [
    "df.dtypes"
   ]
  },
  {
   "cell_type": "markdown",
   "metadata": {},
   "source": [
    "수치형데이터확인"
   ]
  },
  {
   "cell_type": "code",
   "execution_count": 315,
   "metadata": {},
   "outputs": [],
   "source": [
    "Regre[\"매출액\"] = Regre[\"매출액\"].astype(int)"
   ]
  },
  {
   "cell_type": "code",
   "execution_count": 316,
   "metadata": {},
   "outputs": [],
   "source": [
    "Regre[\"긍정확률\"] = Regre[\"긍정확률\"].astype(float)"
   ]
  },
  {
   "cell_type": "code",
   "execution_count": 317,
   "metadata": {},
   "outputs": [],
   "source": [
    "Regression[\"매출액\"] = [str(x).replace(',','') for x in Regression[\"매출액\"]]"
   ]
  },
  {
   "cell_type": "markdown",
   "metadata": {},
   "source": [
    "* 결측값있는 행 지우기"
   ]
  },
  {
   "cell_type": "code",
   "execution_count": 415,
   "metadata": {},
   "outputs": [],
   "source": [
    "df[\"신뢰도\"] = df[\"평균 : 평점\"] * df[\"담긴수\"] + df[\"평균 : 긍정확률\"]"
   ]
  },
  {
   "cell_type": "code",
   "execution_count": 416,
   "metadata": {},
   "outputs": [],
   "source": [
    "df[\"반품비율\"] = df[\"반품수량\"] / df[\"주문수\"]"
   ]
  },
  {
   "cell_type": "code",
   "execution_count": 417,
   "metadata": {},
   "outputs": [
    {
     "data": {
      "text/html": [
       "<div>\n",
       "<style scoped>\n",
       "    .dataframe tbody tr th:only-of-type {\n",
       "        vertical-align: middle;\n",
       "    }\n",
       "\n",
       "    .dataframe tbody tr th {\n",
       "        vertical-align: top;\n",
       "    }\n",
       "\n",
       "    .dataframe thead th {\n",
       "        text-align: right;\n",
       "    }\n",
       "</style>\n",
       "<table border=\"1\" class=\"dataframe\">\n",
       "  <thead>\n",
       "    <tr style=\"text-align: right;\">\n",
       "      <th></th>\n",
       "      <th>주문상품명</th>\n",
       "      <th>주문수</th>\n",
       "      <th>환불수</th>\n",
       "      <th>매출액</th>\n",
       "      <th>환불비율</th>\n",
       "      <th>반품수량</th>\n",
       "      <th>담긴수</th>\n",
       "      <th>노출수</th>\n",
       "      <th>담김율</th>\n",
       "      <th>평균 : 긍정확률</th>\n",
       "      <th>개수 : 긍정확률</th>\n",
       "      <th>평균 : 평점</th>\n",
       "      <th>신뢰도</th>\n",
       "      <th>반품비율</th>\n",
       "    </tr>\n",
       "  </thead>\n",
       "  <tbody>\n",
       "    <tr>\n",
       "      <th>0</th>\n",
       "      <td>[La belle rose]레이니 찰랑 미니 훌원피스</td>\n",
       "      <td>212</td>\n",
       "      <td>34</td>\n",
       "      <td>5304400</td>\n",
       "      <td>0.160377</td>\n",
       "      <td>3.0</td>\n",
       "      <td>944.0</td>\n",
       "      <td>38664.0</td>\n",
       "      <td>2.44</td>\n",
       "      <td>NaN</td>\n",
       "      <td>NaN</td>\n",
       "      <td>NaN</td>\n",
       "      <td>NaN</td>\n",
       "      <td>0.014151</td>\n",
       "    </tr>\n",
       "    <tr>\n",
       "      <th>1</th>\n",
       "      <td>프리미 여리핏 가디건</td>\n",
       "      <td>148</td>\n",
       "      <td>31</td>\n",
       "      <td>2316600</td>\n",
       "      <td>0.209459</td>\n",
       "      <td>NaN</td>\n",
       "      <td>472.0</td>\n",
       "      <td>12361.0</td>\n",
       "      <td>3.82</td>\n",
       "      <td>0.728099</td>\n",
       "      <td>44.0</td>\n",
       "      <td>4.522727</td>\n",
       "      <td>2135.455372</td>\n",
       "      <td>NaN</td>\n",
       "    </tr>\n",
       "    <tr>\n",
       "      <th>2</th>\n",
       "      <td>[La belle rose]페이어 유넥티</td>\n",
       "      <td>139</td>\n",
       "      <td>20</td>\n",
       "      <td>1404200</td>\n",
       "      <td>0.143885</td>\n",
       "      <td>3.0</td>\n",
       "      <td>825.0</td>\n",
       "      <td>9366.0</td>\n",
       "      <td>8.81</td>\n",
       "      <td>NaN</td>\n",
       "      <td>NaN</td>\n",
       "      <td>NaN</td>\n",
       "      <td>NaN</td>\n",
       "      <td>0.021583</td>\n",
       "    </tr>\n",
       "    <tr>\n",
       "      <th>3</th>\n",
       "      <td>[La belle rose]레이니 찰랑 미니 훌원피스</td>\n",
       "      <td>122</td>\n",
       "      <td>16</td>\n",
       "      <td>3158800</td>\n",
       "      <td>0.131148</td>\n",
       "      <td>3.0</td>\n",
       "      <td>944.0</td>\n",
       "      <td>38664.0</td>\n",
       "      <td>2.44</td>\n",
       "      <td>NaN</td>\n",
       "      <td>NaN</td>\n",
       "      <td>NaN</td>\n",
       "      <td>NaN</td>\n",
       "      <td>0.024590</td>\n",
       "    </tr>\n",
       "    <tr>\n",
       "      <th>4</th>\n",
       "      <td>드민 플라워 쉬폰롱원피스</td>\n",
       "      <td>119</td>\n",
       "      <td>29</td>\n",
       "      <td>4302000</td>\n",
       "      <td>0.243697</td>\n",
       "      <td>3.0</td>\n",
       "      <td>375.0</td>\n",
       "      <td>29077.0</td>\n",
       "      <td>1.29</td>\n",
       "      <td>0.987166</td>\n",
       "      <td>19.0</td>\n",
       "      <td>4.894737</td>\n",
       "      <td>1836.513481</td>\n",
       "      <td>0.025210</td>\n",
       "    </tr>\n",
       "    <tr>\n",
       "      <th>...</th>\n",
       "      <td>...</td>\n",
       "      <td>...</td>\n",
       "      <td>...</td>\n",
       "      <td>...</td>\n",
       "      <td>...</td>\n",
       "      <td>...</td>\n",
       "      <td>...</td>\n",
       "      <td>...</td>\n",
       "      <td>...</td>\n",
       "      <td>...</td>\n",
       "      <td>...</td>\n",
       "      <td>...</td>\n",
       "      <td>...</td>\n",
       "      <td>...</td>\n",
       "    </tr>\n",
       "    <tr>\n",
       "      <th>1982</th>\n",
       "      <td>하로 포켓셔츠</td>\n",
       "      <td>1</td>\n",
       "      <td>2</td>\n",
       "      <td>-22000</td>\n",
       "      <td>2.000000</td>\n",
       "      <td>NaN</td>\n",
       "      <td>NaN</td>\n",
       "      <td>NaN</td>\n",
       "      <td>NaN</td>\n",
       "      <td>0.924413</td>\n",
       "      <td>80.0</td>\n",
       "      <td>4.750000</td>\n",
       "      <td>NaN</td>\n",
       "      <td>NaN</td>\n",
       "    </tr>\n",
       "    <tr>\n",
       "      <th>1983</th>\n",
       "      <td>[La belle rose]베네 펀칭 플레어원피스(+4cm기장추가옵션)</td>\n",
       "      <td>1</td>\n",
       "      <td>2</td>\n",
       "      <td>-59000</td>\n",
       "      <td>2.000000</td>\n",
       "      <td>1.0</td>\n",
       "      <td>NaN</td>\n",
       "      <td>NaN</td>\n",
       "      <td>NaN</td>\n",
       "      <td>NaN</td>\n",
       "      <td>NaN</td>\n",
       "      <td>NaN</td>\n",
       "      <td>NaN</td>\n",
       "      <td>1.000000</td>\n",
       "    </tr>\n",
       "    <tr>\n",
       "      <th>1984</th>\n",
       "      <td>세이린 롱원피스(벨트set)</td>\n",
       "      <td>1</td>\n",
       "      <td>2</td>\n",
       "      <td>-48900</td>\n",
       "      <td>2.000000</td>\n",
       "      <td>NaN</td>\n",
       "      <td>NaN</td>\n",
       "      <td>NaN</td>\n",
       "      <td>NaN</td>\n",
       "      <td>NaN</td>\n",
       "      <td>NaN</td>\n",
       "      <td>NaN</td>\n",
       "      <td>NaN</td>\n",
       "      <td>NaN</td>\n",
       "    </tr>\n",
       "    <tr>\n",
       "      <th>1985</th>\n",
       "      <td>쥬드 코튼 숏팬츠</td>\n",
       "      <td>1</td>\n",
       "      <td>3</td>\n",
       "      <td>-42000</td>\n",
       "      <td>3.000000</td>\n",
       "      <td>NaN</td>\n",
       "      <td>NaN</td>\n",
       "      <td>NaN</td>\n",
       "      <td>NaN</td>\n",
       "      <td>0.840057</td>\n",
       "      <td>17.0</td>\n",
       "      <td>4.764706</td>\n",
       "      <td>NaN</td>\n",
       "      <td>NaN</td>\n",
       "    </tr>\n",
       "    <tr>\n",
       "      <th>1986</th>\n",
       "      <td>커맨드 유넥 하프니트</td>\n",
       "      <td>1</td>\n",
       "      <td>3</td>\n",
       "      <td>-42000</td>\n",
       "      <td>3.000000</td>\n",
       "      <td>NaN</td>\n",
       "      <td>NaN</td>\n",
       "      <td>NaN</td>\n",
       "      <td>NaN</td>\n",
       "      <td>0.747675</td>\n",
       "      <td>27.0</td>\n",
       "      <td>4.444444</td>\n",
       "      <td>NaN</td>\n",
       "      <td>NaN</td>\n",
       "    </tr>\n",
       "  </tbody>\n",
       "</table>\n",
       "<p>1987 rows × 14 columns</p>\n",
       "</div>"
      ],
      "text/plain": [
       "                                        주문상품명  주문수  환불수      매출액      환불비율  \\\n",
       "0               [La belle rose]레이니 찰랑 미니 훌원피스  212   34  5304400  0.160377   \n",
       "1                                 프리미 여리핏 가디건  148   31  2316600  0.209459   \n",
       "2                      [La belle rose]페이어 유넥티  139   20  1404200  0.143885   \n",
       "3               [La belle rose]레이니 찰랑 미니 훌원피스  122   16  3158800  0.131148   \n",
       "4                               드민 플라워 쉬폰롱원피스  119   29  4302000  0.243697   \n",
       "...                                       ...  ...  ...      ...       ...   \n",
       "1982                                  하로 포켓셔츠    1    2   -22000  2.000000   \n",
       "1983  [La belle rose]베네 펀칭 플레어원피스(+4cm기장추가옵션)    1    2   -59000  2.000000   \n",
       "1984                          세이린 롱원피스(벨트set)    1    2   -48900  2.000000   \n",
       "1985                                쥬드 코튼 숏팬츠    1    3   -42000  3.000000   \n",
       "1986                              커맨드 유넥 하프니트    1    3   -42000  3.000000   \n",
       "\n",
       "      반품수량    담긴수      노출수   담김율  평균 : 긍정확률  개수 : 긍정확률   평균 : 평점          신뢰도  \\\n",
       "0      3.0  944.0  38664.0  2.44        NaN        NaN       NaN          NaN   \n",
       "1      NaN  472.0  12361.0  3.82   0.728099       44.0  4.522727  2135.455372   \n",
       "2      3.0  825.0   9366.0  8.81        NaN        NaN       NaN          NaN   \n",
       "3      3.0  944.0  38664.0  2.44        NaN        NaN       NaN          NaN   \n",
       "4      3.0  375.0  29077.0  1.29   0.987166       19.0  4.894737  1836.513481   \n",
       "...    ...    ...      ...   ...        ...        ...       ...          ...   \n",
       "1982   NaN    NaN      NaN   NaN   0.924413       80.0  4.750000          NaN   \n",
       "1983   1.0    NaN      NaN   NaN        NaN        NaN       NaN          NaN   \n",
       "1984   NaN    NaN      NaN   NaN        NaN        NaN       NaN          NaN   \n",
       "1985   NaN    NaN      NaN   NaN   0.840057       17.0  4.764706          NaN   \n",
       "1986   NaN    NaN      NaN   NaN   0.747675       27.0  4.444444          NaN   \n",
       "\n",
       "          반품비율  \n",
       "0     0.014151  \n",
       "1          NaN  \n",
       "2     0.021583  \n",
       "3     0.024590  \n",
       "4     0.025210  \n",
       "...        ...  \n",
       "1982       NaN  \n",
       "1983  1.000000  \n",
       "1984       NaN  \n",
       "1985       NaN  \n",
       "1986       NaN  \n",
       "\n",
       "[1987 rows x 14 columns]"
      ]
     },
     "execution_count": 417,
     "metadata": {},
     "output_type": "execute_result"
    }
   ],
   "source": [
    "df"
   ]
  },
  {
   "cell_type": "markdown",
   "metadata": {},
   "source": [
    "이상치 지우기 위해 환불비율이 0, 2인 행 지우기"
   ]
  },
  {
   "cell_type": "code",
   "execution_count": 319,
   "metadata": {},
   "outputs": [],
   "source": [
    "Regre = Regre.drop(Regre[Regre[\"환불수량\"] == 0].index)"
   ]
  },
  {
   "cell_type": "code",
   "execution_count": 320,
   "metadata": {},
   "outputs": [],
   "source": [
    "Regre = Regre.drop(Regre[Regre[\"환불수량\"] == 2].index)"
   ]
  },
  {
   "cell_type": "code",
   "execution_count": 321,
   "metadata": {
    "scrolled": true
   },
   "outputs": [
    {
     "data": {
      "text/plain": [
       "상품명        object\n",
       "매출액        object\n",
       "구매의사        int64\n",
       "긍정확률      float64\n",
       "환불수량      float64\n",
       "욕망지표      float64\n",
       "주문수         int64\n",
       "긍정확률합     float64\n",
       "평균긍정확률    float64\n",
       "평균평점      float64\n",
       "신뢰도점수     float64\n",
       "dtype: object"
      ]
     },
     "execution_count": 321,
     "metadata": {},
     "output_type": "execute_result"
    }
   ],
   "source": [
    "Regre.dtypes"
   ]
  },
  {
   "cell_type": "code",
   "execution_count": 419,
   "metadata": {},
   "outputs": [
    {
     "data": {
      "text/plain": [
       "<AxesSubplot:xlabel='매출액', ylabel='신뢰도'>"
      ]
     },
     "execution_count": 419,
     "metadata": {},
     "output_type": "execute_result"
    },
    {
     "data": {
      "image/png": "[encoded data removed]",
      "text/plain": [
       "<Figure size 432x288 with 1 Axes>"
      ]
     },
     "metadata": {
      "needs_background": "light"
     },
     "output_type": "display_data"
    }
   ],
   "source": [
    "sns.regplot(df['매출액'],df['신뢰도'], lowess=True)"
   ]
  },
  {
   "cell_type": "code",
   "execution_count": 422,
   "metadata": {},
   "outputs": [
    {
     "data": {
      "text/plain": [
       "<AxesSubplot:xlabel='매출액', ylabel='환불비율'>"
      ]
     },
     "execution_count": 422,
     "metadata": {},
     "output_type": "execute_result"
    },
    {
     "data": {
      "image/png": "[encoded data removed]",
      "text/plain": [
       "<Figure size 432x288 with 1 Axes>"
      ]
     },
     "metadata": {
      "needs_background": "light"
     },
     "output_type": "display_data"
    }
   ],
   "source": [
    "sns.regplot(df['매출액'][30:],df['환불비율'][30:], lowess=True)"
   ]
  },
  {
   "cell_type": "code",
   "execution_count": 424,
   "metadata": {
    "scrolled": true
   },
   "outputs": [
    {
     "data": {
      "text/plain": [
       "<AxesSubplot:xlabel='매출액', ylabel='반품비율'>"
      ]
     },
     "execution_count": 424,
     "metadata": {},
     "output_type": "execute_result"
    },
    {
     "data": {
      "image/png": "[encoded data removed]",
      "text/plain": [
       "<Figure size 432x288 with 1 Axes>"
      ]
     },
     "metadata": {
      "needs_background": "light"
     },
     "output_type": "display_data"
    }
   ],
   "source": [
    "sns.regplot('매출액', '반품비율', lowess=True, data = df[30:])"
   ]
  },
  {
   "cell_type": "code",
   "execution_count": null,
   "metadata": {},
   "outputs": [],
   "source": []
  },
  {
   "cell_type": "markdown",
   "metadata": {},
   "source": [
    "* 선형성 확인후 회귀분석 시작"
   ]
  },
  {
   "cell_type": "code",
   "execution_count": 438,
   "metadata": {},
   "outputs": [],
   "source": [
    "df2 = df[[\"매출액\",\"신뢰도\",\"환불비율\"]].dropna(axis=0) "
   ]
  },
  {
   "cell_type": "code",
   "execution_count": 439,
   "metadata": {},
   "outputs": [],
   "source": [
    "x_data = df2[[\"신뢰도\",\"환불비율\"]] #X1 X2\n",
    "target = df2[[\"매출액\"]]# Y1"
   ]
  },
  {
   "cell_type": "code",
   "execution_count": 440,
   "metadata": {},
   "outputs": [],
   "source": [
    "x_data1 = sm.add_constant(x_data, has_constant = \"add\")"
   ]
  },
  {
   "cell_type": "code",
   "execution_count": 441,
   "metadata": {},
   "outputs": [
    {
     "data": {
      "text/html": [
       "<table class=\"simpletable\">\n",
       "<caption>OLS Regression Results</caption>\n",
       "<tr>\n",
       "  <th>Dep. Variable:</th>           <td>매출액</td>       <th>  R-squared:         </th> <td>   0.119</td>\n",
       "</tr>\n",
       "<tr>\n",
       "  <th>Model:</th>                   <td>OLS</td>       <th>  Adj. R-squared:    </th> <td>   0.021</td>\n",
       "</tr>\n",
       "<tr>\n",
       "  <th>Method:</th>             <td>Least Squares</td>  <th>  F-statistic:       </th> <td>   1.214</td>\n",
       "</tr>\n",
       "<tr>\n",
       "  <th>Date:</th>             <td>Thu, 19 Aug 2021</td> <th>  Prob (F-statistic):</th>  <td> 0.320</td> \n",
       "</tr>\n",
       "<tr>\n",
       "  <th>Time:</th>                 <td>10:33:51</td>     <th>  Log-Likelihood:    </th> <td> -318.96</td>\n",
       "</tr>\n",
       "<tr>\n",
       "  <th>No. Observations:</th>      <td>    21</td>      <th>  AIC:               </th> <td>   643.9</td>\n",
       "</tr>\n",
       "<tr>\n",
       "  <th>Df Residuals:</th>          <td>    18</td>      <th>  BIC:               </th> <td>   647.1</td>\n",
       "</tr>\n",
       "<tr>\n",
       "  <th>Df Model:</th>              <td>     2</td>      <th>                     </th>     <td> </td>   \n",
       "</tr>\n",
       "<tr>\n",
       "  <th>Covariance Type:</th>      <td>nonrobust</td>    <th>                     </th>     <td> </td>   \n",
       "</tr>\n",
       "</table>\n",
       "<table class=\"simpletable\">\n",
       "<tr>\n",
       "    <td></td>       <th>coef</th>     <th>std err</th>      <th>t</th>      <th>P>|t|</th>  <th>[0.025</th>    <th>0.975]</th>  \n",
       "</tr>\n",
       "<tr>\n",
       "  <th>const</th> <td> 2.345e+05</td> <td> 1.34e+06</td> <td>    0.175</td> <td> 0.863</td> <td>-2.58e+06</td> <td> 3.05e+06</td>\n",
       "</tr>\n",
       "<tr>\n",
       "  <th>신뢰도</th>   <td>   50.0317</td> <td>  784.781</td> <td>    0.064</td> <td> 0.950</td> <td>-1598.732</td> <td> 1698.795</td>\n",
       "</tr>\n",
       "<tr>\n",
       "  <th>환불비율</th>  <td> 2.923e+06</td> <td>  1.9e+06</td> <td>    1.540</td> <td> 0.141</td> <td>-1.06e+06</td> <td> 6.91e+06</td>\n",
       "</tr>\n",
       "</table>\n",
       "<table class=\"simpletable\">\n",
       "<tr>\n",
       "  <th>Omnibus:</th>       <td>20.030</td> <th>  Durbin-Watson:     </th> <td>   0.793</td>\n",
       "</tr>\n",
       "<tr>\n",
       "  <th>Prob(Omnibus):</th> <td> 0.000</td> <th>  Jarque-Bera (JB):  </th> <td>  25.846</td>\n",
       "</tr>\n",
       "<tr>\n",
       "  <th>Skew:</th>          <td> 1.783</td> <th>  Prob(JB):          </th> <td>2.44e-06</td>\n",
       "</tr>\n",
       "<tr>\n",
       "  <th>Kurtosis:</th>      <td> 7.102</td> <th>  Cond. No.          </th> <td>1.45e+04</td>\n",
       "</tr>\n",
       "</table><br/><br/>Notes:<br/>[1] Standard Errors assume that the covariance matrix of the errors is correctly specified.<br/>[2] The condition number is large, 1.45e+04. This might indicate that there are<br/>strong multicollinearity or other numerical problems."
      ],
      "text/plain": [
       "<class 'statsmodels.iolib.summary.Summary'>\n",
       "\"\"\"\n",
       "                            OLS Regression Results                            \n",
       "==============================================================================\n",
       "Dep. Variable:                    매출액   R-squared:                       0.119\n",
       "Model:                            OLS   Adj. R-squared:                  0.021\n",
       "Method:                 Least Squares   F-statistic:                     1.214\n",
       "Date:                Thu, 19 Aug 2021   Prob (F-statistic):              0.320\n",
       "Time:                        10:33:51   Log-Likelihood:                -318.96\n",
       "No. Observations:                  21   AIC:                             643.9\n",
       "Df Residuals:                      18   BIC:                             647.1\n",
       "Df Model:                           2                                         \n",
       "Covariance Type:            nonrobust                                         \n",
       "==============================================================================\n",
       "                 coef    std err          t      P>|t|      [0.025      0.975]\n",
       "------------------------------------------------------------------------------\n",
       "const       2.345e+05   1.34e+06      0.175      0.863   -2.58e+06    3.05e+06\n",
       "신뢰도           50.0317    784.781      0.064      0.950   -1598.732    1698.795\n",
       "환불비율        2.923e+06    1.9e+06      1.540      0.141   -1.06e+06    6.91e+06\n",
       "==============================================================================\n",
       "Omnibus:                       20.030   Durbin-Watson:                   0.793\n",
       "Prob(Omnibus):                  0.000   Jarque-Bera (JB):               25.846\n",
       "Skew:                           1.783   Prob(JB):                     2.44e-06\n",
       "Kurtosis:                       7.102   Cond. No.                     1.45e+04\n",
       "==============================================================================\n",
       "\n",
       "Notes:\n",
       "[1] Standard Errors assume that the covariance matrix of the errors is correctly specified.\n",
       "[2] The condition number is large, 1.45e+04. This might indicate that there are\n",
       "strong multicollinearity or other numerical problems.\n",
       "\"\"\""
      ]
     },
     "execution_count": 441,
     "metadata": {},
     "output_type": "execute_result"
    }
   ],
   "source": [
    "multi_model = sm.OLS(target, x_data1)\n",
    "fitted_multi_model = multi_model.fit()\n",
    "fitted_multi_model.summary()"
   ]
  },
  {
   "cell_type": "markdown",
   "metadata": {},
   "source": [
    "* 각 변수의 계수 확인"
   ]
  },
  {
   "cell_type": "code",
   "execution_count": 246,
   "metadata": {},
   "outputs": [
    {
     "data": {
      "text/plain": [
       "const     6373.509412\n",
       "구매의사     22370.531017\n",
       "긍정확률      8657.789026\n",
       "환불수량    -13571.114631\n",
       "욕망지표     -1830.842730\n",
       "dtype: float64"
      ]
     },
     "execution_count": 246,
     "metadata": {},
     "output_type": "execute_result"
    }
   ],
   "source": [
    "fitted_multi_model.params"
   ]
  },
  {
   "cell_type": "markdown",
   "metadata": {},
   "source": [
    "* 각 변수들끼리 상관성 확인"
   ]
  },
  {
   "cell_type": "code",
   "execution_count": 167,
   "metadata": {},
   "outputs": [
    {
     "data": {
      "text/html": [
       "<div>\n",
       "<style scoped>\n",
       "    .dataframe tbody tr th:only-of-type {\n",
       "        vertical-align: middle;\n",
       "    }\n",
       "\n",
       "    .dataframe tbody tr th {\n",
       "        vertical-align: top;\n",
       "    }\n",
       "\n",
       "    .dataframe thead th {\n",
       "        text-align: right;\n",
       "    }\n",
       "</style>\n",
       "<table border=\"1\" class=\"dataframe\">\n",
       "  <thead>\n",
       "    <tr style=\"text-align: right;\">\n",
       "      <th></th>\n",
       "      <th>구매의사</th>\n",
       "      <th>긍정확률</th>\n",
       "      <th>환불수량</th>\n",
       "    </tr>\n",
       "  </thead>\n",
       "  <tbody>\n",
       "    <tr>\n",
       "      <th>구매의사</th>\n",
       "      <td>1.000000</td>\n",
       "      <td>0.028570</td>\n",
       "      <td>-0.031673</td>\n",
       "    </tr>\n",
       "    <tr>\n",
       "      <th>긍정확률</th>\n",
       "      <td>0.028570</td>\n",
       "      <td>1.000000</td>\n",
       "      <td>0.049035</td>\n",
       "    </tr>\n",
       "    <tr>\n",
       "      <th>환불수량</th>\n",
       "      <td>-0.031673</td>\n",
       "      <td>0.049035</td>\n",
       "      <td>1.000000</td>\n",
       "    </tr>\n",
       "  </tbody>\n",
       "</table>\n",
       "</div>"
      ],
      "text/plain": [
       "          구매의사      긍정확률      환불수량\n",
       "구매의사  1.000000  0.028570 -0.031673\n",
       "긍정확률  0.028570  1.000000  0.049035\n",
       "환불수량 -0.031673  0.049035  1.000000"
      ]
     },
     "execution_count": 167,
     "metadata": {},
     "output_type": "execute_result"
    }
   ],
   "source": [
    "x_data2.corr()"
   ]
  }
 ],
 "metadata": {
  "kernelspec": {
   "display_name": "Python 3",
   "language": "python",
   "name": "python3"
  },
  "language_info": {
   "codemirror_mode": {
    "name": "ipython",
    "version": 3
   },
   "file_extension": ".py",
   "mimetype": "text/x-python",
   "name": "python",
   "nbconvert_exporter": "python",
   "pygments_lexer": "ipython3",
   "version": "3.8.5"
  }
 },
 "nbformat": 4,
 "nbformat_minor": 5
}
