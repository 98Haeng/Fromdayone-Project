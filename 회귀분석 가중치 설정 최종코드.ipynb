{
 "cells": [
  {
   "cell_type": "code",
   "execution_count": 46,
   "metadata": {},
   "outputs": [],
   "source": [
    "# 라이브러리 실행\n",
    "import pandas as pd\n",
    "import numpy as np\n",
    "import statsmodels.api as sm #statsmodels 임포트\n",
    "import statsmodels.formula.api as smf\n",
    "import warnings\n",
    "warnings.filterwarnings(action='ignore')\n",
    "import seaborn as sns"
   ]
  },
  {
   "cell_type": "code",
   "execution_count": 50,
   "metadata": {},
   "outputs": [],
   "source": [
    "# 데이터 불러오기\n",
    "환불매출 = pd.read_csv(\"C:/Users/alsrn/Downloads/20210819_105159_ProductPrdchart.csv\")\n",
    "장바구니 = pd.read_csv(\"C:/Users/alsrn/파이썬/지수산식3번째 도전/통계서비스_장바구니분석_담긴상품_20210819 (2).csv\")\n",
    "긍평 = pd.read_csv(\"C:/Users/alsrn/파이썬/지수산식3번째 도전/긍평.csv\")"
   ]
  },
  {
   "cell_type": "code",
   "execution_count": 51,
   "metadata": {},
   "outputs": [],
   "source": [
    "# 데이터 합치기\n",
    "df = pd.merge(환불매출, 장바구니, how = \"left\", on = \"주문상품명\")\n",
    "df2 = pd.merge(df, 긍평, how = \"left\", on = \"주문상품명\")"
   ]
  },
  {
   "cell_type": "code",
   "execution_count": 59,
   "metadata": {},
   "outputs": [
    {
     "data": {
      "text/plain": [
       "주문상품명      object\n",
       "주문수         int64\n",
       "환불수         int64\n",
       "환불비율      float64\n",
       "매출액         int64\n",
       "장바구니수     float64\n",
       "조회수       float64\n",
       "장바구니비율    float64\n",
       "장비        float64\n",
       "긍정평균      float64\n",
       "리뷰수       float64\n",
       "평균평점      float64\n",
       "긍정합계      float64\n",
       "dtype: object"
      ]
     },
     "execution_count": 59,
     "metadata": {},
     "output_type": "execute_result"
    }
   ],
   "source": [
    "df2.dtypes"
   ]
  },
  {
   "cell_type": "code",
   "execution_count": 208,
   "metadata": {},
   "outputs": [],
   "source": [
    "# 전처리를 통해 새로운 칼럼 만들어냄\n",
    "df2[\"평점긍정리뷰\"] = df2[\"주문수\"]  * df2[\"긍정평균\"]\n",
    "df2[\"평평평\"] = df2[\"평균평점\"] * df2[\"긍정평균\"]\n",
    "df2[\"신뢰도\"] =  df2[\"장바구니수\"] + df2[\"긍정평균\"]\n",
    "df2[\"안이탈율\"] = df2[\"주문수\"] * df2[\"장바구니수\"]"
   ]
  },
  {
   "cell_type": "code",
   "execution_count": 207,
   "metadata": {},
   "outputs": [
    {
     "data": {
      "text/plain": [
       "<AxesSubplot:xlabel='매출액', ylabel='신뢰도'>"
      ]
     },
     "execution_count": 207,
     "metadata": {},
     "output_type": "execute_result"
    },
    {
     "data": {
      "image/png": "[encoded data removed]",
      "text/plain": [
       "<Figure size 432x288 with 1 Axes>"
      ]
     },
     "metadata": {
      "needs_background": "light"
     },
     "output_type": "display_data"
    }
   ],
   "source": [
    "# 매출액, 신뢰도 간 선형회귀\n",
    "sns.regplot(df2['매출액'],df2[\"신뢰도\"], lowess=True) #X:매출액, Y:신뢰도"
   ]
  },
  {
   "cell_type": "code",
   "execution_count": 182,
   "metadata": {},
   "outputs": [],
   "source": [
    "# df2에서 환불비율이 0인 데이터 제거\n",
    "df2 = df2.drop(df2[df2[\"환불비율\"] == 0].index)"
   ]
  },
  {
   "cell_type": "code",
   "execution_count": 189,
   "metadata": {},
   "outputs": [
    {
     "data": {
      "text/plain": [
       "<AxesSubplot:xlabel='매출액', ylabel='환불비율'>"
      ]
     },
     "execution_count": 189,
     "metadata": {},
     "output_type": "execute_result"
    },
    {
     "data": {
      "image/png": "[encoded data removed]",
      "text/plain": [
       "<Figure size 432x288 with 1 Axes>"
      ]
     },
     "metadata": {
      "needs_background": "light"
     },
     "output_type": "display_data"
    }
   ],
   "source": [
    "# 이상치를 제거하고 나서의 선형회귀분석\n",
    "sns.regplot(df2['매출액'][50:],df2['환불비율'][50:], lowess=True)"
   ]
  },
  {
   "cell_type": "code",
   "execution_count": 115,
   "metadata": {},
   "outputs": [
    {
     "data": {
      "text/plain": [
       "(3247, 9)"
      ]
     },
     "execution_count": 115,
     "metadata": {},
     "output_type": "execute_result"
    }
   ],
   "source": [
    "df.shape"
   ]
  },
  {
   "cell_type": "code",
   "execution_count": 116,
   "metadata": {},
   "outputs": [],
   "source": [
    "#df2d=에서 na값 제거\n",
    "df2 = df2.dropna(axis=0)"
   ]
  },
  {
   "cell_type": "code",
   "execution_count": 213,
   "metadata": {},
   "outputs": [],
   "source": [
    "x_data = df2[[\"안이탈율\",\"환불비율\",\"신뢰도\"]] #X1 X2\n",
    "target = df2[[\"매출액\"]]# Y1"
   ]
  },
  {
   "cell_type": "code",
   "execution_count": 214,
   "metadata": {},
   "outputs": [],
   "source": [
    "x_data1 = sm.add_constant(x_data, has_constant = \"add\")"
   ]
  },
  {
   "cell_type": "code",
   "execution_count": 215,
   "metadata": {},
   "outputs": [
    {
     "data": {
      "text/html": [
       "<table class=\"simpletable\">\n",
       "<caption>OLS Regression Results</caption>\n",
       "<tr>\n",
       "  <th>Dep. Variable:</th>           <td>매출액</td>       <th>  R-squared:         </th> <td>   0.680</td> \n",
       "</tr>\n",
       "<tr>\n",
       "  <th>Model:</th>                   <td>OLS</td>       <th>  Adj. R-squared:    </th> <td>   0.679</td> \n",
       "</tr>\n",
       "<tr>\n",
       "  <th>Method:</th>             <td>Least Squares</td>  <th>  F-statistic:       </th> <td>   689.8</td> \n",
       "</tr>\n",
       "<tr>\n",
       "  <th>Date:</th>             <td>Thu, 19 Aug 2021</td> <th>  Prob (F-statistic):</th> <td>3.50e-240</td>\n",
       "</tr>\n",
       "<tr>\n",
       "  <th>Time:</th>                 <td>15:58:47</td>     <th>  Log-Likelihood:    </th> <td> -13901.</td> \n",
       "</tr>\n",
       "<tr>\n",
       "  <th>No. Observations:</th>      <td>   976</td>      <th>  AIC:               </th> <td>2.781e+04</td>\n",
       "</tr>\n",
       "<tr>\n",
       "  <th>Df Residuals:</th>          <td>   972</td>      <th>  BIC:               </th> <td>2.783e+04</td>\n",
       "</tr>\n",
       "<tr>\n",
       "  <th>Df Model:</th>              <td>     3</td>      <th>                     </th>     <td> </td>    \n",
       "</tr>\n",
       "<tr>\n",
       "  <th>Covariance Type:</th>      <td>nonrobust</td>    <th>                     </th>     <td> </td>    \n",
       "</tr>\n",
       "</table>\n",
       "<table class=\"simpletable\">\n",
       "<tr>\n",
       "    <td></td>       <th>coef</th>     <th>std err</th>      <th>t</th>      <th>P>|t|</th>  <th>[0.025</th>    <th>0.975]</th>  \n",
       "</tr>\n",
       "<tr>\n",
       "  <th>const</th> <td> 2.542e+05</td> <td> 2.28e+04</td> <td>   11.125</td> <td> 0.000</td> <td> 2.09e+05</td> <td> 2.99e+05</td>\n",
       "</tr>\n",
       "<tr>\n",
       "  <th>안이탈율</th>  <td>    8.1622</td> <td>    0.399</td> <td>   20.433</td> <td> 0.000</td> <td>    7.378</td> <td>    8.946</td>\n",
       "</tr>\n",
       "<tr>\n",
       "  <th>환불비율</th>  <td>-2.492e+05</td> <td> 3.17e+04</td> <td>   -7.859</td> <td> 0.000</td> <td>-3.11e+05</td> <td>-1.87e+05</td>\n",
       "</tr>\n",
       "<tr>\n",
       "  <th>신뢰도</th>   <td>  242.7789</td> <td>   62.082</td> <td>    3.911</td> <td> 0.000</td> <td>  120.948</td> <td>  364.610</td>\n",
       "</tr>\n",
       "</table>\n",
       "<table class=\"simpletable\">\n",
       "<tr>\n",
       "  <th>Omnibus:</th>       <td>995.921</td> <th>  Durbin-Watson:     </th>  <td>   1.212</td> \n",
       "</tr>\n",
       "<tr>\n",
       "  <th>Prob(Omnibus):</th> <td> 0.000</td>  <th>  Jarque-Bera (JB):  </th> <td>164864.357</td>\n",
       "</tr>\n",
       "<tr>\n",
       "  <th>Skew:</th>          <td> 4.327</td>  <th>  Prob(JB):          </th>  <td>    0.00</td> \n",
       "</tr>\n",
       "<tr>\n",
       "  <th>Kurtosis:</th>      <td>66.080</td>  <th>  Cond. No.          </th>  <td>1.72e+05</td> \n",
       "</tr>\n",
       "</table><br/><br/>Notes:<br/>[1] Standard Errors assume that the covariance matrix of the errors is correctly specified.<br/>[2] The condition number is large, 1.72e+05. This might indicate that there are<br/>strong multicollinearity or other numerical problems."
      ],
      "text/plain": [
       "<class 'statsmodels.iolib.summary.Summary'>\n",
       "\"\"\"\n",
       "                            OLS Regression Results                            \n",
       "==============================================================================\n",
       "Dep. Variable:                    매출액   R-squared:                       0.680\n",
       "Model:                            OLS   Adj. R-squared:                  0.679\n",
       "Method:                 Least Squares   F-statistic:                     689.8\n",
       "Date:                Thu, 19 Aug 2021   Prob (F-statistic):          3.50e-240\n",
       "Time:                        15:58:47   Log-Likelihood:                -13901.\n",
       "No. Observations:                 976   AIC:                         2.781e+04\n",
       "Df Residuals:                     972   BIC:                         2.783e+04\n",
       "Df Model:                           3                                         \n",
       "Covariance Type:            nonrobust                                         \n",
       "==============================================================================\n",
       "                 coef    std err          t      P>|t|      [0.025      0.975]\n",
       "------------------------------------------------------------------------------\n",
       "const       2.542e+05   2.28e+04     11.125      0.000    2.09e+05    2.99e+05\n",
       "안이탈율           8.1622      0.399     20.433      0.000       7.378       8.946\n",
       "환불비율       -2.492e+05   3.17e+04     -7.859      0.000   -3.11e+05   -1.87e+05\n",
       "신뢰도          242.7789     62.082      3.911      0.000     120.948     364.610\n",
       "==============================================================================\n",
       "Omnibus:                      995.921   Durbin-Watson:                   1.212\n",
       "Prob(Omnibus):                  0.000   Jarque-Bera (JB):           164864.357\n",
       "Skew:                           4.327   Prob(JB):                         0.00\n",
       "Kurtosis:                      66.080   Cond. No.                     1.72e+05\n",
       "==============================================================================\n",
       "\n",
       "Notes:\n",
       "[1] Standard Errors assume that the covariance matrix of the errors is correctly specified.\n",
       "[2] The condition number is large, 1.72e+05. This might indicate that there are\n",
       "strong multicollinearity or other numerical problems.\n",
       "\"\"\""
      ]
     },
     "execution_count": 215,
     "metadata": {},
     "output_type": "execute_result"
    }
   ],
   "source": [
    "multi_model = sm.OLS(target, x_data1) # x=x_data1,y=target\n",
    "fitted_multi_model = multi_model.fit()\n",
    "fitted_multi_model.summary()"
   ]
  },
  {
   "cell_type": "markdown",
   "metadata": {},
   "source": [
    "- no.observation : 데이터 개수\n",
    "- df.model : 사용한 예측 변수의 개수 \n",
    "- df residuals : 데이터개수에서 자유도 개수 뺀 값 (No.observations - (Df Model + 1)\n",
    "\n",
    "- R-squared, adj.R-squared, AIC, BIC 등이 있다. 여러 모형 중에 적합도 지수가 좋은 모형을 선택\n",
    "- R-squred : 데이터의 성능을 나타냄(1에 가까울수록, 성능이 좋음)\n",
    "- coef : 회귀계수\n",
    "- std err : 표준 오차\n",
    "- t : t-test\n",
    "- Prob(F-statistics) : 모형에 대한 p-value 로 통상 0.05이하인 경우 통계적으로 유의하다고 판단합니다.\n",
    "- P>[t] : 각 독립변수의 계수에 대한 p-value로 해당 독립변수가 유의미한지 판단합니다.\n",
    "\n"
   ]
  },
  {
   "cell_type": "code",
   "execution_count": 216,
   "metadata": {},
   "outputs": [
    {
     "data": {
      "text/plain": [
       "const    254192.747384\n",
       "안이탈율          8.162219\n",
       "환불비율    -249228.100810\n",
       "신뢰도         242.778931\n",
       "dtype: float64"
      ]
     },
     "execution_count": 216,
     "metadata": {},
     "output_type": "execute_result"
    }
   ],
   "source": [
    "fitted_multi_model.params # 파라미터 값 추출"
   ]
  },
  {
   "cell_type": "code",
   "execution_count": null,
   "metadata": {},
   "outputs": [],
   "source": [
    "# 최종 계수 반영\n",
    "구매전환점수 : 0.001 (1) -> 0.001\n",
    "환불비율 : -30 (30000) -> -0.3\n",
    "구매의사점수 : 0.03 (30) -> 0.03"
   ]
  }
 ],
 "metadata": {
  "kernelspec": {
   "display_name": "Python 3",
   "language": "python",
   "name": "python3"
  },
  "language_info": {
   "codemirror_mode": {
    "name": "ipython",
    "version": 3
   },
   "file_extension": ".py",
   "mimetype": "text/x-python",
   "name": "python",
   "nbconvert_exporter": "python",
   "pygments_lexer": "ipython3",
   "version": "3.8.5"
  }
 },
 "nbformat": 4,
 "nbformat_minor": 5
}
