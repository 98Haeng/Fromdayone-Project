{
 "cells": [
  {
   "cell_type": "code",
   "execution_count": 1,
   "id": "brutal-experiment",
   "metadata": {},
   "outputs": [],
   "source": [
    "import pandas as pd\n",
    "import numpy as np\n",
    "import warnings\n",
    "warnings.filterwarnings(action='ignore')"
   ]
  },
  {
   "cell_type": "markdown",
   "id": "billion-director",
   "metadata": {},
   "source": [
    "* ITEM data 1차 클렌징 \n",
    "============================="
   ]
  },
  {
   "cell_type": "code",
   "execution_count": 3,
   "id": "tough-witness",
   "metadata": {},
   "outputs": [],
   "source": [
    "ITEM = pd.read_excel('ITEMData_clean.xlsx')"
   ]
  },
  {
   "cell_type": "markdown",
   "id": "alien-suite",
   "metadata": {},
   "source": [
    "* 상품명 전처리"
   ]
  },
  {
   "cell_type": "code",
   "execution_count": 4,
   "id": "speaking-immunology",
   "metadata": {},
   "outputs": [],
   "source": [
    "i = 0\n",
    "A = []\n",
    "for i in range(6202):\n",
    "    A.append(ITEM[\"상품명\"][i].replace(\"[DAYONE LABEL]\",\"\").replace(\"[1+1]\",\"\").replace(\"[1+1♥]\",\"\").replace(\"[La belle rose]\",\"\")\n",
    "            .replace(\"기획특가♥\",\"\").replace(\"[기획특가]\",\"\").replace(\"[램스울30%]\",\"\").replace(\"[램스울50%]\",\"\")\n",
    "            .replace(\"[램스울70%]\",\"\").replace(\"[silver92.5]\",\"\").replace(\"[울30%]\",\"\").replace(\"[울35%]\",\"\").replace(\"[울40%]\",\"\")\n",
    "            .replace(\"[울45%]\",\"\").replace(\"[울50%]\",\"\").replace(\"[울55%]\",\"\").replace(\"[울60%]\",\"\").replace(\"[울70%]\",\"\")\n",
    "            .replace(\"[울80%]\",\"\").replace(\"[울85%]\",\"\").replace(\"[울90%]\",\"\").replace(\"[울100%]\",\"\").replace(\"[캐시60%]\",\"\")\n",
    "            .replace(\"단독)\",\"\").replace(\"[DAYOME LABEL]\",\"\").replace(\"[2만장돌파]\",\"\").replace(\"[La belle rose/1+1♥]\",\"\"))\n",
    "    ITEM[\"상품명\"][i] = A[i]\n",
    "    i = i + 1"
   ]
  },
  {
   "cell_type": "markdown",
   "id": "integral-repeat",
   "metadata": {},
   "source": [
    "*옵션입력 전처리 "
   ]
  },
  {
   "cell_type": "code",
   "execution_count": 5,
   "id": "announced-marker",
   "metadata": {},
   "outputs": [],
   "source": [
    "ITEM[\"옵션입력\"] = [str(x).replace('color','').replace('{','').replace('}','').replace('|',\",\") for x in ITEM[\"옵션입력\"]]"
   ]
  },
  {
   "cell_type": "code",
   "execution_count": 6,
   "id": "revolutionary-diagram",
   "metadata": {},
   "outputs": [],
   "source": [
    "ITEM[\"옵션입력\"] = [x.split('//')[0] for x in ITEM[\"옵션입력\"]]"
   ]
  },
  {
   "cell_type": "code",
   "execution_count": 7,
   "id": "scientific-alert",
   "metadata": {},
   "outputs": [
    {
     "data": {
      "text/plain": [
       "0                                     아이보리,블랙\n",
       "1                                 아이보리,코코아,블랙\n",
       "2                           아이보리,베이지,민트,핑크,블루\n",
       "3       아이보리,크림,진베이지,모카브라운,핑크,라벤더,스카이블루,차콜,블랙\n",
       "4                                      베이지,블랙\n",
       "                        ...                  \n",
       "6198                                베이지,핑크,블랙\n",
       "6199                                화이트,크림,블랙\n",
       "6200                               아이보리,핑크,블랙\n",
       "6201                                       실버\n",
       "6202                                크림,그레이,블랙\n",
       "Name: 옵션입력, Length: 6203, dtype: object"
      ]
     },
     "execution_count": 7,
     "metadata": {},
     "output_type": "execute_result"
    }
   ],
   "source": [
    "ITEM[\"옵션입력\"]"
   ]
  },
  {
   "cell_type": "markdown",
   "id": "palestinian-drain",
   "metadata": {},
   "source": [
    "* 엑셀로 저장 "
   ]
  },
  {
   "cell_type": "code",
   "execution_count": 8,
   "id": "juvenile-departure",
   "metadata": {},
   "outputs": [],
   "source": [
    "ITEM.to_excel('ITEMData_clean.xlsx')"
   ]
  },
  {
   "cell_type": "markdown",
   "id": "falling-scotland",
   "metadata": {},
   "source": [
    "* ITEM data 2차 클렌징\n",
    "========================="
   ]
  },
  {
   "cell_type": "code",
   "execution_count": 11,
   "id": "adult-private",
   "metadata": {},
   "outputs": [],
   "source": [
    "two_ITEM = pd.read_excel(\"ITEMData_clean.xlsx\")"
   ]
  },
  {
   "cell_type": "code",
   "execution_count": 12,
   "id": "average-highland",
   "metadata": {},
   "outputs": [],
   "source": [
    "two_ITEM[\"상품명\"] = [x.split('(')[0] for x in two_ITEM[\"상품명\"]]"
   ]
  },
  {
   "cell_type": "code",
   "execution_count": 13,
   "id": "instructional-spanking",
   "metadata": {},
   "outputs": [],
   "source": [
    "two_ITEM[\"상품명\"] = [x.split('/')[0] for x in two_ITEM[\"상품명\"]]"
   ]
  },
  {
   "cell_type": "markdown",
   "id": "primary-rehabilitation",
   "metadata": {},
   "source": [
    "* 최종 전처리 엑셀로 저장 "
   ]
  },
  {
   "cell_type": "code",
   "execution_count": 14,
   "id": "interracial-captain",
   "metadata": {},
   "outputs": [],
   "source": [
    "two_ITEM.to_excel('ITEMData_clean.xlsx')"
   ]
  },
  {
   "cell_type": "markdown",
   "id": "trying-cosmetic",
   "metadata": {},
   "source": [
    "* reviewData 1차 클렌징\n",
    "=========================="
   ]
  },
  {
   "cell_type": "code",
   "execution_count": 15,
   "id": "advised-major",
   "metadata": {},
   "outputs": [],
   "source": [
    "Review = pd.read_excel(\"Reviewata_clean.xlsx\")"
   ]
  },
  {
   "cell_type": "markdown",
   "id": "twelve-contribution",
   "metadata": {},
   "source": [
    "* 평점 전처리"
   ]
  },
  {
   "cell_type": "code",
   "execution_count": 16,
   "id": "elegant-phrase",
   "metadata": {},
   "outputs": [],
   "source": [
    "Review[\"평점\"] = [str(x).replace('점','') for x in Review[\"평점\"]]"
   ]
  },
  {
   "cell_type": "markdown",
   "id": "classical-stranger",
   "metadata": {},
   "source": [
    "* 상품명 전처리(ITEM data와 같은 과정) "
   ]
  },
  {
   "cell_type": "code",
   "execution_count": 17,
   "id": "unavailable-primary",
   "metadata": {},
   "outputs": [],
   "source": [
    "i = 0\n",
    "A = []\n",
    "for i in range(57365):\n",
    "    A.append(Review[\"상품명\"][i].replace(\"[DAYONE LABEL]\",\"\").replace(\"[1+1]\",\"\").replace(\"[1+1♥]\",\"\").replace(\"[La belle rose]\",\"\")\n",
    "            .replace(\"기획특가♥\",\"\").replace(\"[기획특가]\",\"\").replace(\"[램스울30%]\",\"\").replace(\"[램스울50%]\",\"\").replace(\"7000장 돌파!\",\"\")\n",
    "            .replace(\"[램스울70%]\",\"\").replace(\"[silver92.5]\",\"\").replace(\"[울30%]\",\"\").replace(\"[울35%]\",\"\").replace(\"[울40%]\",\"\")\n",
    "            .replace(\"[울45%]\",\"\").replace(\"[울50%]\",\"\").replace(\"[울55%]\",\"\").replace(\"[울60%]\",\"\").replace(\"[울70%]\",\"\").replace(\"/\",\"\")\n",
    "            .replace(\"[울80%]\",\"\").replace(\"[울85%]\",\"\").replace(\"[울90%]\",\"\").replace(\"[울100%]\",\"\").replace(\"[캐시60%]\",\"\").replace(\"[La belle rose1+1♥]\",\"\")\n",
    "            .replace(\"단독)\",\"\").replace(\"[DAYOME LABEL]\",\"\").replace(\"[2만장돌파]\",\"\").replace(\"[La belle rose/1+1♥]\",\"\").replace(\"[15000장돌파]\",\"\"))\n",
    "    Review[\"상품명\"][i] = A[i]\n",
    "    i = i + 1"
   ]
  },
  {
   "cell_type": "code",
   "execution_count": 18,
   "id": "musical-quarterly",
   "metadata": {},
   "outputs": [],
   "source": [
    "Review[\"상품명\"] = [x.split('(')[0] for x in Review[\"상품명\"]]"
   ]
  },
  {
   "cell_type": "code",
   "execution_count": 19,
   "id": "italian-tamil",
   "metadata": {},
   "outputs": [
    {
     "data": {
      "text/html": [
       "<div>\n",
       "<style scoped>\n",
       "    .dataframe tbody tr th:only-of-type {\n",
       "        vertical-align: middle;\n",
       "    }\n",
       "\n",
       "    .dataframe tbody tr th {\n",
       "        vertical-align: top;\n",
       "    }\n",
       "\n",
       "    .dataframe thead th {\n",
       "        text-align: right;\n",
       "    }\n",
       "</style>\n",
       "<table border=\"1\" class=\"dataframe\">\n",
       "  <thead>\n",
       "    <tr style=\"text-align: right;\">\n",
       "      <th></th>\n",
       "      <th>Unnamed: 0</th>\n",
       "      <th>상품명</th>\n",
       "      <th>평점</th>\n",
       "      <th>리뷰내용</th>\n",
       "    </tr>\n",
       "  </thead>\n",
       "  <tbody>\n",
       "    <tr>\n",
       "      <th>0</th>\n",
       "      <td>13699</td>\n",
       "      <td>라벨르 베이직셔츠</td>\n",
       "      <td>5</td>\n",
       "      <td>두께도 적당하고 디자인 색감 다 맘에 들어오 \\n가격도 저렴하고 잘산것같아요!! 담...</td>\n",
       "    </tr>\n",
       "    <tr>\n",
       "      <th>1</th>\n",
       "      <td>13778</td>\n",
       "      <td>라벨르 베이직셔츠</td>\n",
       "      <td>4</td>\n",
       "      <td>딱 기본 셔츠하게 좋아요! 부들부들한데 너무 빳빳한 소재도 아닌게 딱 여리해보이고 ...</td>\n",
       "    </tr>\n",
       "    <tr>\n",
       "      <th>2</th>\n",
       "      <td>13970</td>\n",
       "      <td>라벨르 베이직셔츠</td>\n",
       "      <td>5</td>\n",
       "      <td>청바지에도 어울리고 슬랙스에도 어울리고 좋아요 !!</td>\n",
       "    </tr>\n",
       "    <tr>\n",
       "      <th>3</th>\n",
       "      <td>14169</td>\n",
       "      <td>라벨르 베이직셔츠</td>\n",
       "      <td>5</td>\n",
       "      <td>청바지에 입어도 예쁘고 치마랑 입어도 예뻐요!! 카라가 커서 기본템이어도 마냥 무난...</td>\n",
       "    </tr>\n",
       "    <tr>\n",
       "      <th>4</th>\n",
       "      <td>14903</td>\n",
       "      <td>라벨르 베이직셔츠</td>\n",
       "      <td>4</td>\n",
       "      <td>보들보들하니 딱 좋아용 ㅎ 소재 특성상 주름은 어쩔수 없지만 너무 예뻐요 자켓이랑 ...</td>\n",
       "    </tr>\n",
       "    <tr>\n",
       "      <th>...</th>\n",
       "      <td>...</td>\n",
       "      <td>...</td>\n",
       "      <td>...</td>\n",
       "      <td>...</td>\n",
       "    </tr>\n",
       "    <tr>\n",
       "      <th>57360</th>\n",
       "      <td>52139</td>\n",
       "      <td>힙스 조거팬츠</td>\n",
       "      <td>5</td>\n",
       "      <td>레깅스 말고도 편하게 입고 다닐만한 팬츠 찾고 있었어욤 \\n대만족 입니당</td>\n",
       "    </tr>\n",
       "    <tr>\n",
       "      <th>57361</th>\n",
       "      <td>53947</td>\n",
       "      <td>힙스 조거팬츠</td>\n",
       "      <td>5</td>\n",
       "      <td>착용감이 좋고 핏이 이뻐요 강추합니다\\n\\n\\n(2020-09-22 22:17:22...</td>\n",
       "    </tr>\n",
       "    <tr>\n",
       "      <th>57362</th>\n",
       "      <td>55343</td>\n",
       "      <td>힙스 조거팬츠</td>\n",
       "      <td>5</td>\n",
       "      <td>편하게 입기좋아요 티랑 같이구매했는데 딱이에요 편하고 핏도이뻐요</td>\n",
       "    </tr>\n",
       "    <tr>\n",
       "      <th>57363</th>\n",
       "      <td>55472</td>\n",
       "      <td>힙스 조거팬츠</td>\n",
       "      <td>5</td>\n",
       "      <td>편하게입고잇습니다~\\n\\n(2020-08-29 22:49:28 에 등록된 네이버 페...</td>\n",
       "    </tr>\n",
       "    <tr>\n",
       "      <th>57364</th>\n",
       "      <td>55476</td>\n",
       "      <td>힙스 조거팬츠</td>\n",
       "      <td>5</td>\n",
       "      <td>편해서 자주입고잇습니다\\n\\n(2020-08-29 22:51:14 에 등록된 네이버...</td>\n",
       "    </tr>\n",
       "  </tbody>\n",
       "</table>\n",
       "<p>57365 rows × 4 columns</p>\n",
       "</div>"
      ],
      "text/plain": [
       "       Unnamed: 0        상품명 평점  \\\n",
       "0           13699  라벨르 베이직셔츠  5   \n",
       "1           13778  라벨르 베이직셔츠  4   \n",
       "2           13970  라벨르 베이직셔츠  5   \n",
       "3           14169  라벨르 베이직셔츠  5   \n",
       "4           14903  라벨르 베이직셔츠  4   \n",
       "...           ...        ... ..   \n",
       "57360       52139    힙스 조거팬츠  5   \n",
       "57361       53947    힙스 조거팬츠  5   \n",
       "57362       55343    힙스 조거팬츠  5   \n",
       "57363       55472    힙스 조거팬츠  5   \n",
       "57364       55476    힙스 조거팬츠  5   \n",
       "\n",
       "                                                    리뷰내용  \n",
       "0      두께도 적당하고 디자인 색감 다 맘에 들어오 \\n가격도 저렴하고 잘산것같아요!! 담...  \n",
       "1      딱 기본 셔츠하게 좋아요! 부들부들한데 너무 빳빳한 소재도 아닌게 딱 여리해보이고 ...  \n",
       "2                           청바지에도 어울리고 슬랙스에도 어울리고 좋아요 !!  \n",
       "3      청바지에 입어도 예쁘고 치마랑 입어도 예뻐요!! 카라가 커서 기본템이어도 마냥 무난...  \n",
       "4      보들보들하니 딱 좋아용 ㅎ 소재 특성상 주름은 어쩔수 없지만 너무 예뻐요 자켓이랑 ...  \n",
       "...                                                  ...  \n",
       "57360           레깅스 말고도 편하게 입고 다닐만한 팬츠 찾고 있었어욤 \\n대만족 입니당  \n",
       "57361  착용감이 좋고 핏이 이뻐요 강추합니다\\n\\n\\n(2020-09-22 22:17:22...  \n",
       "57362               편하게 입기좋아요 티랑 같이구매했는데 딱이에요 편하고 핏도이뻐요   \n",
       "57363  편하게입고잇습니다~\\n\\n(2020-08-29 22:49:28 에 등록된 네이버 페...  \n",
       "57364  편해서 자주입고잇습니다\\n\\n(2020-08-29 22:51:14 에 등록된 네이버...  \n",
       "\n",
       "[57365 rows x 4 columns]"
      ]
     },
     "execution_count": 19,
     "metadata": {},
     "output_type": "execute_result"
    }
   ],
   "source": [
    "Review"
   ]
  },
  {
   "cell_type": "markdown",
   "id": "changing-action",
   "metadata": {},
   "source": [
    "review data 엑셀로 저장"
   ]
  },
  {
   "cell_type": "code",
   "execution_count": 323,
   "id": "bulgarian-collapse",
   "metadata": {},
   "outputs": [],
   "source": [
    "Review.to_excel('Reviewata_clean.xlsx')"
   ]
  }
 ],
 "metadata": {
  "kernelspec": {
   "display_name": "Python 3 (ipykernel)",
   "language": "python",
   "name": "python3"
  },
  "language_info": {
   "codemirror_mode": {
    "name": "ipython",
    "version": 3
   },
   "file_extension": ".py",
   "mimetype": "text/x-python",
   "name": "python",
   "nbconvert_exporter": "python",
   "pygments_lexer": "ipython3",
   "version": "3.7.10"
  }
 },
 "nbformat": 4,
 "nbformat_minor": 5
}
