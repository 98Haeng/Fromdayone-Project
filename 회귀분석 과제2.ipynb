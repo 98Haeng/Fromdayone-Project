{
 "cells": [
  {
   "cell_type": "code",
   "execution_count": 4,
   "metadata": {},
   "outputs": [
    {
     "name": "stdout",
     "output_type": "stream",
     "text": [
      "Collecting statsmodels\n",
      "  Downloading statsmodels-0.12.2-cp37-none-win_amd64.whl (9.3 MB)\n",
      "Requirement already satisfied: scipy>=1.1 in c:\\users\\alsrn\\appdata\\local\\programs\\python\\python37\\lib\\site-packages (from statsmodels) (1.6.1)\n",
      "Requirement already satisfied: pandas>=0.21 in c:\\users\\alsrn\\appdata\\local\\programs\\python\\python37\\lib\\site-packages (from statsmodels) (1.2.3)\n",
      "Collecting patsy>=0.5\n",
      "  Downloading patsy-0.5.1-py2.py3-none-any.whl (231 kB)\n",
      "Requirement already satisfied: numpy>=1.15 in c:\\users\\alsrn\\appdata\\local\\programs\\python\\python37\\lib\\site-packages (from statsmodels) (1.19.5)\n",
      "Requirement already satisfied: python-dateutil>=2.7.3 in c:\\users\\alsrn\\appdata\\local\\programs\\python\\python37\\lib\\site-packages (from pandas>=0.21->statsmodels) (2.8.1)\n",
      "Requirement already satisfied: pytz>=2017.3 in c:\\users\\alsrn\\appdata\\local\\programs\\python\\python37\\lib\\site-packages (from pandas>=0.21->statsmodels) (2021.1)\n",
      "Requirement already satisfied: six in c:\\users\\alsrn\\appdata\\local\\programs\\python\\python37\\lib\\site-packages (from patsy>=0.5->statsmodels) (1.15.0)\n",
      "Installing collected packages: patsy, statsmodels\n",
      "Successfully installed patsy-0.5.1 statsmodels-0.12.2\n",
      "Note: you may need to restart the kernel to use updated packages.\n"
     ]
    },
    {
     "name": "stderr",
     "output_type": "stream",
     "text": [
      "WARNING: You are using pip version 21.1.3; however, version 21.2.4 is available.\n",
      "You should consider upgrading via the 'c:\\users\\alsrn\\appdata\\local\\programs\\python\\python37\\python.exe -m pip install --upgrade pip' command.\n"
     ]
    }
   ],
   "source": [
    "%pip install statsmodels"
   ]
  },
  {
   "cell_type": "code",
   "execution_count": 258,
   "metadata": {},
   "outputs": [],
   "source": [
    "import pandas as pd\n",
    "import numpy as np\n",
    "import statsmodels.api as sm\n",
    "import statsmodels.formula.api as smf\n",
    "import warnings\n",
    "warnings.filterwarnings(action='ignore')"
   ]
  },
  {
   "cell_type": "code",
   "execution_count": 259,
   "metadata": {},
   "outputs": [],
   "source": [
    "Regression = pd.read_csv(\"C:/Users/alsrn/파이썬/지수산식회귀분석용.csv\")"
   ]
  },
  {
   "cell_type": "code",
   "execution_count": 260,
   "metadata": {
    "scrolled": true
   },
   "outputs": [
    {
     "data": {
      "text/plain": [
       "Index(['상품명', '매출액', '구매의사', '긍정확률', '환불수량', '욕망지표', '주문수', '긍정확률합', '평균긍정확률',\n",
       "       '평균평점', '신뢰도점수'],\n",
       "      dtype='object')"
      ]
     },
     "execution_count": 260,
     "metadata": {},
     "output_type": "execute_result"
    }
   ],
   "source": [
    "Regression.columns"
   ]
  },
  {
   "cell_type": "markdown",
   "metadata": {},
   "source": [
    "수치형데이터로 변환하기 위해 데이터타입 확인"
   ]
  },
  {
   "cell_type": "code",
   "execution_count": 261,
   "metadata": {},
   "outputs": [
    {
     "data": {
      "text/plain": [
       "상품명        object\n",
       "매출액        object\n",
       "구매의사        int64\n",
       "긍정확률      float64\n",
       "환불수량      float64\n",
       "욕망지표      float64\n",
       "주문수         int64\n",
       "긍정확률합     float64\n",
       "평균긍정확률    float64\n",
       "평균평점      float64\n",
       "신뢰도점수     float64\n",
       "dtype: object"
      ]
     },
     "execution_count": 261,
     "metadata": {},
     "output_type": "execute_result"
    }
   ],
   "source": [
    "Regression.dtypes"
   ]
  },
  {
   "cell_type": "markdown",
   "metadata": {},
   "source": [
    "수치형데이터확인"
   ]
  },
  {
   "cell_type": "code",
   "execution_count": 292,
   "metadata": {},
   "outputs": [],
   "source": [
    "Regre[\"매출액\"] = Regre[\"매출액\"].astype(int)"
   ]
  },
  {
   "cell_type": "code",
   "execution_count": 293,
   "metadata": {},
   "outputs": [],
   "source": [
    "Regre[\"긍정확률\"] = Regre[\"긍정확률\"].astype(float)"
   ]
  },
  {
   "cell_type": "code",
   "execution_count": 288,
   "metadata": {},
   "outputs": [],
   "source": [
    "Regression[\"매출액\"] = [str(x).replace(',','') for x in Regression[\"매출액\"]]"
   ]
  },
  {
   "cell_type": "markdown",
   "metadata": {},
   "source": [
    "* 결측값있는 행 지우기"
   ]
  },
  {
   "cell_type": "code",
   "execution_count": 289,
   "metadata": {
    "scrolled": true
   },
   "outputs": [],
   "source": [
    "Regre = Regression.dropna(axis = 0)"
   ]
  },
  {
   "cell_type": "markdown",
   "metadata": {},
   "source": [
    "이상치 지우기 위해 환불비율이 0, 2인 행 지우기"
   ]
  },
  {
   "cell_type": "code",
   "execution_count": 290,
   "metadata": {},
   "outputs": [],
   "source": [
    "Regre = Regre.drop(Regre[Regre[\"환불수량\"] == 0].index)"
   ]
  },
  {
   "cell_type": "code",
   "execution_count": 291,
   "metadata": {},
   "outputs": [],
   "source": [
    "Regre = Regre.drop(Regre[Regre[\"환불수량\"] == 2].index)"
   ]
  },
  {
   "cell_type": "code",
   "execution_count": 294,
   "metadata": {
    "scrolled": true
   },
   "outputs": [
    {
     "data": {
      "text/plain": [
       "상품명        object\n",
       "매출액         int32\n",
       "구매의사        int64\n",
       "긍정확률      float64\n",
       "환불수량      float64\n",
       "욕망지표      float64\n",
       "주문수         int64\n",
       "긍정확률합     float64\n",
       "평균긍정확률    float64\n",
       "평균평점      float64\n",
       "신뢰도점수     float64\n",
       "dtype: object"
      ]
     },
     "execution_count": 294,
     "metadata": {},
     "output_type": "execute_result"
    }
   ],
   "source": [
    "Regre.dtypes"
   ]
  },
  {
   "cell_type": "code",
   "execution_count": 295,
   "metadata": {},
   "outputs": [
    {
     "data": {
      "text/plain": [
       "<AxesSubplot:xlabel='매출액', ylabel='환불수량'>"
      ]
     },
     "execution_count": 295,
     "metadata": {},
     "output_type": "execute_result"
    },
    {
     "data": {
      "image/png": "[encoded data removed]",
      "text/plain": [
       "<Figure size 432x288 with 1 Axes>"
      ]
     },
     "metadata": {
      "needs_background": "light"
     },
     "output_type": "display_data"
    }
   ],
   "source": [
    "sns.regplot(Regre['매출액'][30:],Regre['환불수량'][30:], lowess=True)"
   ]
  },
  {
   "cell_type": "code",
   "execution_count": 296,
   "metadata": {
    "scrolled": true
   },
   "outputs": [
    {
     "data": {
      "text/plain": [
       "<AxesSubplot:xlabel='매출액', ylabel='신뢰도점수'>"
      ]
     },
     "execution_count": 296,
     "metadata": {},
     "output_type": "execute_result"
    },
    {
     "data": {
      "image/png": "[encoded data removed]",
      "text/plain": [
       "<Figure size 432x288 with 1 Axes>"
      ]
     },
     "metadata": {
      "needs_background": "light"
     },
     "output_type": "display_data"
    }
   ],
   "source": [
    "sns.regplot('매출액', '신뢰도점수', lowess=True, data = Regre)"
   ]
  },
  {
   "cell_type": "markdown",
   "metadata": {},
   "source": [
    "* 선형성 확인후 회귀분석 시작"
   ]
  },
  {
   "cell_type": "code",
   "execution_count": 297,
   "metadata": {},
   "outputs": [],
   "source": [
    "x_data = Regre[[\"신뢰도점수\",\"환불수량\"]] #X1 X2\n",
    "target = Regre[[\"매출액\"]]# Y1"
   ]
  },
  {
   "cell_type": "code",
   "execution_count": 298,
   "metadata": {},
   "outputs": [],
   "source": [
    "x_data1 = sm.add_constant(x_data, has_constant = \"add\")"
   ]
  },
  {
   "cell_type": "code",
   "execution_count": 299,
   "metadata": {},
   "outputs": [
    {
     "data": {
      "text/html": [
       "<table class=\"simpletable\">\n",
       "<caption>OLS Regression Results</caption>\n",
       "<tr>\n",
       "  <th>Dep. Variable:</th>           <td>매출액</td>       <th>  R-squared:         </th> <td>   0.657</td>\n",
       "</tr>\n",
       "<tr>\n",
       "  <th>Model:</th>                   <td>OLS</td>       <th>  Adj. R-squared:    </th> <td>   0.651</td>\n",
       "</tr>\n",
       "<tr>\n",
       "  <th>Method:</th>             <td>Least Squares</td>  <th>  F-statistic:       </th> <td>   105.4</td>\n",
       "</tr>\n",
       "<tr>\n",
       "  <th>Date:</th>             <td>Wed, 18 Aug 2021</td> <th>  Prob (F-statistic):</th> <td>2.69e-26</td>\n",
       "</tr>\n",
       "<tr>\n",
       "  <th>Time:</th>                 <td>14:22:13</td>     <th>  Log-Likelihood:    </th> <td> -1582.4</td>\n",
       "</tr>\n",
       "<tr>\n",
       "  <th>No. Observations:</th>      <td>   113</td>      <th>  AIC:               </th> <td>   3171.</td>\n",
       "</tr>\n",
       "<tr>\n",
       "  <th>Df Residuals:</th>          <td>   110</td>      <th>  BIC:               </th> <td>   3179.</td>\n",
       "</tr>\n",
       "<tr>\n",
       "  <th>Df Model:</th>              <td>     2</td>      <th>                     </th>     <td> </td>   \n",
       "</tr>\n",
       "<tr>\n",
       "  <th>Covariance Type:</th>      <td>nonrobust</td>    <th>                     </th>     <td> </td>   \n",
       "</tr>\n",
       "</table>\n",
       "<table class=\"simpletable\">\n",
       "<tr>\n",
       "    <td></td>       <th>coef</th>     <th>std err</th>      <th>t</th>      <th>P>|t|</th>  <th>[0.025</th>    <th>0.975]</th>  \n",
       "</tr>\n",
       "<tr>\n",
       "  <th>const</th> <td>  1.12e+05</td> <td> 5.52e+04</td> <td>    2.030</td> <td> 0.045</td> <td> 2638.675</td> <td> 2.21e+05</td>\n",
       "</tr>\n",
       "<tr>\n",
       "  <th>신뢰도점수</th> <td> 4527.9965</td> <td>  355.955</td> <td>   12.721</td> <td> 0.000</td> <td> 3822.578</td> <td> 5233.415</td>\n",
       "</tr>\n",
       "<tr>\n",
       "  <th>환불수량</th>  <td>-1.654e+05</td> <td> 9.32e+04</td> <td>   -1.775</td> <td> 0.079</td> <td> -3.5e+05</td> <td> 1.93e+04</td>\n",
       "</tr>\n",
       "</table>\n",
       "<table class=\"simpletable\">\n",
       "<tr>\n",
       "  <th>Omnibus:</th>       <td>184.097</td> <th>  Durbin-Watson:     </th> <td>   1.325</td> \n",
       "</tr>\n",
       "<tr>\n",
       "  <th>Prob(Omnibus):</th> <td> 0.000</td>  <th>  Jarque-Bera (JB):  </th> <td>14683.592</td>\n",
       "</tr>\n",
       "<tr>\n",
       "  <th>Skew:</th>          <td> 6.376</td>  <th>  Prob(JB):          </th> <td>    0.00</td> \n",
       "</tr>\n",
       "<tr>\n",
       "  <th>Kurtosis:</th>      <td>57.369</td>  <th>  Cond. No.          </th> <td>    378.</td> \n",
       "</tr>\n",
       "</table><br/><br/>Notes:<br/>[1] Standard Errors assume that the covariance matrix of the errors is correctly specified."
      ],
      "text/plain": [
       "<class 'statsmodels.iolib.summary.Summary'>\n",
       "\"\"\"\n",
       "                            OLS Regression Results                            \n",
       "==============================================================================\n",
       "Dep. Variable:                    매출액   R-squared:                       0.657\n",
       "Model:                            OLS   Adj. R-squared:                  0.651\n",
       "Method:                 Least Squares   F-statistic:                     105.4\n",
       "Date:                Wed, 18 Aug 2021   Prob (F-statistic):           2.69e-26\n",
       "Time:                        14:22:13   Log-Likelihood:                -1582.4\n",
       "No. Observations:                 113   AIC:                             3171.\n",
       "Df Residuals:                     110   BIC:                             3179.\n",
       "Df Model:                           2                                         \n",
       "Covariance Type:            nonrobust                                         \n",
       "==============================================================================\n",
       "                 coef    std err          t      P>|t|      [0.025      0.975]\n",
       "------------------------------------------------------------------------------\n",
       "const        1.12e+05   5.52e+04      2.030      0.045    2638.675    2.21e+05\n",
       "신뢰도점수       4527.9965    355.955     12.721      0.000    3822.578    5233.415\n",
       "환불수량       -1.654e+05   9.32e+04     -1.775      0.079    -3.5e+05    1.93e+04\n",
       "==============================================================================\n",
       "Omnibus:                      184.097   Durbin-Watson:                   1.325\n",
       "Prob(Omnibus):                  0.000   Jarque-Bera (JB):            14683.592\n",
       "Skew:                           6.376   Prob(JB):                         0.00\n",
       "Kurtosis:                      57.369   Cond. No.                         378.\n",
       "==============================================================================\n",
       "\n",
       "Notes:\n",
       "[1] Standard Errors assume that the covariance matrix of the errors is correctly specified.\n",
       "\"\"\""
      ]
     },
     "execution_count": 299,
     "metadata": {},
     "output_type": "execute_result"
    }
   ],
   "source": [
    "multi_model = sm.OLS(target, x_data1)\n",
    "fitted_multi_model = multi_model.fit()\n",
    "fitted_multi_model.summary()"
   ]
  },
  {
   "cell_type": "markdown",
   "metadata": {},
   "source": [
    "* 각 변수의 계수 확인"
   ]
  },
  {
   "cell_type": "code",
   "execution_count": 246,
   "metadata": {},
   "outputs": [
    {
     "data": {
      "text/plain": [
       "const     6373.509412\n",
       "구매의사     22370.531017\n",
       "긍정확률      8657.789026\n",
       "환불수량    -13571.114631\n",
       "욕망지표     -1830.842730\n",
       "dtype: float64"
      ]
     },
     "execution_count": 246,
     "metadata": {},
     "output_type": "execute_result"
    }
   ],
   "source": [
    "fitted_multi_model.params"
   ]
  },
  {
   "cell_type": "markdown",
   "metadata": {},
   "source": [
    "* 각 변수들끼리 상관성 확인"
   ]
  },
  {
   "cell_type": "code",
   "execution_count": 167,
   "metadata": {},
   "outputs": [
    {
     "data": {
      "text/html": [
       "<div>\n",
       "<style scoped>\n",
       "    .dataframe tbody tr th:only-of-type {\n",
       "        vertical-align: middle;\n",
       "    }\n",
       "\n",
       "    .dataframe tbody tr th {\n",
       "        vertical-align: top;\n",
       "    }\n",
       "\n",
       "    .dataframe thead th {\n",
       "        text-align: right;\n",
       "    }\n",
       "</style>\n",
       "<table border=\"1\" class=\"dataframe\">\n",
       "  <thead>\n",
       "    <tr style=\"text-align: right;\">\n",
       "      <th></th>\n",
       "      <th>구매의사</th>\n",
       "      <th>긍정확률</th>\n",
       "      <th>환불수량</th>\n",
       "    </tr>\n",
       "  </thead>\n",
       "  <tbody>\n",
       "    <tr>\n",
       "      <th>구매의사</th>\n",
       "      <td>1.000000</td>\n",
       "      <td>0.028570</td>\n",
       "      <td>-0.031673</td>\n",
       "    </tr>\n",
       "    <tr>\n",
       "      <th>긍정확률</th>\n",
       "      <td>0.028570</td>\n",
       "      <td>1.000000</td>\n",
       "      <td>0.049035</td>\n",
       "    </tr>\n",
       "    <tr>\n",
       "      <th>환불수량</th>\n",
       "      <td>-0.031673</td>\n",
       "      <td>0.049035</td>\n",
       "      <td>1.000000</td>\n",
       "    </tr>\n",
       "  </tbody>\n",
       "</table>\n",
       "</div>"
      ],
      "text/plain": [
       "          구매의사      긍정확률      환불수량\n",
       "구매의사  1.000000  0.028570 -0.031673\n",
       "긍정확률  0.028570  1.000000  0.049035\n",
       "환불수량 -0.031673  0.049035  1.000000"
      ]
     },
     "execution_count": 167,
     "metadata": {},
     "output_type": "execute_result"
    }
   ],
   "source": [
    "x_data2.corr()"
   ]
  }
 ],
 "metadata": {
  "kernelspec": {
   "display_name": "Python 3",
   "language": "python",
   "name": "python3"
  },
  "language_info": {
   "codemirror_mode": {
    "name": "ipython",
    "version": 3
   },
   "file_extension": ".py",
   "mimetype": "text/x-python",
   "name": "python",
   "nbconvert_exporter": "python",
   "pygments_lexer": "ipython3",
   "version": "3.8.5"
  }
 },
 "nbformat": 4,
 "nbformat_minor": 5
}
